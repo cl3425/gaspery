{
 "cells": [
  {
   "cell_type": "markdown",
   "id": "28ad8c9b-557f-4ec5-aec5-0276dff5e422",
   "metadata": {},
   "source": [
    "### Take time series, associated RV measurement uncertainties, and planet orbital parameters and calculate the generalized (aka expected) Fisher Information Matrix (FIM)"
   ]
  },
  {
   "cell_type": "markdown",
   "id": "17fc72fd-5cca-42fd-b20a-35823d878e0c",
   "metadata": {},
   "source": [
    "Let's start with the most trivial case of circular orbit and white noise"
   ]
  },
  {
   "cell_type": "code",
   "execution_count": 168,
   "id": "5cd695a0-5907-48e5-a16c-f9a489fc1cf6",
   "metadata": {},
   "outputs": [
    {
     "name": "stdout",
     "output_type": "stream",
     "text": [
      "1.22.3\n",
      "1.7.3\n"
     ]
    }
   ],
   "source": [
    "import numpy as np \n",
    "import scipy\n",
    "print(np.__version__)\n",
    "print(scipy.__version__)\n",
    "\n",
    "import pandas as pd\n",
    "import exoplanet\n",
    "import astropy \n",
    "import pymc3\n",
    "import pymc3_ext\n",
    "import celerite2\n",
    "from numpy.linalg import inv, det\n",
    "from tqdm import tqdm\n",
    "import timeit\n",
    "\n",
    "import matplotlib.pyplot as plt\n",
    "\n",
    "import jax\n",
    "import jax.numpy as jnp\n",
    "from jax import grad, jit, vmap\n",
    "from jax import random"
   ]
  },
  {
   "cell_type": "code",
   "execution_count": 169,
   "id": "d7881a1b-c48f-4ba4-87f4-2ecdc5ad942d",
   "metadata": {},
   "outputs": [
    {
     "name": "stdout",
     "output_type": "stream",
     "text": [
      "2.220446049250313e-16\n",
      "15\n",
      "15\n",
      "18\n"
     ]
    }
   ],
   "source": [
    "print(np.finfo(float).eps) # machine epsilon for float\n",
    "print(np.finfo(float).precision) \n",
    "print(np.finfo(np.double).precision) \n",
    "print(np.finfo(np.longdouble).precision) "
   ]
  },
  {
   "cell_type": "code",
   "execution_count": 170,
   "id": "efac4c67-a8b9-4bb1-a18c-277ec80d751c",
   "metadata": {},
   "outputs": [],
   "source": [
    "def partial_mu(t, theta, wrt):\n",
    "    \"\"\"\n",
    "    Unpack parameters and calculate all partial derivatives of the model w.r.t. those parameters\n",
    "    \n",
    "    Inputs: \n",
    "    - t: time series of length N observations; np.array [day]\n",
    "    - theta: planet orbital parameters; eg. [K, P, T0]; np.array\n",
    "    - wrt: parameter with respect to which the model's partial derivative is taken\n",
    "    \n",
    "    theta breakdown:\n",
    "    - K: RV semi-amplitude [cm/s]\n",
    "    - P: planet period [days]\n",
    "    - T0: mean transit time [day]\n",
    "    \n",
    "    Output:\n",
    "    - derivative vector of length N\n",
    "    \"\"\"\n",
    "\n",
    "    # unpack parameters\n",
    "    K, P, T0 = theta[0], theta[1], theta[2]\n",
    "    \n",
    "    # calculate partial derivative depending on 'wrt'\n",
    "    normalized_t = t-T0\n",
    "    arg = (2*np.pi/P) * normalized_t\n",
    "    \n",
    "    if wrt=='K':\n",
    "        return -np.sin(arg)\n",
    "    elif wrt=='P':\n",
    "        return K * np.cos(arg) * arg/P\n",
    "    elif wrt=='T0':\n",
    "        return (2*np.pi*K/P) * np.cos(arg)\n",
    "    \n",
    "    print(\"parameter not recognized\")\n",
    "    \n",
    "    return                                                                                                                                                                                                                                                                                                                                                                                                                                                                                                                                                                                  \n",
    "\n",
    "def calculate_fim(t, sigma, theta):\n",
    "    \"\"\"\n",
    "    Calculate the generalized Fisher Information Matrix according to I_m,n in \n",
    "    https://en.wikipedia.org/wiki/Fisher_information#Multivariate_normal_distribution\n",
    "    \n",
    "    Inputs: \n",
    "    - t: time series of length N observations; np.array [day]\n",
    "    - sigma: RV measurement uncertainties associated with each observation; np.array of length N [cm/s]\n",
    "    - theta: planet orbital parameters; eg. [K, P, T0]; np.array\n",
    "    \n",
    "    theta breakdown:\n",
    "    - K: RV semi-amplitude [cm/s]\n",
    "    - P: planet period [days]\n",
    "    - T0: mean transit time [day]\n",
    "    \n",
    "    Output:\n",
    "    - Fisher Information Matrix: len(theta)xlen(theta) matrix; np.array\n",
    "    \n",
    "    \"\"\"\n",
    "\n",
    "    #print(\"partial mu, partial K: \", partial_mu(t, theta, 'K'))\n",
    "    #print(\"partial mu, partial P: \", partial_mu(t, theta, 'P'))\n",
    "    #print(\"partial mu, partial T0: \", partial_mu(t, theta, 'T0'))\n",
    "    factor2 = 1/sigma**2\n",
    "    factor2[factor2 == np.inf] = 0 \n",
    "    \n",
    "    fim = np.zeros((len(theta),len(theta)))\n",
    "    \n",
    "    for i in range(len(theta)):\n",
    "        for j in range(len(theta)):\n",
    "            #param_i = theta[i]\n",
    "            #param_j = theta[j]\n",
    "            wrt_i = param_list[i]\n",
    "            wrt_j = param_list[j]\n",
    "            \n",
    "            factor1 = partial_mu(t, theta, wrt_i)#.reshape((1,4)) # partial derivative of the model wrt row parameter, transposed\n",
    "            #print(factor1)\n",
    "            ###factor2 = 1/sigma**2 # inverse of covariance matrix (or just the RV variance if held constant)\n",
    "            ###factor2[factor2 == np.inf] = 0 # turn infs into zeros (shouldn't it be nans?)\n",
    "            #print(factor2)\n",
    "            factor3 = partial_mu(t, theta, wrt_j)#.reshape((4,1)) # partial derivative of the model wrt column parameter\n",
    "            #print(factor3)\n",
    "            #print(\"shapes: \", factor1.shape, factor2.shape, factor3.shape)\n",
    "            #print(np.dot(np.dot(factor1, factor2), factor3))\n",
    "            \n",
    "            fim[i][j] = np.dot(np.dot(factor1, factor2), factor3)\n",
    "    \n",
    "    return fim\n",
    "\n",
    "def calculate_fim_faster(t, sigma, theta):\n",
    "    \"\"\"\n",
    "    Calculate the generalized Fisher Information Matrix by calculating partial derivatives only once\n",
    "    and then plugging them into the right places. \n",
    "    \n",
    "    Inputs: \n",
    "    - t: time series of length N observations; np.array [day]\n",
    "    - sigma: RV measurement uncertainties associated with each observation; np.array of length N [cm/s]\n",
    "    - theta: planet orbital parameters; eg. [K, P, T0]; np.array\n",
    "    \n",
    "    theta breakdown:\n",
    "    - K: RV semi-amplitude [cm/s]\n",
    "    - P: planet period [days]\n",
    "    - T0: mean transit time [day]\n",
    "    \n",
    "    Output:\n",
    "    - Fisher Information Matrix: len(theta)xlen(theta) matrix; np.array\n",
    "    \n",
    "    \"\"\"\n",
    "    \n",
    "    factor2 = 1/sigma**2\n",
    "    factor2[factor2 == np.inf] = 0 \n",
    "    \n",
    "    partial_k = partial_mu(t, theta, 'K')\n",
    "    partial_p = partial_mu(t, theta, 'P')\n",
    "    partial_t = partial_mu(t, theta, 'T0')\n",
    "    \n",
    "    fim = np.zeros((len(theta),len(theta)))\n",
    "    \n",
    "    for i in range(len(theta)):\n",
    "        wrt_i = param_list[i]\n",
    "        if wrt_i=='K':\n",
    "            factor1 = partial_k\n",
    "        elif wrt_i=='P':\n",
    "            factor1 = partial_p\n",
    "        elif wrt_i=='T0':\n",
    "            factor1 = partial_t\n",
    "        \n",
    "        for j in range(len(theta)):\n",
    "            wrt_j = param_list[j]\n",
    "            if wrt_j=='K':\n",
    "                factor3 = partial_k\n",
    "            elif wrt_j=='P':\n",
    "                factor3 = partial_p\n",
    "            elif wrt_j=='T0':\n",
    "                factor3 = partial_t\n",
    "                            \n",
    "            fim[i][j] = np.dot(np.dot(factor1, factor2), factor3)\n",
    "    \n",
    "    return fim\n",
    "\n",
    "def calculate_fim_array(t, sigma, theta):\n",
    "    \"\"\"\n",
    "    Calculate the generalized Fisher Information Matrix using np.stack instead of nested for loop\n",
    "    \n",
    "    Inputs: \n",
    "    - t: time series of length N observations; np.array [day]\n",
    "    - sigma: RV measurement uncertainties associated with each observation; np.array of length N [cm/s]\n",
    "    - theta: planet orbital parameters; eg. [K, P, T0]; np.array\n",
    "    \n",
    "    theta breakdown:\n",
    "    - K: RV semi-amplitude [cm/s]\n",
    "    - P: planet period [days]\n",
    "    - T0: mean transit time [day]\n",
    "    \n",
    "    Output:\n",
    "    - Fisher Information Matrix: len(theta)xlen(theta) matrix; np.array\n",
    "    \n",
    "    \"\"\"\n",
    "    \n",
    "    factor2 = 1/sigma**2\n",
    "    factor2[factor2 == np.inf] = 0 \n",
    "    \n",
    "    partial_k = partial_mu(t, theta, 'K')\n",
    "    partial_p = partial_mu(t, theta, 'P')\n",
    "    partial_t = partial_mu(t, theta, 'T0')\n",
    "    \n",
    "    #print(np.dot(np.dot(partial_k, factor2), partial_k))\n",
    "    #print(np.array([np.dot(np.dot(partial_k, factor2), partial_k), np.dot(np.dot(partial_k, factor2), partial_p), np.dot(np.dot(partial_k, factor2), partial_t)]))\n",
    "    \n",
    "    fim = np.stack([np.array([np.dot(np.dot(partial_k, factor2), partial_k), np.dot(np.dot(partial_k, factor2), partial_p), np.dot(np.dot(partial_k, factor2), partial_t)]),\n",
    "                  np.array([np.dot(np.dot(partial_p, factor2), partial_k), np.dot(np.dot(partial_p, factor2), partial_p), np.dot(np.dot(partial_p, factor2), partial_t)]),\n",
    "                  np.array([np.dot(np.dot(partial_t, factor2), partial_k), np.dot(np.dot(partial_t, factor2), partial_p), np.dot(np.dot(partial_t, factor2), partial_t)])])\n",
    "    \n",
    "    return fim\n"
   ]
  },
  {
   "cell_type": "code",
   "execution_count": 171,
   "id": "59f58f13-921c-408d-affa-31b78160b2a9",
   "metadata": {},
   "outputs": [
    {
     "ename": "ValueError",
     "evalue": "setting an array element with a sequence.",
     "output_type": "error",
     "traceback": [
      "\u001b[0;31m---------------------------------------------------------------------------\u001b[0m",
      "\u001b[0;31mTypeError\u001b[0m                                 Traceback (most recent call last)",
      "\u001b[0;31mTypeError\u001b[0m: only size-1 arrays can be converted to Python scalars",
      "\nThe above exception was the direct cause of the following exception:\n",
      "\u001b[0;31mValueError\u001b[0m                                Traceback (most recent call last)",
      "Input \u001b[0;32mIn [171]\u001b[0m, in \u001b[0;36m<cell line: 1>\u001b[0;34m()\u001b[0m\n\u001b[0;32m----> 1\u001b[0m \u001b[38;5;28mprint\u001b[39m(\u001b[43mcalculate_fim\u001b[49m\u001b[43m(\u001b[49m\u001b[43mtest_t\u001b[49m\u001b[43m,\u001b[49m\u001b[43m \u001b[49m\u001b[43mtest_sigma\u001b[49m\u001b[43m,\u001b[49m\u001b[43m \u001b[49m\u001b[43mtest_theta\u001b[49m\u001b[43m)\u001b[49m)\n\u001b[1;32m      2\u001b[0m \u001b[38;5;28mprint\u001b[39m(calculate_fim_faster(test_t, test_sigma, test_theta))\n\u001b[1;32m      3\u001b[0m \u001b[38;5;28mprint\u001b[39m(calculate_fim_array(test_t, test_sigma, test_theta))\n",
      "Input \u001b[0;32mIn [170]\u001b[0m, in \u001b[0;36mcalculate_fim\u001b[0;34m(t, sigma, theta)\u001b[0m\n\u001b[1;32m     77\u001b[0m         factor3 \u001b[38;5;241m=\u001b[39m partial_mu(t, theta, wrt_j)\u001b[38;5;66;03m#.reshape((4,1)) # partial derivative of the model wrt column parameter\u001b[39;00m\n\u001b[1;32m     78\u001b[0m         \u001b[38;5;66;03m#print(factor3)\u001b[39;00m\n\u001b[1;32m     79\u001b[0m         \u001b[38;5;66;03m#print(\"shapes: \", factor1.shape, factor2.shape, factor3.shape)\u001b[39;00m\n\u001b[1;32m     80\u001b[0m         \u001b[38;5;66;03m#print(np.dot(np.dot(factor1, factor2), factor3))\u001b[39;00m\n\u001b[0;32m---> 82\u001b[0m         fim[i][j] \u001b[38;5;241m=\u001b[39m np\u001b[38;5;241m.\u001b[39mdot(np\u001b[38;5;241m.\u001b[39mdot(factor1, factor2), factor3)\n\u001b[1;32m     84\u001b[0m \u001b[38;5;28;01mreturn\u001b[39;00m fim\n",
      "\u001b[0;31mValueError\u001b[0m: setting an array element with a sequence."
     ]
    }
   ],
   "source": [
    "print(calculate_fim(test_t, test_sigma, test_theta))\n",
    "print(calculate_fim_faster(test_t, test_sigma, test_theta))\n",
    "print(calculate_fim_array(test_t, test_sigma, test_theta))"
   ]
  },
  {
   "cell_type": "code",
   "execution_count": 169,
   "id": "24c3b832-293a-4349-8bb0-06489d6f86ad",
   "metadata": {},
   "outputs": [
    {
     "name": "stderr",
     "output_type": "stream",
     "text": [
      "/var/folders/h2/sp_lfvz5515bhg_y92psw7f80000gn/T/ipykernel_20656/3682990251.py:60: RuntimeWarning: divide by zero encountered in true_divide\n",
      "  factor2 = 1/sigma**2\n"
     ]
    },
    {
     "name": "stdout",
     "output_type": "stream",
     "text": [
      "nested for loop:  16.865128457953688\n"
     ]
    },
    {
     "name": "stderr",
     "output_type": "stream",
     "text": [
      "/var/folders/h2/sp_lfvz5515bhg_y92psw7f80000gn/T/ipykernel_20656/49658345.py:88: RuntimeWarning: divide by zero encountered in true_divide\n",
      "  factor2 = 1/sigma**2\n"
     ]
    },
    {
     "name": "stdout",
     "output_type": "stream",
     "text": [
      "nested for loop but only calculating once:  7.264676249993499\n"
     ]
    },
    {
     "name": "stderr",
     "output_type": "stream",
     "text": [
      "/var/folders/h2/sp_lfvz5515bhg_y92psw7f80000gn/T/ipykernel_20656/3682990251.py:121: RuntimeWarning: divide by zero encountered in true_divide\n",
      "  factor2 = 1/sigma**2\n"
     ]
    },
    {
     "name": "stdout",
     "output_type": "stream",
     "text": [
      "array, and only calculating once:  7.556727958028205\n"
     ]
    }
   ],
   "source": [
    "print(\"nested for loop: \", timeit.timeit(\"calculate_fim(test_t, test_sigma, test_theta)\", globals=globals(), number=100000))\n",
    "print(\"nested for loop but only calculating once: \", timeit.timeit(\"calculate_fim2(test_t, test_sigma, test_theta)\", globals=globals(), number=100000))\n",
    "print(\"array, and only calculating once: \", timeit.timeit(\"calculate_fim_array(test_t, test_sigma, test_theta)\", globals=globals(), number=100000))\n"
   ]
  },
  {
   "cell_type": "markdown",
   "id": "37e77b3f-2644-44b1-97ca-c5d1087e3743",
   "metadata": {},
   "source": [
    "Let's try some test observations and planetary orbital parameters."
   ]
  },
  {
   "cell_type": "code",
   "execution_count": 5,
   "id": "0c41dab6-a08a-43fb-9573-019118626e45",
   "metadata": {},
   "outputs": [
    {
     "name": "stdout",
     "output_type": "stream",
     "text": [
      "(4,) (4, 4)\n"
     ]
    }
   ],
   "source": [
    "param_list = ['K','P','T0']\n",
    "\n",
    "test_t = np.array([2340, 2350, 2380, 2400]) # in Barycentric Julian Dates\n",
    "#test_t = np.array([2340, 2350, 2360, 2380]) # in Barycentric Julian Dates\n",
    "#test_t = np.linspace(2340, 2380, 41) # in Barycentric Julian Dates\n",
    "\n",
    "test_T0 = 2360 # BJD\n",
    "test_K = 500 # 5 m/s to cm/s\n",
    "test_P = 10 # days\n",
    "test_sigma = np.diag(np.ones(len(test_t))*30) # cm/s\n",
    "print(test_t.shape, test_sigma.shape)\n"
   ]
  },
  {
   "cell_type": "code",
   "execution_count": 7,
   "id": "caf706ef-381d-477e-95f4-df0a7e99fea2",
   "metadata": {},
   "outputs": [
    {
     "name": "stderr",
     "output_type": "stream",
     "text": [
      "/var/folders/h2/sp_lfvz5515bhg_y92psw7f80000gn/T/ipykernel_47798/4164931805.py:60: RuntimeWarning: divide by zero encountered in true_divide\n",
      "  factor2 = 1/sigma**2\n"
     ]
    },
    {
     "data": {
      "text/plain": [
       "array([[1.66639976e-33, 2.13741188e-15, 2.56489426e-16],\n",
       "       [2.13741188e-15, 2.74155678e+03, 3.28986813e+02],\n",
       "       [2.56489426e-16, 3.28986813e+02, 4.38649084e+02]])"
      ]
     },
     "execution_count": 7,
     "metadata": {},
     "output_type": "execute_result"
    }
   ],
   "source": [
    "test_theta = [test_K, test_P, test_T0]\n",
    "calculate_fim(test_t, test_sigma, test_theta)"
   ]
  },
  {
   "cell_type": "code",
   "execution_count": 6,
   "id": "643be50b-7939-4add-9c22-77cb59838272",
   "metadata": {},
   "outputs": [
    {
     "name": "stderr",
     "output_type": "stream",
     "text": [
      "/tmp/ipykernel_3002366/564434563.py:60: RuntimeWarning: divide by zero encountered in true_divide\n",
      "  factor2 = 1/sigma**2\n"
     ]
    },
    {
     "data": {
      "text/plain": [
       "1.666399758513175e-33"
      ]
     },
     "execution_count": 6,
     "metadata": {},
     "output_type": "execute_result"
    }
   ],
   "source": [
    "calculate_fim(test_t, test_sigma, test_theta)[0][0]"
   ]
  },
  {
   "cell_type": "code",
   "execution_count": 7,
   "id": "e4ced312-ef6c-42d3-8022-8238138bd4fa",
   "metadata": {},
   "outputs": [
    {
     "name": "stderr",
     "output_type": "stream",
     "text": [
      "/tmp/ipykernel_3002366/564434563.py:60: RuntimeWarning: divide by zero encountered in true_divide\n",
      "  factor2 = 1/sigma**2\n"
     ]
    },
    {
     "data": {
      "text/plain": [
       "-3.3652495654758422e-43"
      ]
     },
     "execution_count": 7,
     "metadata": {},
     "output_type": "execute_result"
    }
   ],
   "source": [
    "det(calculate_fim(test_t, test_sigma, test_theta))"
   ]
  },
  {
   "cell_type": "code",
   "execution_count": 8,
   "id": "75618d6f-2324-4443-9673-0a409287de16",
   "metadata": {},
   "outputs": [
    {
     "name": "stderr",
     "output_type": "stream",
     "text": [
      "/tmp/ipykernel_3002366/564434563.py:60: RuntimeWarning: divide by zero encountered in true_divide\n",
      "  factor2 = 1/sigma**2\n"
     ]
    },
    {
     "data": {
      "text/plain": [
       "array([[-3.25191052e+48, -2.53530120e+30,  1.60664679e+13],\n",
       "       [-2.53530120e+30, -1.97660795e+12,  3.13149263e-04],\n",
       "       [ 0.00000000e+00,  3.00623292e-04,  2.50519410e-03]])"
      ]
     },
     "execution_count": 8,
     "metadata": {},
     "output_type": "execute_result"
    }
   ],
   "source": [
    "inv(calculate_fim(test_t, test_sigma, test_theta))"
   ]
  },
  {
   "cell_type": "markdown",
   "id": "9e9d7660-0c96-4c76-90e7-199b032295d6",
   "metadata": {},
   "source": [
    "### What happens to the expected uncertainty on K when you incrementally add observations? \n",
    "\n",
    "${{\\sigma}_k}^2$ is the top-leftmost cell of the inverse of the FIM. The second diagonal term is ${{\\sigma}_P}^2$, and so forth. The off-diagonals contain information about the uncertainties on our uncertainties for each parameter pair, but we will ignore those for now(/forever) because our priors on P and T0 from TESS will be quite strong. "
   ]
  },
  {
   "cell_type": "markdown",
   "id": "c549f8b6-adf4-4428-b84e-1954bb40c93b",
   "metadata": {},
   "source": [
    "For reference:\n",
    "\n",
    "K = 10 cm/s is gold standard. As an upper bound for K, try up to 100 m/s if I only have 10 observations. \n",
    "\n",
    "As for N_obs, there are standard stars with 1000s of observations. But 100 would be our upper limit for TESS stars. "
   ]
  },
  {
   "cell_type": "code",
   "execution_count": 105,
   "id": "a0d690bd-ea8a-416b-9537-501f7d96f5e9",
   "metadata": {},
   "outputs": [
    {
     "name": "stderr",
     "output_type": "stream",
     "text": [
      "  0%|                                                                                                                                               | 0/100 [00:00<?, ?it/s]/var/folders/h2/sp_lfvz5515bhg_y92psw7f80000gn/T/ipykernel_20656/4155203827.py:60: RuntimeWarning: divide by zero encountered in true_divide\n",
      "  factor2 = 1/sigma**2\n",
      "/var/folders/h2/sp_lfvz5515bhg_y92psw7f80000gn/T/ipykernel_20656/686824180.py:30: RuntimeWarning: invalid value encountered in sqrt\n",
      "  sigma_k = np.sqrt(inv_fim)[0][0]\n",
      "100%|███████████████████████████████████████████████████████████████████████████████████████████████████████████████████████████████████| 100/100 [00:00<00:00, 2547.44it/s]"
     ]
    },
    {
     "name": "stdout",
     "output_type": "stream",
     "text": [
      "[nan, 77.43352187572135, 21.097996079939183, 20.896806627714092, 19.743065550785943, 17.97178294634297, 15.843463857879867, 14.013067243073355, 13.78624529343358, 13.634147492972586, 13.026678393732407, 12.093884665972709, 11.253661535695933, 11.090923117356374, 11.048752278832056, 10.732819784413193, 10.182043476508868, 9.673206479472842, 9.553710258973297, 9.537212637459856, 9.3391018074, 8.965686242512454, 8.61529766981624, 8.523670304778754, 8.515799124256144, 8.377736790895744, 8.103366480659835, 7.84320436101496, 7.770339640375219, 7.7660664179557095, 7.663141762150121, 7.450629235229334, 7.247599572200858, 7.18796511042501, 7.185424772406647, 7.105035232006432, 6.93418193243781, 6.77002547265564, 6.720094813968562, 6.718479537545977, 6.653516632632694, 6.5122885828108945, 6.37599569547235, 6.333416859126475, 6.3323351087600575, 6.278459928166208, 6.159184717273299, 6.043669513793351, 6.006811482669014, 6.006056560767363, 5.960457146182526, 5.857982550656341, 5.758450236692388, 5.726144040690654, 5.725599241652472, 5.686365458990729, 5.597086585702028, 5.510161176369996, 5.481545269839746, 5.481141022088872, 5.446925223483214, 5.368234333928445, 5.291460753258063, 5.265884855800838, 5.265577785006653, 5.235399060047183, 5.165356954275908, 5.096901306681086, 5.073864431913982, 5.0736264597030925, 5.046751957178535, 4.983882675248628, 4.92234373821368, 4.901452990063286, 4.901265348080833, 4.877135276510233, 4.820292924851109, 4.7645791590257565, 4.74552157650682, 4.745371368110678, 4.723549904954865, 4.671829462140312, 4.6210762213334355, 4.603599070623674, 4.603477218084802, 4.583619394505491, 4.536295305371126, 4.489807586028812, 4.473704268100736, 4.4736042451697715, 4.455433015920427, 4.4119158916674985, 4.369127803742205, 4.354227584298707, 4.354144610305376, 4.3374346085974524, 4.297240044925782, 4.257685522440515, 4.243845919109202, 4.243776433026167]\n",
      "[51.039048501122366, 26.83281572999747, 20.438411982654966, 18.973665961010276, 18.973665961010276, 17.784538837827398, 15.491933384829666, 13.905427368359542, 13.416407864998739, 13.416407864998739, 12.975599519486499, 12.0, 11.215828316350727, 10.954451150103322, 10.954451150103322, 10.710535290896305, 10.1418510567422, 9.65508652625846, 9.486832980505138, 9.486832980505138, 9.327079758406024, 8.94427190999916, 8.605033272642341, 8.48528137423857, 8.48528137423857, 8.37039381925806, 8.090398349558905, 7.836743388752108, 7.745966692414833, 7.745966692414833, 7.658273163797721, 7.442084075352508, 7.243227316796584, 7.171371656006362, 7.171371656006362, 7.101612933200251, 6.928203230275509, 6.766906266756188, 6.708203932499369, 6.708203932499369, 6.651003276116508, 6.507913734559685, 6.37367911435073, 6.324555320336759, 6.324555320336759, 6.276550128441983, 6.155870112510925, 6.041893701420407, 6.0, 6.0, 5.958965841805747, 5.855400437691199, 5.757053714542996, 5.720775535473554, 5.720775535473554, 5.685174647726148, 5.595028849441883, 5.509039541590504, 5.477225575051661, 5.477225575051661, 5.44595648256239, 5.366563145999495, 5.290543833440261, 5.262348115842175, 5.262348115842175, 5.2345984493754, 5.163977794943222, 5.096140382092738, 5.0709255283711, 5.0709255283711, 5.046081285394456, 4.982728791224399, 4.921704039952371, 4.898979485566356, 4.898979485566356, 4.876566824426612, 4.8193159734149935, 4.7640352807719895, 4.743416490252569, 4.743416490252569, 4.723063118059589, 4.670993664969138, 4.620609213149454, 4.6017899330842225, 4.6017899330842225, 4.583198742817655, 4.535573676110727, 4.489403056940361, 4.47213595499958, 4.47213595499958, 4.455066570345417, 4.4112877325628475, 4.3687746496826625, 4.352857500660071, 4.35285750066007, 4.337113070587366, 4.296689244236598, 4.257375053284319, 4.242640687119285, 4.242640687119285]\n"
     ]
    },
    {
     "name": "stderr",
     "output_type": "stream",
     "text": [
      "\n"
     ]
    }
   ],
   "source": [
    "test_T0 = 2360 # BJD\n",
    "test_K = 500 # 5 m/s to 500 cm/s; it worked for 10000 cm/s\n",
    "test_P = 10 # days\n",
    "\n",
    "test_theta = [test_K, test_P, test_T0]\n",
    "\n",
    "test_t = np.linspace(2340, 2440, 101)\n",
    "buffer = 2 # anything less and either sigma_k blows up, or I get det(fim)=0\n",
    "sigma_ks = []\n",
    "sigma_ks_stable = []\n",
    "sigma_ks_squared = []\n",
    "for i in tqdm(range(len(test_t)-(buffer-1))):\n",
    "    # create time series and appropriately sized covariance matrix\n",
    "    test_t_temp = test_t[:i+buffer]\n",
    "    test_sigma = np.diag(np.ones(len(test_t_temp))*30) # cm/s\n",
    "    \n",
    "    # calculate FIM\n",
    "    fim = calculate_fim(test_t_temp, test_sigma, test_theta)\n",
    "    #print(test_t_temp)\n",
    "    #print(fim)\n",
    "    #print(det(fim))\n",
    "    \n",
    "    # invert the FIM\n",
    "    try:\n",
    "        inv_fim = inv(fim)\n",
    "    except:\n",
    "        print(\"determinant of singular matrix is: \", det(fim), \" for \", fim)\n",
    "    \n",
    "    # calculate sigma_k\n",
    "    sigma_k = np.sqrt(inv_fim)[0][0]\n",
    "    sigma_k_squared = inv_fim[0][0]\n",
    "    sigma_ks.append(sigma_k)\n",
    "    sigma_ks_squared.append(sigma_k_squared)\n",
    "    #print(\"sigma: \", sigma_k)\n",
    "    \n",
    "    # for det(FIM) <= 1e-15, use sqrt(1/FIM[0][0]) instead\n",
    "    # why? bc of numerical instability: \n",
    "    # https://stackoverflow.com/questions/17136626/what-is-the-correct-stable-efficient-way-to-use-matrix-inversion-in-numpy\n",
    "    sigma_k_stable = np.sqrt(1/fim[0][0])\n",
    "    sigma_ks_stable.append(sigma_k_stable)\n",
    "    \n",
    "print(sigma_ks)\n",
    "print(sigma_ks_stable)\n",
    "#print(sigma_ks_squared)"
   ]
  },
  {
   "cell_type": "code",
   "execution_count": 40,
   "id": "a2fa1cda-ff81-4d20-bb94-fe347e9b0d31",
   "metadata": {},
   "outputs": [
    {
     "data": {
      "image/png": "[encoded data removed]",
      "text/plain": [
       "<Figure size 640x480 with 1 Axes>"
      ]
     },
     "metadata": {},
     "output_type": "display_data"
    }
   ],
   "source": [
    "#plt.scatter(range(len(sigma_ks)), sigma_ks, s=5, label='using inv')\n",
    "#plt.scatter(range(len(sigma_ks_stable)), sigma_ks_stable, s=5, label='not using inv')\n",
    "plt.plot(range(len(sigma_ks)), sigma_ks, label='using inv')\n",
    "plt.plot(range(len(sigma_ks_stable)), sigma_ks_stable, label='not using inv')\n",
    "plt.xlabel('number of observations')\n",
    "plt.ylabel(r\"$\\sigma_k$[cm/s]\")\n",
    "plt.legend()\n",
    "plt.savefig('obs-vs-sigma_k.pdf', format='pdf')\n",
    "plt.plot()\n",
    "plt.show()"
   ]
  },
  {
   "cell_type": "markdown",
   "id": "873169d9-ef27-4fcf-bb34-3cb9285dbf36",
   "metadata": {
    "tags": []
   },
   "source": [
    "#### Side worry: sometimes, my FIMs are singular and can't be inverted. \n",
    "\n",
    "Upon inspection, it looks like the determinants are sometimes (rarely, but sometimes) zero, especially when there are very (too?) few observations. Upon further inspection, it looks like the matrix terms that go into calculating the determinants are often really small - like, smaller than machine epsilon small. What to do about it? Just ignore it? Uniformly add a scalar value to all matrix terms? "
   ]
  },
  {
   "cell_type": "markdown",
   "id": "54e752b8-7448-4c01-b823-fbc673c6cb54",
   "metadata": {},
   "source": [
    "I'm going to try a few things. \n",
    "\n",
    "First, let's just make a fiducial FIM and run det(fim). Then, let's run symbolic det on it. Then, let's manually compute det(fim). "
   ]
  },
  {
   "cell_type": "code",
   "execution_count": 11,
   "id": "c84291e7-94b9-406c-be80-35298f195438",
   "metadata": {},
   "outputs": [
    {
     "name": "stdout",
     "output_type": "stream",
     "text": [
      "[2340.         2340.54545455]\n",
      "[[ 1.25476883e-04 -2.14936766e-01 -1.10481515e-01]\n",
      " [-2.14936766e-01  8.06826970e+02  4.08574857e+02]\n",
      " [-1.10481515e-01  4.08574857e+02  2.06940470e+02]]\n",
      "0.0\n"
     ]
    },
    {
     "name": "stderr",
     "output_type": "stream",
     "text": [
      "/tmp/ipykernel_3002366/564434563.py:60: RuntimeWarning: divide by zero encountered in true_divide\n",
      "  factor2 = 1/sigma**2\n"
     ]
    },
    {
     "ename": "LinAlgError",
     "evalue": "Singular matrix",
     "output_type": "error",
     "traceback": [
      "\u001b[0;31m---------------------------------------------------------------------------\u001b[0m",
      "\u001b[0;31mLinAlgError\u001b[0m                               Traceback (most recent call last)",
      "Input \u001b[0;32mIn [11]\u001b[0m, in \u001b[0;36m<cell line: 15>\u001b[0;34m()\u001b[0m\n\u001b[1;32m     13\u001b[0m \u001b[38;5;28mprint\u001b[39m(fim) \n\u001b[1;32m     14\u001b[0m \u001b[38;5;28mprint\u001b[39m(det(fim))\n\u001b[0;32m---> 15\u001b[0m \u001b[38;5;28mprint\u001b[39m(\u001b[43minv\u001b[49m\u001b[43m(\u001b[49m\u001b[43mfim\u001b[49m\u001b[43m)\u001b[49m)\n\u001b[1;32m     17\u001b[0m \u001b[38;5;124;03m\"\"\"\u001b[39;00m\n\u001b[1;32m     18\u001b[0m \u001b[38;5;124;03mfor i in range(len(test_t)-3):\u001b[39;00m\n\u001b[1;32m     19\u001b[0m \u001b[38;5;124;03m    # create time series and appropriately sized covariance matrix\u001b[39;00m\n\u001b[0;32m   (...)\u001b[0m\n\u001b[1;32m     25\u001b[0m \u001b[38;5;124;03m    dfadfdsf\u001b[39;00m\n\u001b[1;32m     26\u001b[0m \u001b[38;5;124;03m\"\"\"\u001b[39;00m\n",
      "File \u001b[0;32m<__array_function__ internals>:5\u001b[0m, in \u001b[0;36minv\u001b[0;34m(*args, **kwargs)\u001b[0m\n",
      "File \u001b[0;32m~/scheduling/lib/python3.8/site-packages/numpy/linalg/linalg.py:545\u001b[0m, in \u001b[0;36minv\u001b[0;34m(a)\u001b[0m\n\u001b[1;32m    543\u001b[0m signature \u001b[38;5;241m=\u001b[39m \u001b[38;5;124m'\u001b[39m\u001b[38;5;124mD->D\u001b[39m\u001b[38;5;124m'\u001b[39m \u001b[38;5;28;01mif\u001b[39;00m isComplexType(t) \u001b[38;5;28;01melse\u001b[39;00m \u001b[38;5;124m'\u001b[39m\u001b[38;5;124md->d\u001b[39m\u001b[38;5;124m'\u001b[39m\n\u001b[1;32m    544\u001b[0m extobj \u001b[38;5;241m=\u001b[39m get_linalg_error_extobj(_raise_linalgerror_singular)\n\u001b[0;32m--> 545\u001b[0m ainv \u001b[38;5;241m=\u001b[39m \u001b[43m_umath_linalg\u001b[49m\u001b[38;5;241;43m.\u001b[39;49m\u001b[43minv\u001b[49m\u001b[43m(\u001b[49m\u001b[43ma\u001b[49m\u001b[43m,\u001b[49m\u001b[43m \u001b[49m\u001b[43msignature\u001b[49m\u001b[38;5;241;43m=\u001b[39;49m\u001b[43msignature\u001b[49m\u001b[43m,\u001b[49m\u001b[43m \u001b[49m\u001b[43mextobj\u001b[49m\u001b[38;5;241;43m=\u001b[39;49m\u001b[43mextobj\u001b[49m\u001b[43m)\u001b[49m\n\u001b[1;32m    546\u001b[0m \u001b[38;5;28;01mreturn\u001b[39;00m wrap(ainv\u001b[38;5;241m.\u001b[39mastype(result_t, copy\u001b[38;5;241m=\u001b[39m\u001b[38;5;28;01mFalse\u001b[39;00m))\n",
      "File \u001b[0;32m~/scheduling/lib/python3.8/site-packages/numpy/linalg/linalg.py:88\u001b[0m, in \u001b[0;36m_raise_linalgerror_singular\u001b[0;34m(err, flag)\u001b[0m\n\u001b[1;32m     87\u001b[0m \u001b[38;5;28;01mdef\u001b[39;00m \u001b[38;5;21m_raise_linalgerror_singular\u001b[39m(err, flag):\n\u001b[0;32m---> 88\u001b[0m     \u001b[38;5;28;01mraise\u001b[39;00m LinAlgError(\u001b[38;5;124m\"\u001b[39m\u001b[38;5;124mSingular matrix\u001b[39m\u001b[38;5;124m\"\u001b[39m)\n",
      "\u001b[0;31mLinAlgError\u001b[0m: Singular matrix"
     ]
    }
   ],
   "source": [
    "test_t = np.linspace(2340, 2400, 111) # 2340 to 2450, vs 2340 to 2400, for 111 obs\n",
    "dets = []\n",
    "sigma_ks_squared = []\n",
    "\n",
    "# create time series and appropriately sized covariance matrix\n",
    "test_t_temp = test_t[:2]\n",
    "print(test_t_temp)\n",
    "test_sigma = np.diag(np.ones(len(test_t_temp))*30) # cm/s\n",
    "\n",
    "# calculate FIM\n",
    "fim = calculate_fim(test_t_temp, test_sigma, test_theta)\n",
    "\n",
    "print(fim) \n",
    "print(det(fim))\n",
    "print(inv(fim))\n",
    "\n",
    "\"\"\"\n",
    "for i in range(len(test_t)-3):\n",
    "    # create time series and appropriately sized covariance matrix\n",
    "    test_t_temp = test_t[:i+4]\n",
    "    test_sigma = np.diag(np.ones(len(test_t_temp))*30) # cm/s\n",
    "    \n",
    "    # calculate FIM\n",
    "    fim = calculate_fim(test_t_temp, test_sigma, test_theta)\n",
    "    dfadfdsf\n",
    "\"\"\""
   ]
  },
  {
   "cell_type": "markdown",
   "id": "17454424-488e-4276-8b98-0864bfa0a97f",
   "metadata": {},
   "source": [
    "^This is how I first noitced this problem. det(fim) is 0, and so inv(fim) errors out. \n",
    "\n",
    "EDIT: Upon even further inspection, it looks like sometimes just changing the time bound (while holding n_obs constant) will change an FIM from invertible to degenerate. For example, going from 2340-2450, to 2340-2400 BJD for 111 observations makes the FIM singular. Similarly, changing the number of observations for the same time support can make or break the matrix. Holding t at 2340-2400, going from 61 to 60 observations corrects the degeneracy of the matrix. (see below)\n",
    "\n",
    "What if I manually calculated the determinant?"
   ]
  },
  {
   "cell_type": "code",
   "execution_count": null,
   "id": "b3fc4b19-e740-4821-bf20-a03ee397d55a",
   "metadata": {},
   "outputs": [],
   "source": [
    "1.25476883e-04*(8.06826970e+02*2.06940470e+02 - 4.08574857e+02*4.08574857e+02)"
   ]
  },
  {
   "cell_type": "code",
   "execution_count": null,
   "id": "2d68d3d3-c0f3-41bd-a1cf-1267a0586790",
   "metadata": {},
   "outputs": [],
   "source": [
    " -2.14936766e-01 * (-2.14936766e-01 *2.06940470e+02 - -1.10481515e-01*4.08574857e+02)"
   ]
  },
  {
   "cell_type": "code",
   "execution_count": null,
   "id": "2c88f3dd-0a98-41a9-8893-518ee692a927",
   "metadata": {},
   "outputs": [],
   "source": [
    "-1.10481515e-01*(-2.14936766e-01*4.08574857e+02 - 8.06826970e+02*-1.10481515e-01)"
   ]
  },
  {
   "cell_type": "code",
   "execution_count": 12,
   "id": "55e27380-9681-4b90-a8ee-fea3e0497207",
   "metadata": {},
   "outputs": [
    {
     "data": {
      "text/plain": [
       "-9.58076365464855e-09"
      ]
     },
     "execution_count": 12,
     "metadata": {},
     "output_type": "execute_result"
    }
   ],
   "source": [
    "0.00398246159073211 - -0.14204178199869455 + -0.14602425317019033"
   ]
  },
  {
   "cell_type": "code",
   "execution_count": 13,
   "id": "10b905db-76fc-4891-b4d2-1671cfdaa00d",
   "metadata": {},
   "outputs": [
    {
     "data": {
      "text/plain": [
       "0.0"
      ]
     },
     "execution_count": 13,
     "metadata": {},
     "output_type": "execute_result"
    }
   ],
   "source": [
    "det(fim)"
   ]
  },
  {
   "cell_type": "code",
   "execution_count": 14,
   "id": "8e7cfffa-c6e4-4e4b-838c-0375a3e771fe",
   "metadata": {},
   "outputs": [],
   "source": [
    "import sympy as sp\n",
    "from sympy import *\n",
    "from sympy.matrices import Matrix"
   ]
  },
  {
   "cell_type": "code",
   "execution_count": 15,
   "id": "7a2b4bb2-8494-4ad4-80ec-7ecf379ee9de",
   "metadata": {},
   "outputs": [],
   "source": [
    "M = sp.Matrix(fim)"
   ]
  },
  {
   "cell_type": "code",
   "execution_count": 16,
   "id": "64ab7699-9226-40fc-a273-86decc6d487e",
   "metadata": {},
   "outputs": [
    {
     "data": {
      "text/latex": [
       "$\\displaystyle 1.77635683940025 \\cdot 10^{-15}$"
      ],
      "text/plain": [
       "1.77635683940025e-15"
      ]
     },
     "execution_count": 16,
     "metadata": {},
     "output_type": "execute_result"
    }
   ],
   "source": [
    "M.det()"
   ]
  },
  {
   "cell_type": "markdown",
   "id": "7a26ee5f-bf92-48c3-81c1-59934a2d1061",
   "metadata": {},
   "source": [
    "Why do these three methods mismatch??\n",
    "\n",
    "Scarier scenario: even for the well-behaved FIMs, do manual, linalg, and sympy all disagree as well? Only one way to find out."
   ]
  },
  {
   "cell_type": "code",
   "execution_count": 17,
   "id": "886e0506-9f49-458f-ad59-bed7a2194a4a",
   "metadata": {},
   "outputs": [
    {
     "name": "stdout",
     "output_type": "stream",
     "text": [
      "[2340. 2341.]\n",
      "[[ 3.83879448e-04 -3.15382284e-01 -1.65990676e-01]\n",
      " [-3.15382284e-01  6.97756431e+02  3.55696830e+02]\n",
      " [-1.65990676e-01  3.55696830e+02  1.81437159e+02]]\n",
      "-4.547091327363591e-15\n",
      "[[-1.73099608e+16  4.00319967e+14 -8.00639934e+14]\n",
      " [ 4.00319967e+14 -9.25802651e+12  1.85160530e+13]\n",
      " [-8.00639934e+14  1.85160530e+13 -3.70321060e+13]]\n"
     ]
    },
    {
     "name": "stderr",
     "output_type": "stream",
     "text": [
      "/tmp/ipykernel_3002366/564434563.py:60: RuntimeWarning: divide by zero encountered in true_divide\n",
      "  factor2 = 1/sigma**2\n"
     ]
    }
   ],
   "source": [
    "from numpy.linalg import inv, det\n",
    "\n",
    "test_t = np.linspace(2340, 2400, 61) # 2340 to 2450, vs 2340 to 2400, for 111 obs\n",
    "dets = []\n",
    "sigma_ks_squared = []\n",
    "\n",
    "# create time series and appropriately sized covariance matrix\n",
    "test_t_temp = test_t[:2]\n",
    "print(test_t_temp)\n",
    "test_sigma = np.diag(np.ones(len(test_t_temp))*30) # cm/s\n",
    "\n",
    "# calculate FIM\n",
    "fim = calculate_fim(test_t_temp, test_sigma, test_theta)\n",
    "\n",
    "print(fim) \n",
    "print(det(fim))\n",
    "print(inv(fim))"
   ]
  },
  {
   "cell_type": "code",
   "execution_count": 18,
   "id": "da76894a-a6c2-40a7-b4d5-10748282756b",
   "metadata": {},
   "outputs": [
    {
     "data": {
      "text/plain": [
       "1.820291654865919"
      ]
     },
     "execution_count": 18,
     "metadata": {},
     "output_type": "execute_result"
    }
   ],
   "source": [
    "-3.15382284e-01*1.81437159e+02 - -1.65990676e-01*3.55696830e+02"
   ]
  },
  {
   "cell_type": "code",
   "execution_count": 19,
   "id": "ff0f07f9-25dd-4060-91ae-02f9c7b5a7bb",
   "metadata": {},
   "outputs": [
    {
     "data": {
      "text/plain": [
       "-57.22206560789116"
      ]
     },
     "execution_count": 19,
     "metadata": {},
     "output_type": "execute_result"
    }
   ],
   "source": [
    "-3.15382284e-01*1.81437159e+02"
   ]
  },
  {
   "cell_type": "code",
   "execution_count": 20,
   "id": "0fd5a029-ce73-4928-a200-98d87dc0d412",
   "metadata": {},
   "outputs": [
    {
     "data": {
      "text/plain": [
       "-59.04235726275708"
      ]
     },
     "execution_count": 20,
     "metadata": {},
     "output_type": "execute_result"
    }
   ],
   "source": [
    "-1.65990676e-01*3.55696830e+02"
   ]
  },
  {
   "cell_type": "code",
   "execution_count": null,
   "id": "511fc138-c9d2-482e-953a-dea1edf7e392",
   "metadata": {},
   "outputs": [],
   "source": []
  },
  {
   "cell_type": "code",
   "execution_count": 21,
   "id": "d4480c18-fc91-4f06-95fd-6595ee3c54b9",
   "metadata": {},
   "outputs": [
    {
     "data": {
      "text/plain": [
       "0.030215014142300333"
      ]
     },
     "execution_count": 21,
     "metadata": {},
     "output_type": "execute_result"
    }
   ],
   "source": [
    "3.83879448e-04*(6.97756431e+02*1.81437159e+02 - 3.55696830e+02*3.55696830e+02)"
   ]
  },
  {
   "cell_type": "code",
   "execution_count": 22,
   "id": "26fbc7d0-be24-4590-95d6-8153acff3b64",
   "metadata": {},
   "outputs": [
    {
     "data": {
      "text/plain": [
       "-0.5740877396577533"
      ]
     },
     "execution_count": 22,
     "metadata": {},
     "output_type": "execute_result"
    }
   ],
   "source": [
    "-3.15382284e-01*(-3.15382284e-01*1.81437159e+02 - -1.65990676e-01*3.55696830e+02)"
   ]
  },
  {
   "cell_type": "code",
   "execution_count": 23,
   "id": "ec425ba6-e014-4603-8b58-c8c329b7d6fd",
   "metadata": {},
   "outputs": [
    {
     "data": {
      "text/plain": [
       "-0.6043028345449212"
      ]
     },
     "execution_count": 23,
     "metadata": {},
     "output_type": "execute_result"
    }
   ],
   "source": [
    "-1.65990676e-01*(-3.15382284e-01*3.55696830e+02 - 6.97756431e+02 * -1.65990676e-01)"
   ]
  },
  {
   "cell_type": "code",
   "execution_count": 24,
   "id": "dda1c92a-773e-4ea4-9a61-f0dd064c5b7e",
   "metadata": {},
   "outputs": [
    {
     "data": {
      "text/plain": [
       "-8.074486756992627e-08"
      ]
     },
     "execution_count": 24,
     "metadata": {},
     "output_type": "execute_result"
    }
   ],
   "source": [
    "0.030215014142300333 - -0.5740877396577533 + -0.6043028345449212"
   ]
  },
  {
   "cell_type": "code",
   "execution_count": 25,
   "id": "ab275fc6-0bbc-4f34-804f-40d260d4cfed",
   "metadata": {},
   "outputs": [
    {
     "data": {
      "text/latex": [
       "$\\displaystyle -3.5527136788005 \\cdot 10^{-15}$"
      ],
      "text/plain": [
       "-3.55271367880050e-15"
      ]
     },
     "execution_count": 25,
     "metadata": {},
     "output_type": "execute_result"
    }
   ],
   "source": [
    "M = sp.Matrix(fim)\n",
    "M.det()"
   ]
  },
  {
   "cell_type": "markdown",
   "id": "b64b2ce0-dbe1-4bc9-a9e7-3b392fdf3744",
   "metadata": {},
   "source": [
    "Aaaand, wolfram says -8e-8 (https://www.wolframalpha.com/input?i2d=true&i=%7B%7B3.83879448e-04%2C-3.15382284e-01%2C-1.65990676e-01%7D%2C%7B-3.15382284e-01%2C6.97756431e%2B02%2C3.55696830e%2B02%7D%2C%7B-1.65990676e-01%2C3.55696830e%2B02%2C1.81437159e%2B02%7D%7D). So sympy and linalg agree-ish (at least they're same order of magnitude), but they heavily disagree with manual and wolfram, which agree with each other.\n",
    "\n",
    "I don't like this at all..."
   ]
  },
  {
   "cell_type": "code",
   "execution_count": 26,
   "id": "7ce725e5-91ad-4730-8143-72a7d6e5dfa4",
   "metadata": {},
   "outputs": [
    {
     "data": {
      "text/plain": [
       "-4.547091327363593e-15"
      ]
     },
     "execution_count": 26,
     "metadata": {},
     "output_type": "execute_result"
    }
   ],
   "source": [
    "import scipy\n",
    "scipy.linalg.det(fim)"
   ]
  },
  {
   "cell_type": "markdown",
   "id": "b81a3e1e-db4e-4015-9602-fc4f3ca2172e",
   "metadata": {},
   "source": [
    "At least scipy and numpy agree (I needed a small win). "
   ]
  },
  {
   "cell_type": "markdown",
   "id": "05a00228-3cfd-48b7-9c05-0691a461d064",
   "metadata": {},
   "source": [
    "#### Let's try bumping all elements up by a scalar factor to get everyone comfortably larger than machine epsilon.\n",
    "\n",
    "inv(kA) = inv(A)/k, so it should be safe to do this...?"
   ]
  },
  {
   "cell_type": "code",
   "execution_count": 17,
   "id": "572eea0d-64e6-4995-9a84-a7e331dc7b7d",
   "metadata": {},
   "outputs": [
    {
     "data": {
      "text/plain": [
       "array([[ 3.83879448e+00, -3.15382284e+03, -1.65990676e+03],\n",
       "       [-3.15382284e+03,  6.97756431e+06,  3.55696830e+06],\n",
       "       [-1.65990676e+03,  3.55696830e+06,  1.81437159e+06]])"
      ]
     },
     "execution_count": 17,
     "metadata": {},
     "output_type": "execute_result"
    }
   ],
   "source": [
    "fim*1e4"
   ]
  },
  {
   "cell_type": "code",
   "execution_count": 61,
   "id": "464ea321-261e-429c-9d07-9198f1bc43df",
   "metadata": {},
   "outputs": [
    {
     "data": {
      "text/plain": [
       "-0.0002483318143584188"
      ]
     },
     "execution_count": 61,
     "metadata": {},
     "output_type": "execute_result"
    }
   ],
   "source": [
    "from numpy.linalg import inv, det\n",
    "\n",
    "det(fim*1e4)"
   ]
  },
  {
   "cell_type": "code",
   "execution_count": 25,
   "id": "d892c714-2c1e-42d1-a846-ba7f9745a49a",
   "metadata": {},
   "outputs": [
    {
     "data": {
      "text/plain": [
       "-4.5470913273635905e-11"
      ]
     },
     "execution_count": 25,
     "metadata": {},
     "output_type": "execute_result"
    }
   ],
   "source": [
    "det(fim)*1e4"
   ]
  },
  {
   "cell_type": "markdown",
   "id": "bc81b733-655d-4677-a4f7-8cb22dd0505e",
   "metadata": {},
   "source": [
    "Wew. That's not supposed to happen, right?"
   ]
  },
  {
   "cell_type": "code",
   "execution_count": 22,
   "id": "f362de6e-9f72-4348-9b5c-9e27b4451835",
   "metadata": {},
   "outputs": [
    {
     "data": {
      "text/plain": [
       "30215014142.29632"
      ]
     },
     "execution_count": 22,
     "metadata": {},
     "output_type": "execute_result"
    }
   ],
   "source": [
    "3.83879448e+00*(6.97756431e+06*1.81437159e+06 - 3.55696830e+06*3.55696830e+06)"
   ]
  },
  {
   "cell_type": "code",
   "execution_count": 23,
   "id": "ebb6137f-138a-430a-9426-d5e5368cacd2",
   "metadata": {},
   "outputs": [
    {
     "data": {
      "text/plain": [
       "-574087739657.7544"
      ]
     },
     "execution_count": 23,
     "metadata": {},
     "output_type": "execute_result"
    }
   ],
   "source": [
    "-3.15382284e+03*(-3.15382284e+03*1.81437159e+06 - -1.65990676e+03*3.55696830e+06)"
   ]
  },
  {
   "cell_type": "code",
   "execution_count": 24,
   "id": "a18e150b-ecb5-4727-b437-57dfac64e360",
   "metadata": {},
   "outputs": [
    {
     "data": {
      "text/plain": [
       "-604302834544.921"
      ]
     },
     "execution_count": 24,
     "metadata": {},
     "output_type": "execute_result"
    }
   ],
   "source": [
    "-1.65990676e+03*(-3.15382284e+03*3.55696830e+06 - -1.65990676e+03*6.97756431e+06)"
   ]
  },
  {
   "cell_type": "code",
   "execution_count": 26,
   "id": "83cd0c24-3ded-4ad2-926f-71b3debf5d06",
   "metadata": {},
   "outputs": [
    {
     "data": {
      "text/plain": [
       "-80744.87036132812"
      ]
     },
     "execution_count": 26,
     "metadata": {},
     "output_type": "execute_result"
    }
   ],
   "source": [
    "30215014142.29632 - -574087739657.7544 + -604302834544.921"
   ]
  },
  {
   "cell_type": "code",
   "execution_count": 49,
   "id": "3a34a206-1930-4f5b-a8e5-4090c152328d",
   "metadata": {},
   "outputs": [
    {
     "name": "stdout",
     "output_type": "stream",
     "text": [
      "0.0117187500000000\n",
      "1.17187500000000e-6\n"
     ]
    }
   ],
   "source": [
    "import sympy as sp\n",
    "\n",
    "print(sp.Matrix(fim*1e4).det())\n",
    "print(sp.Matrix(fim*1e4).det()/1e4)"
   ]
  },
  {
   "cell_type": "code",
   "execution_count": 63,
   "id": "9d402f2d-788d-4af8-bad1-66de2ef6f759",
   "metadata": {},
   "outputs": [
    {
     "name": "stdout",
     "output_type": "stream",
     "text": [
      "-12.317257992177334\n",
      "-4.5470913273635904e-10\n"
     ]
    }
   ],
   "source": [
    "print(det(fim*1e5))\n",
    "print(det(fim)*1e5)"
   ]
  },
  {
   "cell_type": "code",
   "execution_count": null,
   "id": "da1d8132-2b03-4302-8401-6b15b6b78e08",
   "metadata": {},
   "outputs": [],
   "source": []
  },
  {
   "cell_type": "markdown",
   "id": "2cb87afa-01fe-41af-bb04-7c9be465ca89",
   "metadata": {},
   "source": [
    "Once again, Wolfram Alpha corroborates my manual determinant calculation and is much different from the np.linalg.det result: https://www.wolframalpha.com/input?i2d=true&i=%7B%7B3.83879448e-04%2C-3.15382284e-01%2C-1.65990676e-01%7D%2C%7B-3.15382284e-01%2C6.97756431e%2B02%2C3.55696830e%2B02%7D%2C%7B-1.65990676e-01%2C3.55696830e%2B02%2C1.81437159e%2B02%7D%7D\n",
    "\n",
    "Furthermore, the manual/Wolfram determinant for the FIM scaled up by 1e4 has a determinant that's exactly 1e12 times bigger (from log -8 to log 4). When I scale the FIM up by 1e5, its determinant is then 8e7. So, with every scale by an order of magnitude, my determinant scales by three orders of magnitude (probably because it's a 3x3 matrix). \n",
    "\n",
    "And this time, np.linalg.det and sympy.Matrix(fim).det() disagree. \n",
    "\n"
   ]
  },
  {
   "cell_type": "markdown",
   "id": "6eafea1e-4343-404c-bd6a-2f52fd74ceb8",
   "metadata": {},
   "source": [
    "Here's something from the Internet that can help: https://github.com/numpy/numpy/issues/6890"
   ]
  },
  {
   "cell_type": "code",
   "execution_count": 59,
   "id": "4f08467a-0995-4222-a9f2-d5e48bf273ba",
   "metadata": {},
   "outputs": [
    {
     "data": {
      "text/plain": [
       "-6.336521960140912e-17"
      ]
     },
     "execution_count": 59,
     "metadata": {},
     "output_type": "execute_result"
    }
   ],
   "source": [
    "det(fim/np.amax(fim, axis=0, keepdims=True))"
   ]
  },
  {
   "cell_type": "markdown",
   "id": "9de78a05-3df8-4210-b256-73b25cacb421",
   "metadata": {},
   "source": [
    "...\n",
    "\n",
    "I need to reorient myself. Here's a base case."
   ]
  },
  {
   "cell_type": "code",
   "execution_count": 67,
   "id": "f5e13e7d-3d20-4bb4-8ba1-6849857f487a",
   "metadata": {},
   "outputs": [
    {
     "name": "stdout",
     "output_type": "stream",
     "text": [
      "-2.0000000000000004\n",
      "-2\n",
      "-19999.99999999998\n",
      "-20000.000000000004\n"
     ]
    }
   ],
   "source": [
    "import sympy as sp\n",
    "\n",
    "a = np.array([[1, 2], [3,4]])\n",
    "print(det(a))\n",
    "print(sp.Matrix(a).det())\n",
    "print(det(a*1e2))\n",
    "print(det(a)*1e4)"
   ]
  },
  {
   "cell_type": "code",
   "execution_count": 27,
   "id": "c74cae9f-f1fd-4a61-907d-498e4e1f1487",
   "metadata": {},
   "outputs": [
    {
     "data": {
      "text/plain": [
       "array([[ 3.83879448e-04, -3.15382284e-01, -1.65990676e-01],\n",
       "       [-3.15382284e-01,  6.97756431e+02,  3.55696830e+02],\n",
       "       [-1.65990676e-01,  3.55696830e+02,  1.81437159e+02]])"
      ]
     },
     "execution_count": 27,
     "metadata": {},
     "output_type": "execute_result"
    }
   ],
   "source": [
    "fim"
   ]
  },
  {
   "cell_type": "code",
   "execution_count": 33,
   "id": "38532326-54bf-4298-99c2-b4363238624f",
   "metadata": {},
   "outputs": [
    {
     "data": {
      "text/plain": [
       "numpy.float64"
      ]
     },
     "execution_count": 33,
     "metadata": {},
     "output_type": "execute_result"
    }
   ],
   "source": [
    "type(fim[0][0])"
   ]
  },
  {
   "cell_type": "code",
   "execution_count": 29,
   "id": "dac6ada0-a980-4c5f-855a-76d24af9ab58",
   "metadata": {},
   "outputs": [
    {
     "data": {
      "text/plain": [
       "array([[-1.73099608e+16,  4.00319967e+14, -8.00639934e+14],\n",
       "       [ 4.00319967e+14, -9.25802651e+12,  1.85160530e+13],\n",
       "       [-8.00639934e+14,  1.85160530e+13, -3.70321060e+13]])"
      ]
     },
     "execution_count": 29,
     "metadata": {},
     "output_type": "execute_result"
    }
   ],
   "source": [
    "inv(fim)"
   ]
  },
  {
   "cell_type": "code",
   "execution_count": 30,
   "id": "524d9d5f-8c4a-49ef-bed0-5c3d3eb1e4e1",
   "metadata": {},
   "outputs": [
    {
     "data": {
      "text/plain": [
       "array([[-1.73099608e+16,  4.00319967e+14, -8.00639934e+14],\n",
       "       [ 4.00319967e+14, -9.25802651e+12,  1.85160530e+13],\n",
       "       [-8.00639934e+14,  1.85160530e+13, -3.70321060e+13]])"
      ]
     },
     "execution_count": 30,
     "metadata": {},
     "output_type": "execute_result"
    }
   ],
   "source": [
    "scipy.linalg.inv(fim)"
   ]
  },
  {
   "cell_type": "markdown",
   "id": "44f0280a-ebd7-46f5-b35d-8263d64b062b",
   "metadata": {},
   "source": [
    "#### Other manual determinant calculations and scratch work for which I put too much time copy-pasting, so sunk-cost fallacy is making me not delete them...\"yet\""
   ]
  },
  {
   "cell_type": "code",
   "execution_count": 20,
   "id": "71a60dbc-e729-430d-a88e-85ed0adaad85",
   "metadata": {},
   "outputs": [
    {
     "data": {
      "text/plain": [
       "9.619110263099567e-29"
      ]
     },
     "execution_count": 20,
     "metadata": {},
     "output_type": "execute_result"
    }
   ],
   "source": [
    "3.99935942e-34*( 6.57973627e+02 * 4.38649084e+02 - 2.19324542e+02 * 2.19324542e+02) "
   ]
  },
  {
   "cell_type": "code",
   "execution_count": 21,
   "id": "81f14e11-d7a0-4e41-9f07-1d952bd31103",
   "metadata": {},
   "outputs": [
    {
     "data": {
      "text/plain": [
       "9.619110266435248e-29"
      ]
     },
     "execution_count": 21,
     "metadata": {},
     "output_type": "execute_result"
    }
   ],
   "source": [
    "-5.12978852e-16 * (-5.12978852e-16 *  4.38649084e+02 - -1.70992951e-16 * 2.19324542e+02)"
   ]
  },
  {
   "cell_type": "code",
   "execution_count": 22,
   "id": "10d5b0f6-4006-49f5-a1bc-58deffbaeb01",
   "metadata": {},
   "outputs": [
    {
     "data": {
      "text/plain": [
       "-6.674154045664273e-38"
      ]
     },
     "execution_count": 22,
     "metadata": {},
     "output_type": "execute_result"
    }
   ],
   "source": [
    "-1.70992951e-16 * (-5.12978852e-16 * 2.19324542e+02 - -1.70992951e-16*6.57973627e+02) "
   ]
  },
  {
   "cell_type": "code",
   "execution_count": 23,
   "id": "0392c4cb-fc54-4321-9d8d-c65a6c726eaf",
   "metadata": {},
   "outputs": [
    {
     "data": {
      "text/plain": [
       "-1.0009835178189898e-37"
      ]
     },
     "execution_count": 23,
     "metadata": {},
     "output_type": "execute_result"
    }
   ],
   "source": [
    "9.619110263099567e-29 - 9.619110266435248e-29 + -6.674154045664273e-38"
   ]
  },
  {
   "cell_type": "code",
   "execution_count": 15,
   "id": "6c57697e-7a94-4132-a47d-6e748a47b772",
   "metadata": {},
   "outputs": [
    {
     "data": {
      "text/plain": [
       "6493939.374514345"
      ]
     },
     "execution_count": 15,
     "metadata": {},
     "output_type": "execute_result"
    }
   ],
   "source": [
    "1.05275780e+04*9.86960440e+02 - 1.97392088e+03*1.97392088e+03"
   ]
  },
  {
   "cell_type": "code",
   "execution_count": 14,
   "id": "b088f08b-b2de-4b28-af75-0dd1e6254298",
   "metadata": {},
   "outputs": [
    {
     "data": {
      "text/plain": [
       "3896363.640499974"
      ]
     },
     "execution_count": 14,
     "metadata": {},
     "output_type": "execute_result"
    }
   ],
   "source": [
    "1.97392088e+03*1.97392088e+03"
   ]
  },
  {
   "cell_type": "code",
   "execution_count": 13,
   "id": "869c8942-7d1c-4cdb-baab-085f8c00693b",
   "metadata": {},
   "outputs": [
    {
     "data": {
      "text/plain": [
       "10390303.015014319"
      ]
     },
     "execution_count": 13,
     "metadata": {},
     "output_type": "execute_result"
    }
   ],
   "source": [
    "1.05275780e+04*9.86960440e+02"
   ]
  },
  {
   "cell_type": "code",
   "execution_count": 9,
   "id": "c4bc61d6-3fb5-40ec-9348-45a009f18fae",
   "metadata": {},
   "outputs": [
    {
     "data": {
      "text/plain": [
       "4.155455616360869e-26"
      ]
     },
     "execution_count": 9,
     "metadata": {},
     "output_type": "execute_result"
    }
   ],
   "source": [
    "6.39897507e-33 * (1.05275780e+04*9.86960440e+02 - 1.97392088e+03*1.97392088e+03)"
   ]
  },
  {
   "cell_type": "code",
   "execution_count": 10,
   "id": "b062ba63-4608-454b-b3aa-4f745261c93c",
   "metadata": {},
   "outputs": [
    {
     "data": {
      "text/plain": [
       "4.155455648018569e-26"
      ]
     },
     "execution_count": 10,
     "metadata": {},
     "output_type": "execute_result"
    }
   ],
   "source": [
    "-8.20766163e-15 * (-8.20766163e-15*9.86960440e+02 - 1.53893655e-15*(-1.97392088e+03))"
   ]
  },
  {
   "cell_type": "code",
   "execution_count": 11,
   "id": "fd7bce19-d341-4f5f-b378-e6d0b1020680",
   "metadata": {},
   "outputs": [
    {
     "data": {
      "text/plain": [
       "1.5428752258607994e-34"
      ]
     },
     "execution_count": 11,
     "metadata": {},
     "output_type": "execute_result"
    }
   ],
   "source": [
    "1.53893655e-15 * (-8.20766163e-15*-1.97392088e+03 - 1.05275780e+04*1.53893655e-15)"
   ]
  },
  {
   "cell_type": "code",
   "execution_count": 12,
   "id": "063173a5-3454-4cba-b74f-0709922777f9",
   "metadata": {},
   "outputs": [
    {
     "data": {
      "text/plain": [
       "-1.6228947576755225e-34"
      ]
     },
     "execution_count": 12,
     "metadata": {},
     "output_type": "execute_result"
    }
   ],
   "source": [
    "4.155455616360869e-26 - 4.155455648018569e-26 + 1.5428752258607994e-34"
   ]
  },
  {
   "cell_type": "code",
   "execution_count": null,
   "id": "9c9cda49-eb2d-42a1-8034-c907efd414a5",
   "metadata": {},
   "outputs": [],
   "source": []
  },
  {
   "cell_type": "code",
   "execution_count": null,
   "id": "c781ebb3-3914-411f-81b8-8413f0c7f1b0",
   "metadata": {},
   "outputs": [],
   "source": []
  },
  {
   "cell_type": "markdown",
   "id": "b41b89f9-8383-4c08-a8ac-cdb5c1220060",
   "metadata": {},
   "source": [
    "### Phase 2: Correlated Noise"
   ]
  },
  {
   "cell_type": "markdown",
   "id": "b098691e-be6b-4513-9c80-0c5d892e6130",
   "metadata": {},
   "source": [
    "Let's now add complexity to the covariance matrix, Sigma. Instead of it being just white noise (1/sigma_RV^2), it is now a quasi-periodic GP kernel, with free parameters given by the S-index part of Table 1 in Langellier et al 2020: https://iopscience.iop.org/article/10.3847/1538-3881/abf1e0/meta#ajabf1e0t1"
   ]
  },
  {
   "cell_type": "code",
   "execution_count": null,
   "id": "d7afa356-db6e-4e1e-9dc5-cc09a8b5d89d",
   "metadata": {},
   "outputs": [],
   "source": [
    "### free parameters from Langellier et al 2020\n",
    "# let's hold these constant for now, but maybe we should sample from the given uncertainties later?\n",
    "Tau = 23.6 # active region lifetime; days\n",
    "eta = 0.58 # smoothing parameter\n",
    "Prot = 28.1 # solar rotation period; days\n",
    "sigma_qp_s = 1.43e3 # correlated noise amplitude\n",
    "sigma_wn_s = 0.178e-3 # white noise amplitude\n",
    "\n",
    "def cov_matrix(t, params):\n",
    "    \"\"\"\n",
    "    Build a covariance matrix, Sigma, that will be used in the calculation of the Fisher Information Matrix\n",
    "    \n",
    "    Inputs:\n",
    "    - t: time series of length N observations; np.array [day]\n",
    "    - Tau: active region lifetime [days]; free param taken from Langellier et al 2020\n",
    "    - eta: smoothing parameter; free param taken from Langellier et al 2020\n",
    "    - Prot: rotation period [days]; free param taken from Langellier et al 2020\n",
    "    - sigma_qp_s: correlated noise amplitude; free param taken from Langellier et al 2020\n",
    "    - sigma_wn_s: white noise amplitude; free param taken from Langellier et al 2020\n",
    "    \n",
    "    Outputs:\n",
    "    - N by N matrix of covariance elements following Equations 1 & 2 of Langellier et al 2020\n",
    "    \n",
    "    \"\"\"\n",
    "    \n",
    "    Tau, eta, Prot, sigma_qp_s, sigma_wn_s = params[0], params[1], params[2], params[3], params[4]\n",
    "    \n",
    "    # create N by N matrix, where N is length of observations time series\n",
    "    k = np.zeros((len(t),len(t)))\n",
    "    \n",
    "    for i in range(len(t)):\n",
    "        for j in range(len(t)):\n",
    "            term1 = ((t[i]-t[j])**2)/(2*Tau**2)\n",
    "            term2 = (1/(2*eta**2)) * (np.sin(np.pi * (t[i] - t[j])/Prot))**2\n",
    "            arg = term1 - term2\n",
    "            k[i][j] = np.exp(arg)\n",
    "    \n",
    "    K = sigma_qp_s**2 * k + sigma_wn_s**2 * np.diag(np.ones(len(t)))\n",
    "    \n",
    "    return K\n",
    "\n"
   ]
  },
  {
   "cell_type": "markdown",
   "id": "a8178d03-3d3c-42ed-b2ec-aa16d9709e27",
   "metadata": {},
   "source": [
    "### JAX"
   ]
  },
  {
   "cell_type": "code",
   "execution_count": 160,
   "id": "86fa80a8-aa16-4b81-aa1d-fe613c5902bc",
   "metadata": {},
   "outputs": [],
   "source": [
    "def model_jax(t, K, P, T0): \n",
    "    \"\"\"\n",
    "    Radial velocity model, given timestamps and planetary orbital parameters\n",
    "    \n",
    "    Inputs: \n",
    "    - t: time series of length N observations; np.array [day]\n",
    "    - K: RV semi-amplitude [cm/s]\n",
    "    - P: planet period [days]\n",
    "    - T0: mean transit time [day]\n",
    "\n",
    "    \"\"\"\n",
    "    \n",
    "    #K, P, T0 = theta[0], theta[1], theta[2]\n",
    "    #normalized_t = (t-T0) % P\n",
    "    arg = (2*jnp.pi/P)*(t-T0)\n",
    "    rv = -K * jnp.sin(arg)\n",
    "    \n",
    "    return rv"
   ]
  },
  {
   "cell_type": "code",
   "execution_count": 161,
   "id": "25929f4c-652e-499c-8db9-0cd5da5271ef",
   "metadata": {},
   "outputs": [],
   "source": [
    "def calculate_fim_jax(t, sigma, theta):\n",
    "\n",
    "    factor2 = 1/sigma**2\n",
    "    factor2[factor2 == np.inf] = 0 \n",
    "    \n",
    "    jac = jax.jacfwd(model_jax, argnums=[1,2,3])\n",
    "    partial_k = np.array(jac(test_t, float(test_K), float(test_P), float(test_T0)))[0]\n",
    "    partial_p = np.array(jac(test_t, float(test_K), float(test_P), float(test_T0)))[1]\n",
    "    partial_t = np.array(jac(test_t, float(test_K), float(test_P), float(test_T0)))[2]\n",
    "    \n",
    "    fim = np.zeros((len(theta),len(theta)))\n",
    "    \n",
    "    for i in range(len(theta)):\n",
    "        wrt_i = param_list[i]\n",
    "        if wrt_i=='K':\n",
    "            factor1 = partial_k\n",
    "        elif wrt_i=='P':\n",
    "            factor1 = partial_p\n",
    "        elif wrt_i=='T0':\n",
    "            factor1 = partial_t\n",
    "        \n",
    "        for j in range(len(theta)):\n",
    "            wrt_j = param_list[j]\n",
    "            if wrt_j=='K':\n",
    "                factor3 = partial_k\n",
    "            elif wrt_j=='P':\n",
    "                factor3 = partial_p\n",
    "            elif wrt_j=='T0':\n",
    "                factor3 = partial_t\n",
    "                            \n",
    "            fim[i][j] = np.dot(np.dot(factor1, factor2), factor3)\n",
    "    \n",
    "    return fim"
   ]
  },
  {
   "cell_type": "code",
   "execution_count": 179,
   "id": "c02e241a-23c0-4df6-a3d1-c9cfe38b18f6",
   "metadata": {},
   "outputs": [],
   "source": [
    "@jax.jit\n",
    "def dfms_jax_version(t, sigma, theta): # thanks, Dan! \n",
    "    def inner(model_params):\n",
    "        return model_normalized(t, model_params[0], model_params[1], model_params[2])\n",
    "    \n",
    "    sigma += 1e-6 # add jitter\n",
    "    factor = jnp.linalg.solve(sigma, jnp.identity(len(sigma))) # take inverse of covariance matrix\n",
    "    #factor = jnp.linalg.inv(sigma)\n",
    "    #factor = jnp.where(sigma > 0, sigma_inv, 0)  \n",
    "    \n",
    "    J = jax.jacobian(inner)(theta)\n",
    "    \n",
    "    return J.T @ factor @ J"
   ]
  },
  {
   "cell_type": "code",
   "execution_count": 163,
   "id": "2f03abd8-624d-4c2f-85b3-04e7eac9e7bf",
   "metadata": {},
   "outputs": [
    {
     "ename": "ValueError",
     "evalue": "The arguments to solve must have shapes a=[..., m, m] and b=[..., m, k] or b=[..., m]; got a=(1000,) and b=(1000, 1000)",
     "output_type": "error",
     "traceback": [
      "\u001b[0;31m---------------------------------------------------------------------------\u001b[0m",
      "\u001b[0;31mValueError\u001b[0m                                Traceback (most recent call last)",
      "Input \u001b[0;32mIn [163]\u001b[0m, in \u001b[0;36m<cell line: 2>\u001b[0;34m()\u001b[0m\n\u001b[1;32m      1\u001b[0m args \u001b[38;5;241m=\u001b[39m test_t, test_sigma\u001b[38;5;241m*\u001b[39m\u001b[38;5;241m*\u001b[39m\u001b[38;5;241m2\u001b[39m, jnp\u001b[38;5;241m.\u001b[39marray(test_theta, dtype\u001b[38;5;241m=\u001b[39m\u001b[38;5;28mfloat\u001b[39m)\n\u001b[0;32m----> 2\u001b[0m \u001b[43mdfms_jax_version\u001b[49m\u001b[43m(\u001b[49m\u001b[38;5;241;43m*\u001b[39;49m\u001b[43margs\u001b[49m\u001b[43m)\u001b[49m\u001b[38;5;241m.\u001b[39mblock_until_ready()\n",
      "    \u001b[0;31m[... skipping hidden 14 frame]\u001b[0m\n",
      "Input \u001b[0;32mIn [162]\u001b[0m, in \u001b[0;36mdfms_jax_version\u001b[0;34m(t, sigma, theta)\u001b[0m\n\u001b[1;32m      4\u001b[0m     \u001b[38;5;28;01mreturn\u001b[39;00m model_jax(t, model_params[\u001b[38;5;241m0\u001b[39m], model_params[\u001b[38;5;241m1\u001b[39m], model_params[\u001b[38;5;241m2\u001b[39m])\n\u001b[1;32m      6\u001b[0m sigma \u001b[38;5;241m+\u001b[39m\u001b[38;5;241m=\u001b[39m \u001b[38;5;241m1e-6\u001b[39m \u001b[38;5;66;03m# add jitter\u001b[39;00m\n\u001b[0;32m----> 7\u001b[0m factor \u001b[38;5;241m=\u001b[39m \u001b[43mjnp\u001b[49m\u001b[38;5;241;43m.\u001b[39;49m\u001b[43mlinalg\u001b[49m\u001b[38;5;241;43m.\u001b[39;49m\u001b[43msolve\u001b[49m\u001b[43m(\u001b[49m\u001b[43msigma\u001b[49m\u001b[43m,\u001b[49m\u001b[43m \u001b[49m\u001b[43mjnp\u001b[49m\u001b[38;5;241;43m.\u001b[39;49m\u001b[43midentity\u001b[49m\u001b[43m(\u001b[49m\u001b[38;5;28;43mlen\u001b[39;49m\u001b[43m(\u001b[49m\u001b[43msigma\u001b[49m\u001b[43m)\u001b[49m\u001b[43m)\u001b[49m\u001b[43m)\u001b[49m \u001b[38;5;66;03m# take inverse of covariance matrix\u001b[39;00m\n\u001b[1;32m      8\u001b[0m \u001b[38;5;66;03m#factor = jnp.linalg.inv(sigma)\u001b[39;00m\n\u001b[1;32m      9\u001b[0m \u001b[38;5;66;03m#factor = jnp.where(sigma > 0, sigma_inv, 0)  \u001b[39;00m\n\u001b[1;32m     11\u001b[0m J \u001b[38;5;241m=\u001b[39m jax\u001b[38;5;241m.\u001b[39mjacobian(inner)(theta)\n",
      "    \u001b[0;31m[... skipping hidden 7 frame]\u001b[0m\n",
      "File \u001b[0;32m~/opt/anaconda3/envs/scheduling/lib/python3.10/site-packages/jax/_src/numpy/linalg.py:553\u001b[0m, in \u001b[0;36msolve\u001b[0;34m(a, b)\u001b[0m\n\u001b[1;32m    549\u001b[0m \u001b[38;5;129m@_wraps\u001b[39m(np\u001b[38;5;241m.\u001b[39mlinalg\u001b[38;5;241m.\u001b[39msolve)\n\u001b[1;32m    550\u001b[0m \u001b[38;5;129m@jit\u001b[39m\n\u001b[1;32m    551\u001b[0m \u001b[38;5;28;01mdef\u001b[39;00m \u001b[38;5;21msolve\u001b[39m(a, b):\n\u001b[1;32m    552\u001b[0m   a, b \u001b[38;5;241m=\u001b[39m _promote_dtypes_inexact(jnp\u001b[38;5;241m.\u001b[39masarray(a), jnp\u001b[38;5;241m.\u001b[39masarray(b))\n\u001b[0;32m--> 553\u001b[0m   \u001b[38;5;28;01mreturn\u001b[39;00m \u001b[43mlax_linalg\u001b[49m\u001b[38;5;241;43m.\u001b[39;49m\u001b[43m_solve\u001b[49m\u001b[43m(\u001b[49m\u001b[43ma\u001b[49m\u001b[43m,\u001b[49m\u001b[43m \u001b[49m\u001b[43mb\u001b[49m\u001b[43m)\u001b[49m\n",
      "    \u001b[0;31m[... skipping hidden 1 frame]\u001b[0m\n",
      "File \u001b[0;32m~/opt/anaconda3/envs/scheduling/lib/python3.10/site-packages/jax/_src/lax/linalg.py:337\u001b[0m, in \u001b[0;36m_check_solve_shapes\u001b[0;34m(a, b)\u001b[0m\n\u001b[1;32m    334\u001b[0m \u001b[38;5;28;01mdef\u001b[39;00m \u001b[38;5;21m_check_solve_shapes\u001b[39m(a, b):\n\u001b[1;32m    335\u001b[0m   \u001b[38;5;28;01mif\u001b[39;00m \u001b[38;5;129;01mnot\u001b[39;00m (a\u001b[38;5;241m.\u001b[39mndim \u001b[38;5;241m>\u001b[39m\u001b[38;5;241m=\u001b[39m \u001b[38;5;241m2\u001b[39m \u001b[38;5;129;01mand\u001b[39;00m b\u001b[38;5;241m.\u001b[39mndim \u001b[38;5;129;01min\u001b[39;00m [a\u001b[38;5;241m.\u001b[39mndim, a\u001b[38;5;241m.\u001b[39mndim \u001b[38;5;241m-\u001b[39m \u001b[38;5;241m1\u001b[39m] \u001b[38;5;129;01mand\u001b[39;00m\n\u001b[1;32m    336\u001b[0m           a\u001b[38;5;241m.\u001b[39mshape[\u001b[38;5;241m-\u001b[39m\u001b[38;5;241m1\u001b[39m] \u001b[38;5;241m==\u001b[39m a\u001b[38;5;241m.\u001b[39mshape[\u001b[38;5;241m-\u001b[39m\u001b[38;5;241m2\u001b[39m] \u001b[38;5;241m==\u001b[39m b\u001b[38;5;241m.\u001b[39mshape[a\u001b[38;5;241m.\u001b[39mndim \u001b[38;5;241m-\u001b[39m \u001b[38;5;241m2\u001b[39m]):\n\u001b[0;32m--> 337\u001b[0m     \u001b[38;5;28;01mraise\u001b[39;00m \u001b[38;5;167;01mValueError\u001b[39;00m(\n\u001b[1;32m    338\u001b[0m         \u001b[38;5;124m\"\u001b[39m\u001b[38;5;124mThe arguments to solve must have shapes a=[..., m, m] and \u001b[39m\u001b[38;5;124m\"\u001b[39m\n\u001b[1;32m    339\u001b[0m         \u001b[38;5;124mf\u001b[39m\u001b[38;5;124m\"\u001b[39m\u001b[38;5;124mb=[..., m, k] or b=[..., m]; got a=\u001b[39m\u001b[38;5;132;01m{\u001b[39;00ma\u001b[38;5;241m.\u001b[39mshape\u001b[38;5;132;01m}\u001b[39;00m\u001b[38;5;124m and b=\u001b[39m\u001b[38;5;132;01m{\u001b[39;00mb\u001b[38;5;241m.\u001b[39mshape\u001b[38;5;132;01m}\u001b[39;00m\u001b[38;5;124m\"\u001b[39m)\n",
      "\u001b[0;31mValueError\u001b[0m: The arguments to solve must have shapes a=[..., m, m] and b=[..., m, k] or b=[..., m]; got a=(1000,) and b=(1000, 1000)"
     ]
    }
   ],
   "source": [
    "args = test_t, test_sigma**2, jnp.array(test_theta, dtype=float)\n",
    "dfms_jax_version(*args).block_until_ready()"
   ]
  },
  {
   "cell_type": "code",
   "execution_count": 277,
   "id": "ee2e51af-4c90-46c0-852d-604038c950bc",
   "metadata": {},
   "outputs": [
    {
     "name": "stdout",
     "output_type": "stream",
     "text": [
      "[[5.55555556e-02 1.20111981e+00 4.20892991e-15]\n",
      " [1.20111981e+00 9.88576431e+04 1.67783275e+04]\n",
      " [4.12566318e-15 1.67783275e+04 5.59277583e+03]]\n",
      "[[5.55555556e-02 1.20111981e+00 4.20892991e-15]\n",
      " [1.20111981e+00 9.88576431e+04 1.67783275e+04]\n",
      " [4.12566318e-15 1.67783275e+04 5.59277583e+03]]\n",
      "[[5.55555556e-02 1.20111981e+00 4.20892991e-15]\n",
      " [1.20111981e+00 9.88576431e+04 1.67783275e+04]\n",
      " [4.12566318e-15 1.67783275e+04 5.59277583e+03]]\n",
      "[[ 5.55555578e-02  1.20111460e+00 -1.17548240e-06]\n",
      " [ 1.20111460e+00  9.88576464e+04  1.67783275e+04]\n",
      " [-1.17548240e-06  1.67783275e+04  5.59277596e+03]]\n"
     ]
    },
    {
     "name": "stderr",
     "output_type": "stream",
     "text": [
      "/var/folders/h2/sp_lfvz5515bhg_y92psw7f80000gn/T/ipykernel_20656/3422004031.py:60: RuntimeWarning: divide by zero encountered in true_divide\n",
      "  factor2 = 1/sigma**2\n",
      "/var/folders/h2/sp_lfvz5515bhg_y92psw7f80000gn/T/ipykernel_20656/49658345.py:88: RuntimeWarning: divide by zero encountered in true_divide\n",
      "  factor2 = 1/sigma**2\n",
      "/var/folders/h2/sp_lfvz5515bhg_y92psw7f80000gn/T/ipykernel_20656/3422004031.py:121: RuntimeWarning: divide by zero encountered in true_divide\n",
      "  factor2 = 1/sigma**2\n",
      "/var/folders/h2/sp_lfvz5515bhg_y92psw7f80000gn/T/ipykernel_20656/1974187515.py:3: RuntimeWarning: divide by zero encountered in true_divide\n",
      "  factor2 = 1/sigma**2\n"
     ]
    }
   ],
   "source": [
    "print(calculate_fim(test_t, test_sigma, test_theta))\n",
    "print(calculate_fim2(test_t, test_sigma, test_theta))\n",
    "print(calculate_fim_array(test_t, test_sigma, test_theta))\n",
    "print(calculate_fim_jax(test_t, test_sigma, test_theta))"
   ]
  },
  {
   "cell_type": "code",
   "execution_count": 246,
   "id": "d56ef253-721a-4e10-a948-39f0183e247b",
   "metadata": {},
   "outputs": [
    {
     "name": "stderr",
     "output_type": "stream",
     "text": [
      "/var/folders/h2/sp_lfvz5515bhg_y92psw7f80000gn/T/ipykernel_20656/3422004031.py:60: RuntimeWarning: divide by zero encountered in true_divide\n",
      "  factor2 = 1/sigma**2\n",
      "/var/folders/h2/sp_lfvz5515bhg_y92psw7f80000gn/T/ipykernel_20656/49658345.py:88: RuntimeWarning: divide by zero encountered in true_divide\n",
      "  factor2 = 1/sigma**2\n"
     ]
    },
    {
     "name": "stdout",
     "output_type": "stream",
     "text": [
      "nested for loop:  0.18660495901713148\n",
      "nested for loop but only calculating once:  0.07509366702288389\n",
      "array, and only calculating once:  0.07595166604733095\n"
     ]
    },
    {
     "name": "stderr",
     "output_type": "stream",
     "text": [
      "/var/folders/h2/sp_lfvz5515bhg_y92psw7f80000gn/T/ipykernel_20656/3422004031.py:121: RuntimeWarning: divide by zero encountered in true_divide\n",
      "  factor2 = 1/sigma**2\n",
      "/var/folders/h2/sp_lfvz5515bhg_y92psw7f80000gn/T/ipykernel_20656/1974187515.py:3: RuntimeWarning: divide by zero encountered in true_divide\n",
      "  factor2 = 1/sigma**2\n"
     ]
    },
    {
     "name": "stdout",
     "output_type": "stream",
     "text": [
      "nested for loop, but only calculating once and with JAX:  8.609815125004388\n",
      "DFM's JAX use:  0.44954545801738277\n"
     ]
    }
   ],
   "source": [
    "print(\"nested for loop: \", timeit.timeit(\"calculate_fim(test_t, test_sigma, test_theta)\", globals=globals(), number=1000))\n",
    "print(\"nested for loop but only calculating once: \", timeit.timeit(\"calculate_fim2(test_t, test_sigma, test_theta)\", globals=globals(), number=1000))\n",
    "print(\"array, and only calculating once: \", timeit.timeit(\"calculate_fim_array(test_t, test_sigma, test_theta)\", globals=globals(), number=1000))\n",
    "\n",
    "print(\"nested for loop, but only calculating once and with JAX: \", timeit.timeit(\"calculate_fim_jax(test_t, test_sigma, test_theta)\", globals=globals(), number=1000))\n",
    "print(\"DFM's JAX use: \", timeit.timeit(\"dfms_jax_version(*args).block_until_ready()\", globals=globals(), number=1000))\n"
   ]
  },
  {
   "cell_type": "code",
   "execution_count": 247,
   "id": "c623a469-28e7-4885-9286-8be5f0309907",
   "metadata": {},
   "outputs": [
    {
     "name": "stderr",
     "output_type": "stream",
     "text": [
      "/var/folders/h2/sp_lfvz5515bhg_y92psw7f80000gn/T/ipykernel_20656/3422004031.py:60: RuntimeWarning: divide by zero encountered in true_divide\n",
      "  factor2 = 1/sigma**2\n"
     ]
    },
    {
     "name": "stdout",
     "output_type": "stream",
     "text": [
      "175 µs ± 2.66 µs per loop (mean ± std. dev. of 7 runs, 10,000 loops each)\n"
     ]
    },
    {
     "name": "stderr",
     "output_type": "stream",
     "text": [
      "/var/folders/h2/sp_lfvz5515bhg_y92psw7f80000gn/T/ipykernel_20656/49658345.py:88: RuntimeWarning: divide by zero encountered in true_divide\n",
      "  factor2 = 1/sigma**2\n"
     ]
    },
    {
     "name": "stdout",
     "output_type": "stream",
     "text": [
      "75.7 µs ± 927 ns per loop (mean ± std. dev. of 7 runs, 10,000 loops each)\n",
      "440 µs ± 16.4 µs per loop (mean ± std. dev. of 7 runs, 1,000 loops each)\n"
     ]
    }
   ],
   "source": [
    "%timeit calculate_fim(test_t, test_sigma, test_theta)\n",
    "%timeit calculate_fim2(test_t, test_sigma, test_theta)\n",
    "%timeit dfms_jax_version(*args).block_until_ready()"
   ]
  },
  {
   "cell_type": "markdown",
   "id": "c628a747-0a5e-4f0e-a7d0-975c1c765546",
   "metadata": {},
   "source": [
    "Why is JAX still slower? Dan said that it's fine because everything is fast enough. The advantage of JAX is that I don't have to derive all partials by hand when I change the model."
   ]
  },
  {
   "cell_type": "code",
   "execution_count": 11,
   "id": "396a80be-876b-4b36-a128-7ed70a252bd5",
   "metadata": {},
   "outputs": [],
   "source": [
    "### free parameters from Langellier et al 2020\n",
    "# let's hold these constant for now, but maybe we should sample from the given uncertainties later?\n",
    "Tau = 23.6 # active region lifetime; days\n",
    "eta = 0.58 # smoothing parameter\n",
    "Prot = 28.1 # solar rotation period; days\n",
    "sigma_qp_s = 1.43e-3 # correlated noise amplitude\n",
    "sigma_wn_s = 0.178e-3 # white noise amplitude\n",
    "\n",
    "def cov_matrix(t, params):\n",
    "    \"\"\"\n",
    "    Build a covariance matrix, Sigma, that will be used in the calculation of the Fisher Information Matrix\n",
    "    \n",
    "    Inputs:\n",
    "    - t: time series of length N observations; np.array [day]\n",
    "    - Tau: active region lifetime [days]; free param taken from Langellier et al 2020\n",
    "    - eta: smoothing parameter; free param taken from Langellier et al 2020\n",
    "    - Prot: rotation period [days]; free param taken from Langellier et al 2020\n",
    "    - sigma_qp_s: correlated noise amplitude; free param taken from Langellier et al 2020\n",
    "    - sigma_wn_s: white noise amplitude; free param taken from Langellier et al 2020\n",
    "    \n",
    "    Outputs:\n",
    "    - N by N matrix of covariance elements following Equations 1 & 2 of Langellier et al 2020\n",
    "    \n",
    "    \"\"\"\n",
    "    \n",
    "    Tau, eta, Prot, sigma_qp_s, sigma_wn_s = params[0], params[1], params[2], params[3], params[4]\n",
    "    \n",
    "    # create N by N matrix, where N is length of observations time series\n",
    "    k = np.zeros((len(t),len(t)))\n",
    "    \n",
    "    for i in range(len(t)):\n",
    "        for j in range(len(t)):\n",
    "            term1 = ((t[i]-t[j])**2)/(2*Tau**2)\n",
    "            term2 = (1/(2*eta**2)) * (np.sin(np.pi * (t[i] - t[j])/Prot))**2\n",
    "            arg = -term1 - term2\n",
    "            k[i][j] = np.exp(arg)\n",
    "    K = sigma_qp_s**2 * k + sigma_wn_s**2 * np.diag(np.ones(len(t)))\n",
    "    \n",
    "    return K\n",
    "\n",
    "params = [Tau, eta, Prot, sigma_qp_s, sigma_wn_s]\n",
    "#cov_matrix(strat, params)"
   ]
  },
  {
   "cell_type": "code",
   "execution_count": 279,
   "id": "e84eb6fe-4188-4d3a-bb9f-ceefbb0ccce5",
   "metadata": {},
   "outputs": [
    {
     "name": "stdout",
     "output_type": "stream",
     "text": [
      "[[ 1.6059224e+08  3.5288011e+10 -4.3776000e+04]\n",
      " [ 3.5288289e+10  2.8544356e+14  4.7224310e+13]\n",
      " [ 1.4298535e+04  4.7224348e+13  1.5741440e+13]]\n",
      "[[-7.46580526e+20 -1.54305262e+24  6.54311424e+08]\n",
      " [-1.54305262e+24 -1.53188892e+27  2.73888085e+26]\n",
      " [ 6.10803710e+08  2.73888085e+26  9.12960283e+25]]\n"
     ]
    }
   ],
   "source": [
    "test_sigma_correlated = cov_matrix(test_t, params)\n",
    "args = test_t, test_sigma_correlated, jnp.array(test_theta, dtype=float)\n",
    "print(dfms_jax_version(*args).block_until_ready())\n",
    "print(calculate_fim2(test_t, test_sigma_correlated, test_theta))\n",
    "#print(calculate_fim_array(test_t, test_sigma_correlated, test_theta))\n",
    "#print(calculate_fim_jax(test_t, test_sigma_correlated, test_theta))"
   ]
  },
  {
   "cell_type": "code",
   "execution_count": 250,
   "id": "b16d9d1d-c2de-4fa2-bba4-9e3958e31f1d",
   "metadata": {},
   "outputs": [
    {
     "data": {
      "image/png": "[encoded data removed]",
      "text/plain": [
       "<Figure size 640x480 with 2 Axes>"
      ]
     },
     "metadata": {},
     "output_type": "display_data"
    }
   ],
   "source": [
    "plt.imshow(test_sigma_correlated)\n",
    "plt.colorbar()\n",
    "plt.show()"
   ]
  },
  {
   "cell_type": "code",
   "execution_count": 219,
   "id": "ce880776-18dd-4dd2-8ee0-cb478d606d18",
   "metadata": {},
   "outputs": [
    {
     "name": "stdout",
     "output_type": "stream",
     "text": [
      "162 µs ± 410 ns per loop (mean ± std. dev. of 7 runs, 10,000 loops each)\n",
      "65.2 µs ± 610 ns per loop (mean ± std. dev. of 7 runs, 10,000 loops each)\n",
      "177 µs ± 237 ns per loop (mean ± std. dev. of 7 runs, 10,000 loops each)\n"
     ]
    }
   ],
   "source": [
    "%timeit calculate_fim(test_t, test_sigma_correlated, test_theta)\n",
    "%timeit calculate_fim2(test_t, test_sigma_correlated, test_theta)\n",
    "args = test_t, test_sigma_correlated, jnp.array(test_theta, dtype=float)\n",
    "%timeit dfms_jax_version(*args).block_until_ready()"
   ]
  },
  {
   "cell_type": "code",
   "execution_count": null,
   "id": "59203814-83fa-4791-9b95-2cc707d0c561",
   "metadata": {},
   "outputs": [
    {
     "data": {
      "text/plain": [
       "[23.6, 0.58, 28.1, 0.00143, 0.000178]"
      ]
     },
     "execution_count": 263,
     "metadata": {},
     "output_type": "execute_result"
    }
   ],
   "source": [
    "params"
   ]
  },
  {
   "cell_type": "markdown",
   "id": "1e464cb2-ea37-48cc-8b3b-77acde8b2c1e",
   "metadata": {},
   "source": [
    "### Use case for DJ's NEID proposal"
   ]
  },
  {
   "cell_type": "code",
   "execution_count": 196,
   "id": "1e19f797-1867-42e6-9253-09c0fbdcc2ef",
   "metadata": {},
   "outputs": [
    {
     "name": "stderr",
     "output_type": "stream",
     "text": [
      "/var/folders/h2/sp_lfvz5515bhg_y92psw7f80000gn/T/ipykernel_47798/117128919.py:51: RuntimeWarning: invalid value encountered in sqrt\n",
      "  sigma_k = np.sqrt(inv_fim)[0][0]\n",
      "/var/folders/h2/sp_lfvz5515bhg_y92psw7f80000gn/T/ipykernel_47798/117128919.py:65: RuntimeWarning: invalid value encountered in sqrt\n",
      "  sigma_k = np.sqrt(inv_fim)[0][0]\n"
     ]
    }
   ],
   "source": [
    "Prot = 10.8\n",
    "Tau = 23.6 # active region lifetime; days\n",
    "eta = 0.58 # smoothing parameter\n",
    "sigma_wn_s = 200 # white noise amplitude, # cm/s\n",
    "sigma_qp_s = 500 # correlated noise amplitude, cm/s\n",
    "params = [Tau, eta, Prot, sigma_qp_s, sigma_wn_s]\n",
    "test_K = 500 # cm/s\n",
    "#sigma = 200 # cm/s\n",
    "\n",
    "#start = 2360\n",
    "test_P = 8.2\n",
    "starts = np.linspace(2360-test_P, 2360, 200, endpoint=False)\n",
    "start = 2358 #2355\n",
    "dim = 100\n",
    "cadences = np.linspace(0.30, 6.85, dim)\n",
    "periods = np.array([test_P])\n",
    "n_obs = 30 #40\n",
    "\n",
    "sigma_k_test = []\n",
    "sigma_k_solve_test = []\n",
    "sigma_k_stable_test = []\n",
    "fi_k_test = []\n",
    "\n",
    "fi_k_jax_test = []\n",
    "sigma_k_jax_test = []\n",
    "\n",
    "#fi_jax = np.ones(len(periods)*len(cadences)).reshape((len(periods),len(cadences)))\n",
    "\n",
    "for enum_c, c in enumerate(cadences):\n",
    "    \n",
    "    end = start + c * n_obs\n",
    "    strat = np.linspace(start, end, n_obs, endpoint=False) + np.random.normal(0, 1./24)\n",
    "    test_sigma_correlated = cov_matrix(strat, params)\n",
    "    test_sigma_correlated += 1e-6\n",
    "    test_theta = [test_K, test_P, test_T0]\n",
    "\n",
    "    ### CALCULATE FIM\n",
    "    #fim = calculate_fim_array(strat, test_sigma_correlated, test_theta)\n",
    "    partial_k = partial_mu(strat, test_theta, 'K')\n",
    "    partial_p = partial_mu(strat, test_theta, 'P')\n",
    "    partial_t = partial_mu(strat, test_theta, 'T0')\n",
    "    \n",
    "    #print(np.dot(np.dot(partial_k, factor2), partial_k))\n",
    "    #print(np.array([np.dot(np.dot(partial_k, factor2), partial_k), np.dot(np.dot(partial_k, factor2), partial_p), np.dot(np.dot(partial_k, factor2), partial_t)]))\n",
    "    factor2 = np.linalg.solve(test_sigma_correlated, np.identity(len(test_sigma_correlated))) # invert to make factor2 for FIM\n",
    "    fim = np.stack([np.array([np.dot(np.dot(partial_k, factor2), partial_k), np.dot(np.dot(partial_k, factor2), partial_p), np.dot(np.dot(partial_k, factor2), partial_t)]),\n",
    "                  np.array([np.dot(np.dot(partial_p, factor2), partial_k), np.dot(np.dot(partial_p, factor2), partial_p), np.dot(np.dot(partial_p, factor2), partial_t)]),\n",
    "                  np.array([np.dot(np.dot(partial_t, factor2), partial_k), np.dot(np.dot(partial_t, factor2), partial_p), np.dot(np.dot(partial_t, factor2), partial_t)])])\n",
    "    \n",
    "    inv_fim = inv(fim)\n",
    "    sigma_k = np.sqrt(inv_fim)[0][0]\n",
    "    sigma_k_stable = 1/np.sqrt(fim[0][0])\n",
    "    sigma_k_solve = np.linalg.solve(fim, np.identity(len(fim)))[0][0] # invert to make factor2 for FIM\n",
    "    \n",
    "    #fim, sigma_k = strategy(start=start, n_obs=n_obs, cadence=c, theta=test_theta)#, sigma_val=sigma_wn_s)#, sigma_val=sigma)\n",
    "    fi_k_test.append(fim[0][0])\n",
    "    sigma_k_test.append(sigma_k)\n",
    "    sigma_k_stable_test.append(sigma_k_stable)\n",
    "    sigma_k_solve_test.append(sigma_k_solve)\n",
    "    \n",
    "    ### CALCULATE FIM BY JAX\n",
    "    args = strat, test_sigma_correlated, jnp.array(test_theta, dtype=float)\n",
    "    fim = dfms_jax_version(*args).block_until_ready()\n",
    "    inv_fim = inv(fim)\n",
    "    sigma_k = np.sqrt(inv_fim)[0][0]\n",
    "    \n",
    "    fi_k_jax_test.append(fim[0][0])\n",
    "    sigma_k_jax_test.append(sigma_k)\n",
    "    \n",
    "    \n",
    "#fi_k_test = np.array(fi_k_test)\n",
    "#sigma_k_test = np.array(sigma_k_test)\n"
   ]
  },
  {
   "cell_type": "code",
   "execution_count": 218,
   "id": "3545e0d3-f7d8-4efa-8151-e562d80ea192",
   "metadata": {},
   "outputs": [
    {
     "data": {
      "image/png": "[encoded data removed]",
      "text/plain": [
       "<Figure size 640x480 with 1 Axes>"
      ]
     },
     "metadata": {},
     "output_type": "display_data"
    }
   ],
   "source": [
    "plt.plot(cadences, fi_k_jax_test)\n",
    "plt.yscale('log')\n",
    "#plt.xlim([1, 2])\n",
    "#plt.ylim([3e-4, 1e-2])\n",
    "plt.xlabel('cadence [days]')\n",
    "plt.ylabel(r'Fisher Information $[s/cm]^2$')\n",
    "#plt.ylabel(r'$\\sigma_{K}$ [cm/s]')\n",
    "#plt.savefig('sigma_k_for_dj.pdf', format='pdf')\n",
    "#plt.savefig('fi_for_dj.pdf', format='pdf')\n",
    "plt.show()"
   ]
  },
  {
   "cell_type": "code",
   "execution_count": 219,
   "id": "3b4cb92e-62f4-466e-9e1d-65e5ff1710a3",
   "metadata": {},
   "outputs": [
    {
     "data": {
      "image/png": "[encoded data removed]",
      "text/plain": [
       "<Figure size 640x480 with 1 Axes>"
      ]
     },
     "metadata": {},
     "output_type": "display_data"
    }
   ],
   "source": [
    "plt.plot(cadences, sigma_k_jax_test)\n",
    "plt.yscale('log')\n",
    "#plt.xlim([1, 2])\n",
    "#plt.ylim([3e-4, 1e-2])\n",
    "plt.xlabel('cadence [days]')\n",
    "#plt.ylabel(r'Fisher Information $[s/cm]^2$')\n",
    "plt.ylabel(r'$\\sigma_{K}$ [cm/s]')\n",
    "#plt.savefig('sigma_k_for_dj.pdf', format='pdf')\n",
    "#plt.savefig('fi_for_dj_zoomed_in.pdf', format='pdf')\n",
    "plt.show()"
   ]
  },
  {
   "cell_type": "code",
   "execution_count": 199,
   "id": "21b66e3c-15d8-4fac-a64d-7472c853cb69",
   "metadata": {},
   "outputs": [
    {
     "data": {
      "image/png": "[encoded data removed]",
      "text/plain": [
       "<Figure size 640x480 with 1 Axes>"
      ]
     },
     "metadata": {},
     "output_type": "display_data"
    }
   ],
   "source": [
    "plt.plot(cadences, sigma_k_stable_test)\n",
    "plt.yscale('log')\n",
    "#plt.xlim([1, 2])\n",
    "#plt.ylim([3e-4, 1e-2])\n",
    "plt.xlabel('cadence')\n",
    "#plt.ylabel(r'Fisher Information $[s/cm]^2$')\n",
    "plt.ylabel(r'$\\sigma_{K}$ [cm/s]')\n",
    "#plt.savefig('sigma_k_for_dj.pdf', format='pdf')\n",
    "#plt.savefig('fi_for_dj_zoomed_in.pdf', format='pdf')\n",
    "plt.show()"
   ]
  },
  {
   "cell_type": "code",
   "execution_count": 200,
   "id": "8161c604-369c-4a25-a093-69cfed0f4a20",
   "metadata": {},
   "outputs": [
    {
     "data": {
      "image/png": "[encoded data removed]",
      "text/plain": [
       "<Figure size 640x480 with 1 Axes>"
      ]
     },
     "metadata": {},
     "output_type": "display_data"
    }
   ],
   "source": [
    "plt.plot(cadences, sigma_k_solve_test)\n",
    "plt.yscale('log')\n",
    "#plt.xlim([1, 2])\n",
    "#plt.ylim([3e-4, 1e-2])\n",
    "plt.xlabel('cadence')\n",
    "#plt.ylabel(r'Fisher Information $[s/cm]^2$')\n",
    "plt.ylabel(r'$\\sigma_{K}$ [cm/s]')\n",
    "#plt.savefig('sigma_k_for_dj.pdf', format='pdf')\n",
    "#plt.savefig('fi_for_dj_zoomed_in.pdf', format='pdf')\n",
    "plt.show()"
   ]
  },
  {
   "cell_type": "markdown",
   "id": "cb50d625-6c32-4bc0-b335-34dbe43368d5",
   "metadata": {},
   "source": [
    "#### Marginalize over start times"
   ]
  },
  {
   "cell_type": "code",
   "execution_count": 201,
   "id": "66a17fef-1e39-4add-a6d7-fcea32a541c1",
   "metadata": {},
   "outputs": [
    {
     "name": "stderr",
     "output_type": "stream",
     "text": [
      "/var/folders/h2/sp_lfvz5515bhg_y92psw7f80000gn/T/ipykernel_47798/3550849465.py:49: RuntimeWarning: invalid value encountered in sqrt\n",
      "  sigma_k = np.sqrt(inv_fim)[0][0]\n"
     ]
    }
   ],
   "source": [
    "Prot = 10.8\n",
    "Tau = 23.6 # active region lifetime; days\n",
    "eta = 0.58 # smoothing parameter\n",
    "sigma_wn_s = 200 # white noise amplitude, # cm/s\n",
    "sigma_qp_s = 500 # correlated noise amplitude, cm/s\n",
    "params = [Tau, eta, Prot, sigma_qp_s, sigma_wn_s]\n",
    "test_K = 500 # cm/s\n",
    "#sigma = 200 # cm/s\n",
    "\n",
    "#start = 2360\n",
    "test_P = 8.2\n",
    "starts = np.linspace(2360-test_P, 2360, 200, endpoint=False)\n",
    "start = 2300 #2355\n",
    "dim = 100\n",
    "cadences = np.linspace(0.30, 6.85, dim)\n",
    "periods = np.array([test_P])\n",
    "n_obs = 30 #40\n",
    "\n",
    "sigma_k_test = []\n",
    "sigma_k_solve_test = []\n",
    "sigma_k_stable_test = []\n",
    "fi_k_test = []\n",
    "\n",
    "#fi_jax = np.ones(len(periods)*len(cadences)).reshape((len(periods),len(cadences)))\n",
    "\n",
    "for enum_c, c in enumerate(cadences):\n",
    "    fim_ii = 0\n",
    "    sigma_k_ii = 0\n",
    "    for start in starts:\n",
    "        end = start + c * n_obs\n",
    "        strat = np.linspace(start, end, n_obs, endpoint=False) + np.random.normal(0, 1./24)\n",
    "        test_sigma_correlated = cov_matrix(strat, params)\n",
    "        test_theta = [test_K, test_P, test_T0]\n",
    "\n",
    "        ### CALCULATE FIM\n",
    "        #fim = calculate_fim_array(strat, test_sigma_correlated, test_theta)\n",
    "        partial_k = partial_mu(strat, test_theta, 'K')\n",
    "        partial_p = partial_mu(strat, test_theta, 'P')\n",
    "        partial_t = partial_mu(strat, test_theta, 'T0')\n",
    "\n",
    "        #print(np.dot(np.dot(partial_k, factor2), partial_k))\n",
    "        #print(np.array([np.dot(np.dot(partial_k, factor2), partial_k), np.dot(np.dot(partial_k, factor2), partial_p), np.dot(np.dot(partial_k, factor2), partial_t)]))\n",
    "        factor2 = np.linalg.solve(test_sigma_correlated, np.identity(len(test_sigma_correlated))) # invert to make factor2 for FIM\n",
    "        fim = np.stack([np.array([np.dot(np.dot(partial_k, factor2), partial_k), np.dot(np.dot(partial_k, factor2), partial_p), np.dot(np.dot(partial_k, factor2), partial_t)]),\n",
    "                      np.array([np.dot(np.dot(partial_p, factor2), partial_k), np.dot(np.dot(partial_p, factor2), partial_p), np.dot(np.dot(partial_p, factor2), partial_t)]),\n",
    "                      np.array([np.dot(np.dot(partial_t, factor2), partial_k), np.dot(np.dot(partial_t, factor2), partial_p), np.dot(np.dot(partial_t, factor2), partial_t)])])\n",
    "\n",
    "        inv_fim = inv(fim)\n",
    "        sigma_k = np.sqrt(inv_fim)[0][0]\n",
    "        #sigma_k_stable = 1/np.sqrt(fim[0][0])\n",
    "        #sigma_k_solve = np.linalg.solve(fim, np.identity(len(fim)))[0][0] # invert to make factor2 for FIM\n",
    "\n",
    "        #fim, sigma_k = strategy(start=start, n_obs=n_obs, cadence=c, theta=test_theta)#, sigma_val=sigma_wn_s)#, sigma_val=sigma)\n",
    "        \n",
    "        fim_ii += fim[0][0]\n",
    "        sigma_k_ii += sigma_k\n",
    "        \n",
    "    fim_ii = fim_ii/200.\n",
    "    sigma_k_ii = sigma_k_ii/200.\n",
    "    \n",
    "    fi_k_test.append(fim_ii)\n",
    "    sigma_k_test.append(sigma_k_ii)\n",
    "    #sigma_k_stable_test.append(sigma_k_stable)\n",
    "    #sigma_k_solve_test.append(sigma_k_solve)\n",
    "        \n",
    "#fi_k_test = np.array(fi_k_test)\n",
    "#sigma_k_test = np.array(sigma_k_test)\n",
    "\n"
   ]
  },
  {
   "cell_type": "code",
   "execution_count": 220,
   "id": "8030a02a-c29a-4380-95b7-b4b1a75d5dbd",
   "metadata": {},
   "outputs": [
    {
     "data": {
      "image/png": "[encoded data removed]",
      "text/plain": [
       "<Figure size 640x480 with 1 Axes>"
      ]
     },
     "metadata": {},
     "output_type": "display_data"
    }
   ],
   "source": [
    "plt.plot(cadences, fi_k_test)\n",
    "plt.yscale('log')\n",
    "#plt.xlim([1, 2])\n",
    "#plt.ylim([3e-4, 1e-2])\n",
    "plt.xlabel('cadence [days]')\n",
    "plt.ylabel(r'Fisher Information $[s/cm]^2$')\n",
    "#plt.ylabel(r'$\\sigma_{K}$ [cm/s]')\n",
    "#plt.savefig('sigma_k_for_dj.pdf', format='pdf')\n",
    "plt.savefig('fi_for_dj_marginalized.pdf', format='pdf')\n",
    "plt.show()"
   ]
  },
  {
   "cell_type": "code",
   "execution_count": 221,
   "id": "b11ba96f-3bf3-4042-9d9b-64de73d76f2e",
   "metadata": {},
   "outputs": [
    {
     "data": {
      "image/png": "[encoded data removed]",
      "text/plain": [
       "<Figure size 640x480 with 1 Axes>"
      ]
     },
     "metadata": {},
     "output_type": "display_data"
    }
   ],
   "source": [
    "plt.plot(cadences, sigma_k_test)\n",
    "plt.yscale('log')\n",
    "#plt.xlim([1, 2])\n",
    "#plt.ylim([3e-4, 1e-2])\n",
    "plt.xlabel('cadence [days]')\n",
    "#plt.ylabel(r'Fisher Information $[s/cm]^2$')\n",
    "plt.ylabel(r'$\\sigma_{K}$ [cm/s]')\n",
    "plt.savefig('sigma_k_for_dj_marginalized.pdf', format='pdf')\n",
    "#plt.savefig('fi_for_dj_zoomed_in.pdf', format='pdf')\n",
    "plt.show()"
   ]
  },
  {
   "cell_type": "markdown",
   "id": "db40a60a-d4f7-4c05-8b7c-a5d91aa51436",
   "metadata": {},
   "source": [
    "#### White noise"
   ]
  },
  {
   "cell_type": "code",
   "execution_count": 42,
   "id": "b31401fa-8b8f-432c-8088-afce4d3c412a",
   "metadata": {},
   "outputs": [
    {
     "name": "stderr",
     "output_type": "stream",
     "text": [
      "/var/folders/h2/sp_lfvz5515bhg_y92psw7f80000gn/T/ipykernel_47798/4288345134.py:51: RuntimeWarning: invalid value encountered in sqrt\n",
      "  sigma_k = np.sqrt(inv_fim)[0][0]\n"
     ]
    }
   ],
   "source": [
    "Prot = 10.8\n",
    "Tau = 23.6 # active region lifetime; days\n",
    "eta = 0.58 # smoothing parameter\n",
    "sigma_wn_s = 200 # white noise amplitude, # cm/s\n",
    "sigma_qp_s = 500 # correlated noise amplitude, cm/s\n",
    "params = [Tau, eta, Prot, sigma_qp_s, sigma_wn_s]\n",
    "test_K = 500 # cm/s\n",
    "#sigma = 200 # cm/s\n",
    "\n",
    "#start = 2360\n",
    "test_P = 8.2\n",
    "starts = np.linspace(2360-test_P, 2360, 200, endpoint=False)\n",
    "start = 2300 #2355\n",
    "dim = 100\n",
    "cadences = np.linspace(0.30, 6.85, dim)\n",
    "periods = np.array([test_P])\n",
    "n_obs = 30 #40\n",
    "\n",
    "sigma_k_test = []\n",
    "sigma_k_solve_test = []\n",
    "sigma_k_stable_test = []\n",
    "fi_k_test = []\n",
    "\n",
    "#fi_jax = np.ones(len(periods)*len(cadences)).reshape((len(periods),len(cadences)))\n",
    "\n",
    "for enum_c, c in enumerate(cadences):\n",
    "    fim_ii = 0\n",
    "    sigma_k_ii = 0\n",
    "    for start in starts:\n",
    "        end = start + c * n_obs\n",
    "        strat = np.linspace(2300, end, n_obs, endpoint=False) + np.random.normal(0, 1./24)\n",
    "        sigma_wn_s += 1e-6 # perturb sigma_val to guard against numerical instabilities\n",
    "        sigma = np.diag(np.ones(len(strat))) * sigma_wn_s**2 # covariance matrix of scalar sigma_RV's\n",
    "        \n",
    "        test_theta = [test_K, test_P, test_T0]\n",
    "\n",
    "        ### CALCULATE FIM\n",
    "        #fim = calculate_fim_array(strat, test_sigma_correlated, test_theta)\n",
    "        partial_k = partial_mu(strat, test_theta, 'K')\n",
    "        partial_p = partial_mu(strat, test_theta, 'P')\n",
    "        partial_t = partial_mu(strat, test_theta, 'T0')\n",
    "\n",
    "        #print(np.dot(np.dot(partial_k, factor2), partial_k))\n",
    "        #print(np.array([np.dot(np.dot(partial_k, factor2), partial_k), np.dot(np.dot(partial_k, factor2), partial_p), np.dot(np.dot(partial_k, factor2), partial_t)]))\n",
    "        factor2 = np.linalg.solve(sigma, np.identity(len(sigma))) # invert to make factor2 for FIM\n",
    "        fim = np.stack([np.array([np.dot(np.dot(partial_k, factor2), partial_k), np.dot(np.dot(partial_k, factor2), partial_p), np.dot(np.dot(partial_k, factor2), partial_t)]),\n",
    "                      np.array([np.dot(np.dot(partial_p, factor2), partial_k), np.dot(np.dot(partial_p, factor2), partial_p), np.dot(np.dot(partial_p, factor2), partial_t)]),\n",
    "                      np.array([np.dot(np.dot(partial_t, factor2), partial_k), np.dot(np.dot(partial_t, factor2), partial_p), np.dot(np.dot(partial_t, factor2), partial_t)])])\n",
    "\n",
    "        inv_fim = inv(fim)\n",
    "        sigma_k = np.sqrt(inv_fim)[0][0]\n",
    "        #sigma_k_stable = 1/np.sqrt(fim[0][0])\n",
    "        #sigma_k_solve = np.linalg.solve(fim, np.identity(len(fim)))[0][0] # invert to make factor2 for FIM\n",
    "\n",
    "        #fim, sigma_k = strategy(start=start, n_obs=n_obs, cadence=c, theta=test_theta)#, sigma_val=sigma_wn_s)#, sigma_val=sigma)\n",
    "        \n",
    "        fim_ii += fim[0][0]\n",
    "        sigma_k_ii += sigma_k\n",
    "        \n",
    "    fim_ii = fim_ii/200.\n",
    "    sigma_k_ii = sigma_k_ii/200.\n",
    "    \n",
    "    fi_k_test.append(fim_ii)\n",
    "    sigma_k_test.append(sigma_k_ii)\n",
    "    #sigma_k_stable_test.append(sigma_k_stable)\n",
    "    #sigma_k_solve_test.append(sigma_k_solve)\n",
    "        \n",
    "#fi_k_test = np.array(fi_k_test)\n",
    "#sigma_k_test = np.array(sigma_k_test)\n",
    "\n",
    "\n"
   ]
  },
  {
   "cell_type": "code",
   "execution_count": 43,
   "id": "fe1a6f6b-910b-42b3-b5d1-2c7ea4f97163",
   "metadata": {},
   "outputs": [
    {
     "data": {
      "image/png": "[encoded data removed]",
      "text/plain": [
       "<Figure size 640x480 with 1 Axes>"
      ]
     },
     "metadata": {},
     "output_type": "display_data"
    }
   ],
   "source": [
    "plt.plot(cadences, fi_k_test)\n",
    "plt.yscale('log')\n",
    "#plt.xlim([1, 2])\n",
    "#plt.ylim([3e-4, 1e-2])\n",
    "plt.xlabel('cadence')\n",
    "plt.ylabel(r'Fisher Information $[s/cm]^2$')\n",
    "#plt.ylabel(r'$\\sigma_{K}$ [cm/s]')\n",
    "#plt.savefig('sigma_k_for_dj.pdf', format='pdf')\n",
    "#plt.savefig('fi_for_dj_marginalized.pdf', format='pdf')\n",
    "plt.show()"
   ]
  },
  {
   "cell_type": "code",
   "execution_count": 44,
   "id": "973fb67d-4e6c-4c8d-9833-0f49c4cc4ebd",
   "metadata": {},
   "outputs": [
    {
     "data": {
      "image/png": "[encoded data removed]",
      "text/plain": [
       "<Figure size 640x480 with 1 Axes>"
      ]
     },
     "metadata": {},
     "output_type": "display_data"
    }
   ],
   "source": [
    "plt.plot(cadences, sigma_k_test)\n",
    "plt.yscale('log')\n",
    "#plt.xlim([1, 2])\n",
    "#plt.ylim([3e-4, 1e-2])\n",
    "plt.xlabel('cadence')\n",
    "#plt.ylabel(r'Fisher Information $[s/cm]^2$')\n",
    "plt.ylabel(r'$\\sigma_{K}$ [cm/s]')\n",
    "#plt.savefig('sigma_k_for_dj_marginalized.pdf', format='pdf')\n",
    "#plt.savefig('fi_for_dj_zoomed_in.pdf', format='pdf')\n",
    "plt.show()"
   ]
  },
  {
   "cell_type": "markdown",
   "id": "2ae12f6c-b047-40bd-a278-2c5caa629680",
   "metadata": {},
   "source": [
    "Ok, so the peaks in sigma K are not due to the covariance matrix."
   ]
  },
  {
   "cell_type": "markdown",
   "id": "e4869643-193f-4799-8d89-68ff216dc257",
   "metadata": {},
   "source": [
    "#### Plot RV curve to check strategy"
   ]
  },
  {
   "cell_type": "code",
   "execution_count": 183,
   "id": "99c34ba0-1b43-4c9d-8a05-2a95368e7464",
   "metadata": {},
   "outputs": [],
   "source": [
    "def model(t, theta): \n",
    "    \"\"\"\n",
    "    Radial velocity model, given timestamps and planetary orbital parameters\n",
    "    \n",
    "    Inputs: \n",
    "    - t: time series of length N observations; np.array [day]\n",
    "    - sigma: RV measurement uncertainties associated with each observation; np.array of length N [cm/s]\n",
    "    - theta: planet orbital parameters; eg. [K, P, T0]; np.array\n",
    "    \n",
    "    theta breakdown:\n",
    "    - K: RV semi-amplitude [cm/s]\n",
    "    - P: planet period [days]\n",
    "    - T0: mean transit time [day]\n",
    "\n",
    "    \"\"\"\n",
    "    \n",
    "    K, P, T0 = theta[0], theta[1], theta[2]\n",
    "    arg = (2*np.pi/P)*(t-T0)\n",
    "    rv = -K * np.sin(arg)\n",
    "    return rv\n",
    "\n",
    "def model_jax(t, K, P, T0): \n",
    "    \"\"\"\n",
    "    Radial velocity model, given timestamps and planetary orbital parameters, but JAXified\n",
    "    (basically, np --> jnp)\n",
    "    \n",
    "    Inputs: \n",
    "    - t: time series of length N observations; np.array [day]\n",
    "    - K: RV semi-amplitude [cm/s]\n",
    "    - P: planet period [days]\n",
    "    - T0: mean transit time [day]\n",
    "\n",
    "    \"\"\"\n",
    "    \n",
    "    #K, P, T0 = theta[0], theta[1], theta[2]\n",
    "    arg = (2*jnp.pi/P)*(t-T0)\n",
    "    rv = -K * jnp.sin(arg)\n",
    "    \n",
    "    return rv\n",
    "\n",
    "def model_normalized(t, K, P, T0): \n",
    "    \"\"\"\n",
    "    Radial velocity model, given timestamps and planetary orbital parameters\n",
    "    \n",
    "    Inputs: \n",
    "    - t: time series of length N observations; np.array [day]\n",
    "    - K: RV semi-amplitude [cm/s]\n",
    "    - P: planet period [days]\n",
    "    - T0: mean transit time [day]\n",
    "\n",
    "    \"\"\"\n",
    "    \n",
    "    normalized_T0 = T0 % P\n",
    "    normalized_t = t % P\n",
    "    #print(normalized_t)\n",
    "    arg = (2*jnp.pi/P)*(normalized_t-normalized_T0)\n",
    "    rv = -K * jnp.sin(arg)\n",
    "    #print(arg)\n",
    "    return rv"
   ]
  },
  {
   "cell_type": "code",
   "execution_count": 94,
   "id": "3c62ae53-4f41-4203-a528-f04d37045b93",
   "metadata": {},
   "outputs": [
    {
     "data": {
      "text/plain": [
       "2358"
      ]
     },
     "execution_count": 94,
     "metadata": {},
     "output_type": "execute_result"
    }
   ],
   "source": [
    "start"
   ]
  },
  {
   "cell_type": "code",
   "execution_count": 207,
   "id": "e60d8e65-0391-49b5-a5e8-7c50b8455daa",
   "metadata": {},
   "outputs": [
    {
     "name": "stdout",
     "output_type": "stream",
     "text": [
      "57 4.071212121212121 3310.1063262762555\n",
      "79 5.526767676767676 53.237755738638974\n",
      "0 0.3 272.70447\n",
      "79 5.526767676767676 52.309788\n"
     ]
    }
   ],
   "source": [
    "print(np.argmax(sigma_k_test), cadences[np.argmax(sigma_k_test)], max(sigma_k_test))\n",
    "print(np.argmin(sigma_k_test), cadences[np.argmin(sigma_k_test)], min(sigma_k_test))\n",
    "\n",
    "print(np.argmax(sigma_k_jax_test), cadences[np.argmax(sigma_k_jax_test)], max(sigma_k_jax_test))\n",
    "print(np.argmin(sigma_k_jax_test), cadences[np.argmin(sigma_k_jax_test)], min(sigma_k_jax_test))"
   ]
  },
  {
   "cell_type": "code",
   "execution_count": 216,
   "id": "ee5008bd-b8af-4eda-a390-7dbb18e11230",
   "metadata": {},
   "outputs": [
    {
     "name": "stdout",
     "output_type": "stream",
     "text": [
      "cadence:  4.071212121212121\n",
      "[ 0.01539207 -0.03744241  0.05947453 -0.08147771  0.10344125 -0.12535446\n",
      "  0.14720668 -0.16898727  0.19068564 -0.21229123] [-9.38466518e-01 -1.89144197e+02  3.78820650e+02 -5.67813731e+02\n",
      "  7.55846855e+02 -9.42644236e+02  1.12793111e+03 -1.31143396e+03\n",
      "  1.49288075e+03 -1.67200111e+03] [ 383.07566893 -382.85240596  382.44286347 -381.84724071  381.06582749\n",
      " -380.09900402  378.9472407  -377.61109794  376.09122584 -374.38836391]\n",
      "stable sigma K:  110.23360312537395\n",
      "sigma K:  4092.823990244674\n"
     ]
    },
    {
     "name": "stderr",
     "output_type": "stream",
     "text": [
      "/var/folders/h2/sp_lfvz5515bhg_y92psw7f80000gn/T/ipykernel_47798/1731232842.py:45: RuntimeWarning: invalid value encountered in sqrt\n",
      "  sigma_k = np.sqrt(inv_fim)[0][0]\n"
     ]
    },
    {
     "data": {
      "image/png": "[encoded data removed]",
      "text/plain": [
       "<Figure size 640x480 with 1 Axes>"
      ]
     },
     "metadata": {},
     "output_type": "display_data"
    }
   ],
   "source": [
    "### bad\n",
    "cadence = cadences[np.argmax(sigma_k_test)] \n",
    "print(\"cadence: \", cadence)\n",
    "n_obs = 30\n",
    "\n",
    "\"\"\"\n",
    "sigma_k, sigma_k_stable, sigma_k_solve, fim = strategy(start=2300, n_obs=n_obs, cadence=cadence, theta=test_theta, sigma_val=30)\n",
    "print(\"FIM: \", fim)\n",
    "print(\"sigma_k using linalg.inv: \", sigma_k)\n",
    "print(\"sigma_k using linalg.solve: \", sigma_k_solve)\n",
    "print(\"sigma_k using 1/sqrt(FIM_ii): \", sigma_k_stable)\n",
    "\"\"\"\n",
    "### CALCULATE FIM\n",
    "end = start + cadence * n_obs\n",
    "strat = np.linspace(start, end, n_obs, endpoint=False) + np.random.normal(0, 1./24)\n",
    "test_sigma_correlated = cov_matrix(strat, params)\n",
    "test_theta = [test_K, test_P, test_T0]\n",
    "\n",
    "### CALCULATE FIM\n",
    "#fim = calculate_fim_array(strat, test_sigma_correlated, test_theta)\n",
    "partial_k = partial_mu(strat, test_theta, 'K')\n",
    "partial_p = partial_mu(strat, test_theta, 'P')\n",
    "partial_t = partial_mu(strat, test_theta, 'T0')\n",
    "print(partial_k[0:10], partial_p[0:10], partial_t[0:10])\n",
    "\n",
    "\"\"\"\n",
    "### check partials calculated with and without JAX\n",
    "jac = jax.jacfwd(model_jax, argnums=[1,2,3])\n",
    "partials = np.array(jac(strat, float(test_K), float(test_P), float(test_T0)))\n",
    "partial_k = partials[0]\n",
    "partial_p = partials[1]\n",
    "partial_t = partials[2]\n",
    "print(partial_k[0:10], partial_p[0:10], partial_t[0:10])\n",
    "dfadfasdf\n",
    "\"\"\"\n",
    "\n",
    "#print(np.dot(np.dot(partial_k, factor2), partial_k))\n",
    "#print(np.array([np.dot(np.dot(partial_k, factor2), partial_k), np.dot(np.dot(partial_k, factor2), partial_p), np.dot(np.dot(partial_k, factor2), partial_t)]))\n",
    "factor2 = np.linalg.solve(test_sigma_correlated, np.identity(len(test_sigma_correlated))) # invert to make factor2 for FIM\n",
    "fim = np.stack([np.array([np.dot(np.dot(partial_k, factor2), partial_k), np.dot(np.dot(partial_k, factor2), partial_p), np.dot(np.dot(partial_k, factor2), partial_t)]),\n",
    "              np.array([np.dot(np.dot(partial_p, factor2), partial_k), np.dot(np.dot(partial_p, factor2), partial_p), np.dot(np.dot(partial_p, factor2), partial_t)]),\n",
    "              np.array([np.dot(np.dot(partial_t, factor2), partial_k), np.dot(np.dot(partial_t, factor2), partial_p), np.dot(np.dot(partial_t, factor2), partial_t)])])\n",
    "\n",
    "inv_fim = inv(fim)\n",
    "sigma_k = np.sqrt(inv_fim)[0][0]\n",
    "print(\"stable sigma K: \", 1/np.sqrt(fim[0][0]))\n",
    "print(\"sigma K: \", sigma_k)\n",
    "\n",
    "### RV model\n",
    "#start = 2300 # BJD\n",
    "#end = 2400 # BJD\n",
    "test_t = np.linspace(2300, 2600, 1000) + np.random.normal(0, 1./24)\n",
    "test_t_phase_folded = test_t % test_P\n",
    "#sigma_val = 30+1e-6 # cm/s\n",
    "#test_sigma = np.ones(len(test_t))*sigma_val\n",
    "y = model(test_t, test_theta)\n",
    "y_phase_folded = model(test_t_phase_folded, test_theta)\n",
    "\n",
    "### plot observations from strategy\n",
    "end = start + cadence * n_obs\n",
    "strat = np.linspace(start, end, n_obs) + np.random.normal(0, 1./24)\n",
    "strat_phase_folded = strat % test_P\n",
    "\n",
    "plt.scatter(test_t_phase_folded, y_phase_folded, s=5, label='model RV')\n",
    "plt.axvline(0, 0, 0, linestyle='--', c='r', label='observation times')\n",
    "for i in strat_phase_folded:\n",
    "    plt.axvline(i, min(y_phase_folded), max(y_phase_folded), linestyle='--', c='r')\n",
    "plt.xlabel('time [BJD]')\n",
    "plt.ylabel('RV semi-amplitude [cm/s]')\n",
    "plt.title(f'{n_obs} obs every {np.round(cadence, 1)} days; ' + r'${\\sigma}_k$' + f' = {np.round(sigma_k, 1)} cm/s')\n",
    "plt.legend(bbox_to_anchor=(1.05, 1.0), loc='upper left')\n",
    "#plt.savefig('plots/strategy4.pdf', format='pdf')\n",
    "plt.show()"
   ]
  },
  {
   "cell_type": "code",
   "execution_count": 211,
   "id": "b95b6095-a1d6-4390-b8bd-c740d116b41d",
   "metadata": {},
   "outputs": [
    {
     "name": "stdout",
     "output_type": "stream",
     "text": [
      "cadence:  5.526767676767676\n",
      "[ 0.00680232  0.88497816 -0.82027753 -0.13097601  0.94067116 -0.73369242\n",
      " -0.26625836  0.9784381  -0.63312557 -0.39646672] [-4.14769133e-01 -1.20043467e+02 -2.95151112e+02  7.67581705e+02\n",
      " -3.50338469e+02 -8.77004108e+02  1.49300441e+03 -3.73247164e+02\n",
      " -1.59869150e+03  2.13316414e+03] [ 383.11219141 -178.3936277  -219.13210616  379.82067368 -130.000468\n",
      " -260.32376059  369.29103575  -79.12993126 -296.55450899  351.72393753]\n",
      "stable sigma K:  54.17715664579941\n",
      "sigma K:  54.20704745787542\n"
     ]
    },
    {
     "name": "stderr",
     "output_type": "stream",
     "text": [
      "/var/folders/h2/sp_lfvz5515bhg_y92psw7f80000gn/T/ipykernel_47798/1409139590.py:45: RuntimeWarning: invalid value encountered in sqrt\n",
      "  sigma_k = np.sqrt(inv_fim)[0][0]\n"
     ]
    },
    {
     "data": {
      "image/png": "[encoded data removed]",
      "text/plain": [
       "<Figure size 640x480 with 1 Axes>"
      ]
     },
     "metadata": {},
     "output_type": "display_data"
    }
   ],
   "source": [
    "### bad\n",
    "cadence = cadences[np.argmin(sigma_k_test)] \n",
    "print(\"cadence: \", cadence)\n",
    "n_obs = 30\n",
    "\n",
    "\"\"\"\n",
    "sigma_k, sigma_k_stable, sigma_k_solve, fim = strategy(start=2300, n_obs=n_obs, cadence=cadence, theta=test_theta, sigma_val=30)\n",
    "print(\"FIM: \", fim)\n",
    "print(\"sigma_k using linalg.inv: \", sigma_k)\n",
    "print(\"sigma_k using linalg.solve: \", sigma_k_solve)\n",
    "print(\"sigma_k using 1/sqrt(FIM_ii): \", sigma_k_stable)\n",
    "\"\"\"\n",
    "### CALCULATE FIM\n",
    "end = start + cadence * n_obs\n",
    "strat = np.linspace(start, end, n_obs, endpoint=False) + np.random.normal(0, 1./24)\n",
    "test_sigma_correlated = cov_matrix(strat, params)\n",
    "test_theta = [test_K, test_P, test_T0]\n",
    "\n",
    "### CALCULATE FIM\n",
    "#fim = calculate_fim_array(strat, test_sigma_correlated, test_theta)\n",
    "partial_k = partial_mu(strat, test_theta, 'K')\n",
    "partial_p = partial_mu(strat, test_theta, 'P')\n",
    "partial_t = partial_mu(strat, test_theta, 'T0')\n",
    "print(partial_k[0:10], partial_p[0:10], partial_t[0:10])\n",
    "\n",
    "\"\"\"\n",
    "### check partials calculated with and without JAX\n",
    "jac = jax.jacfwd(model_jax, argnums=[1,2,3])\n",
    "partials = np.array(jac(strat, float(test_K), float(test_P), float(test_T0)))\n",
    "partial_k = partials[0]\n",
    "partial_p = partials[1]\n",
    "partial_t = partials[2]\n",
    "print(partial_k[0:10], partial_p[0:10], partial_t[0:10])\n",
    "dfadfasdf\n",
    "\"\"\"\n",
    "\n",
    "#print(np.dot(np.dot(partial_k, factor2), partial_k))\n",
    "#print(np.array([np.dot(np.dot(partial_k, factor2), partial_k), np.dot(np.dot(partial_k, factor2), partial_p), np.dot(np.dot(partial_k, factor2), partial_t)]))\n",
    "factor2 = np.linalg.solve(test_sigma_correlated, np.identity(len(test_sigma_correlated))) # invert to make factor2 for FIM\n",
    "fim = np.stack([np.array([np.dot(np.dot(partial_k, factor2), partial_k), np.dot(np.dot(partial_k, factor2), partial_p), np.dot(np.dot(partial_k, factor2), partial_t)]),\n",
    "              np.array([np.dot(np.dot(partial_p, factor2), partial_k), np.dot(np.dot(partial_p, factor2), partial_p), np.dot(np.dot(partial_p, factor2), partial_t)]),\n",
    "              np.array([np.dot(np.dot(partial_t, factor2), partial_k), np.dot(np.dot(partial_t, factor2), partial_p), np.dot(np.dot(partial_t, factor2), partial_t)])])\n",
    "\n",
    "inv_fim = inv(fim)\n",
    "sigma_k = np.sqrt(inv_fim)[0][0]\n",
    "print(\"stable sigma K: \", 1/np.sqrt(fim[0][0]))\n",
    "print(\"sigma K: \", sigma_k)\n",
    "\n",
    "### RV model\n",
    "#start = 2300 # BJD\n",
    "#end = 2400 # BJD\n",
    "test_t = np.linspace(2300, 2600, 1000) + np.random.normal(0, 1./24)\n",
    "test_t_phase_folded = test_t % test_P\n",
    "sigma_val = 30+1e-6 # cm/s\n",
    "test_sigma = np.ones(len(test_t))*sigma_val\n",
    "y = model(test_t, test_theta)\n",
    "y_phase_folded = model(test_t_phase_folded, test_theta)\n",
    "\n",
    "### plot observations from strategy\n",
    "end = start + cadence * n_obs\n",
    "strat = np.linspace(start, end, n_obs) + np.random.normal(0, 1./24)\n",
    "strat_phase_folded = strat % test_P\n",
    "\n",
    "plt.scatter(test_t_phase_folded, y_phase_folded, s=5, label='model RV')\n",
    "plt.axvline(0, 0, 0, linestyle='--', c='r', label='observation times')\n",
    "for i in strat_phase_folded:\n",
    "    plt.axvline(i, min(y_phase_folded), max(y_phase_folded), linestyle='--', c='r')\n",
    "plt.xlabel('time [BJD]')\n",
    "plt.ylabel('RV semi-amplitude [cm/s]')\n",
    "plt.title(f'{n_obs} obs every {np.round(cadence, 1)} days; ' + r'${\\sigma}_k$' + f' = {np.round(sigma_k, 1)} cm/s')\n",
    "plt.legend(bbox_to_anchor=(1.05, 1.0), loc='upper left')\n",
    "#plt.savefig('plots/strategy4.pdf', format='pdf')\n",
    "plt.show()"
   ]
  },
  {
   "cell_type": "code",
   "execution_count": 217,
   "id": "a7671007-c390-403f-8e31-bc1e518d775d",
   "metadata": {},
   "outputs": [
    {
     "name": "stdout",
     "output_type": "stream",
     "text": [
      "cadence:  6\n",
      "[ 0.04853078  0.98666588 -0.27483922 -0.92362687  0.48668861  0.81199664\n",
      " -0.67293372 -0.65764795  0.82377636  0.46870096] [   -2.95686828   -45.1447725   -536.22750917   321.21361827\n",
      "   976.98027777  -816.36938921 -1241.98651088  1476.0409519\n",
      "  1269.71902364 -2226.08761598] [ 382.66961905  -62.35634892 -368.36713967  146.84755968  334.68517736\n",
      " -223.61324482 -283.3957116   288.61482672  217.1970377  -338.43262726]\n",
      "stable sigma K:  55.88066403542165\n",
      "sigma K:  55.92345591046313\n"
     ]
    },
    {
     "name": "stderr",
     "output_type": "stream",
     "text": [
      "/var/folders/h2/sp_lfvz5515bhg_y92psw7f80000gn/T/ipykernel_47798/3659617890.py:45: RuntimeWarning: invalid value encountered in sqrt\n",
      "  sigma_k = np.sqrt(inv_fim)[0][0]\n"
     ]
    },
    {
     "data": {
      "image/png": "[encoded data removed]",
      "text/plain": [
       "<Figure size 640x480 with 1 Axes>"
      ]
     },
     "metadata": {},
     "output_type": "display_data"
    }
   ],
   "source": [
    "### bad\n",
    "cadence = 6\n",
    "print(\"cadence: \", cadence)\n",
    "n_obs = 30\n",
    "\n",
    "\"\"\"\n",
    "sigma_k, sigma_k_stable, sigma_k_solve, fim = strategy(start=2300, n_obs=n_obs, cadence=cadence, theta=test_theta, sigma_val=30)\n",
    "print(\"FIM: \", fim)\n",
    "print(\"sigma_k using linalg.inv: \", sigma_k)\n",
    "print(\"sigma_k using linalg.solve: \", sigma_k_solve)\n",
    "print(\"sigma_k using 1/sqrt(FIM_ii): \", sigma_k_stable)\n",
    "\"\"\"\n",
    "### CALCULATE FIM\n",
    "end = start + cadence * n_obs\n",
    "strat = np.linspace(start, end, n_obs, endpoint=False) + np.random.normal(0, 1./24)\n",
    "test_sigma_correlated = cov_matrix(strat, params)\n",
    "test_theta = [test_K, test_P, test_T0]\n",
    "\n",
    "### CALCULATE FIM\n",
    "#fim = calculate_fim_array(strat, test_sigma_correlated, test_theta)\n",
    "partial_k = partial_mu(strat, test_theta, 'K')\n",
    "partial_p = partial_mu(strat, test_theta, 'P')\n",
    "partial_t = partial_mu(strat, test_theta, 'T0')\n",
    "print(partial_k[0:10], partial_p[0:10], partial_t[0:10])\n",
    "\n",
    "\"\"\"\n",
    "### check partials calculated with and without JAX\n",
    "jac = jax.jacfwd(model_jax, argnums=[1,2,3])\n",
    "partials = np.array(jac(strat, float(test_K), float(test_P), float(test_T0)))\n",
    "partial_k = partials[0]\n",
    "partial_p = partials[1]\n",
    "partial_t = partials[2]\n",
    "print(partial_k[0:10], partial_p[0:10], partial_t[0:10])\n",
    "dfadfasdf\n",
    "\"\"\"\n",
    "\n",
    "#print(np.dot(np.dot(partial_k, factor2), partial_k))\n",
    "#print(np.array([np.dot(np.dot(partial_k, factor2), partial_k), np.dot(np.dot(partial_k, factor2), partial_p), np.dot(np.dot(partial_k, factor2), partial_t)]))\n",
    "factor2 = np.linalg.solve(test_sigma_correlated, np.identity(len(test_sigma_correlated))) # invert to make factor2 for FIM\n",
    "fim = np.stack([np.array([np.dot(np.dot(partial_k, factor2), partial_k), np.dot(np.dot(partial_k, factor2), partial_p), np.dot(np.dot(partial_k, factor2), partial_t)]),\n",
    "              np.array([np.dot(np.dot(partial_p, factor2), partial_k), np.dot(np.dot(partial_p, factor2), partial_p), np.dot(np.dot(partial_p, factor2), partial_t)]),\n",
    "              np.array([np.dot(np.dot(partial_t, factor2), partial_k), np.dot(np.dot(partial_t, factor2), partial_p), np.dot(np.dot(partial_t, factor2), partial_t)])])\n",
    "\n",
    "inv_fim = inv(fim)\n",
    "sigma_k = np.sqrt(inv_fim)[0][0]\n",
    "print(\"stable sigma K: \", 1/np.sqrt(fim[0][0]))\n",
    "print(\"sigma K: \", sigma_k)\n",
    "\n",
    "### RV model\n",
    "#start = 2300 # BJD\n",
    "#end = 2400 # BJD\n",
    "test_t = np.linspace(2300, 2600, 1000) + np.random.normal(0, 1./24)\n",
    "test_t_phase_folded = test_t % test_P\n",
    "#sigma_val = 30+1e-6 # cm/s\n",
    "#test_sigma = np.ones(len(test_t))*sigma_val\n",
    "y = model(test_t, test_theta)\n",
    "y_phase_folded = model(test_t_phase_folded, test_theta)\n",
    "\n",
    "### plot observations from strategy\n",
    "end = start + cadence * n_obs\n",
    "strat = np.linspace(start, end, n_obs) + np.random.normal(0, 1./24)\n",
    "strat_phase_folded = strat % test_P\n",
    "\n",
    "plt.scatter(test_t_phase_folded, y_phase_folded, s=5, label='model RV')\n",
    "plt.axvline(0, 0, 0, linestyle='--', c='r', label='observation times')\n",
    "for i in strat_phase_folded:\n",
    "    plt.axvline(i, min(y_phase_folded), max(y_phase_folded), linestyle='--', c='r')\n",
    "plt.xlabel('time [BJD]')\n",
    "plt.ylabel('RV semi-amplitude [cm/s]')\n",
    "plt.title(f'{n_obs} obs every {np.round(cadence, 1)} days; ' + r'${\\sigma}_k$' + f' = {np.round(sigma_k, 1)} cm/s')\n",
    "plt.legend(bbox_to_anchor=(1.05, 1.0), loc='upper left')\n",
    "#plt.savefig('plots/strategy4.pdf', format='pdf')\n",
    "plt.show()"
   ]
  },
  {
   "cell_type": "code",
   "execution_count": 73,
   "id": "a7b00f7d-dc41-48f0-b9d7-6c2740899e9d",
   "metadata": {},
   "outputs": [
    {
     "data": {
      "text/plain": [
       "57.12883465725731"
      ]
     },
     "execution_count": 73,
     "metadata": {},
     "output_type": "execute_result"
    }
   ],
   "source": [
    "np.array(sigma_k_test)[np.round(np.array(cadences), 2) == 3.01][0]"
   ]
  },
  {
   "cell_type": "code",
   "execution_count": 70,
   "id": "a715c34f-a096-4c7e-8af1-c095bd5cda02",
   "metadata": {},
   "outputs": [
    {
     "data": {
      "text/plain": [
       "array([0.3       , 0.36616162, 0.43232323, 0.49848485, 0.56464646,\n",
       "       0.63080808, 0.6969697 , 0.76313131, 0.82929293, 0.89545455,\n",
       "       0.96161616, 1.02777778, 1.09393939, 1.16010101, 1.22626263,\n",
       "       1.29242424, 1.35858586, 1.42474747, 1.49090909, 1.55707071,\n",
       "       1.62323232, 1.68939394, 1.75555556, 1.82171717, 1.88787879,\n",
       "       1.9540404 , 2.02020202, 2.08636364, 2.15252525, 2.21868687,\n",
       "       2.28484848, 2.3510101 , 2.41717172, 2.48333333, 2.54949495,\n",
       "       2.61565657, 2.68181818, 2.7479798 , 2.81414141, 2.88030303,\n",
       "       2.94646465, 3.01262626, 3.07878788, 3.14494949, 3.21111111,\n",
       "       3.27727273, 3.34343434, 3.40959596, 3.47575758, 3.54191919,\n",
       "       3.60808081, 3.67424242, 3.74040404, 3.80656566, 3.87272727,\n",
       "       3.93888889, 4.00505051, 4.07121212, 4.13737374, 4.20353535,\n",
       "       4.26969697, 4.33585859, 4.4020202 , 4.46818182, 4.53434343,\n",
       "       4.60050505, 4.66666667, 4.73282828, 4.7989899 , 4.86515152,\n",
       "       4.93131313, 4.99747475, 5.06363636, 5.12979798, 5.1959596 ,\n",
       "       5.26212121, 5.32828283, 5.39444444, 5.46060606, 5.52676768,\n",
       "       5.59292929, 5.65909091, 5.72525253, 5.79141414, 5.85757576,\n",
       "       5.92373737, 5.98989899, 6.05606061, 6.12222222, 6.18838384,\n",
       "       6.25454545, 6.32070707, 6.38686869, 6.4530303 , 6.51919192,\n",
       "       6.58535354, 6.65151515, 6.71767677, 6.78383838, 6.85      ])"
      ]
     },
     "execution_count": 70,
     "metadata": {},
     "output_type": "execute_result"
    }
   ],
   "source": [
    "cadences"
   ]
  },
  {
   "cell_type": "code",
   "execution_count": null,
   "id": "397cebcf-d635-4753-8141-0e3101595ce4",
   "metadata": {},
   "outputs": [],
   "source": []
  }
 ],
 "metadata": {
  "kernelspec": {
   "display_name": "Python 3 (ipykernel)",
   "language": "python",
   "name": "python3"
  },
  "language_info": {
   "codemirror_mode": {
    "name": "ipython",
    "version": 3
   },
   "file_extension": ".py",
   "mimetype": "text/x-python",
   "name": "python",
   "nbconvert_exporter": "python",
   "pygments_lexer": "ipython3",
   "version": "3.10.4"
  }
 },
 "nbformat": 4,
 "nbformat_minor": 5
}
