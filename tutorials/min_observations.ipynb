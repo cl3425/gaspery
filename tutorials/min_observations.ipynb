{
 "cells": [
  {
   "cell_type": "markdown",
   "id": "0b8da65e-eb94-49b2-81c4-695cd86f62ec",
   "metadata": {},
   "source": [
    "### Tutorial: Minimum Observations Given a Budget"
   ]
  },
  {
   "cell_type": "markdown",
   "id": "0c909381-8eff-49b3-9bc5-6875bf8a414a",
   "metadata": {},
   "source": [
    "In this simplest example, let's say you have a budget of 60 observations on a spectrograph, and you want to spend them on a single target. How do you best allocate your budget to maximize the Fisher Information on the radial velocity semi-amplitude, K? (In other words, how do you minimize the uncertainty on K?)"
   ]
  },
  {
   "cell_type": "markdown",
   "id": "c40b57af-ea55-4754-9fa0-b707d78827f8",
   "metadata": {},
   "source": [
    "In this simplest example, let's say you have a target consisting of planetary system around a single cool, active dwarf. For this example, we'll use AU Mic. Let's say that, given an observing strategy of once per night, we want to know how many observations we would need to achieve a threshold uncertainty on the radial velocity semi-amplitude, K, of 10%. For AU Mic, with a K of 580 cm/s (Klein+ 2021), that means we want the minimum observations needed to reach an uncertainty of 58 cm/s. \n",
    "\n",
    "We'll start with the single planet case and then generalize to include both AU Mic b and c. "
   ]
  },
  {
   "cell_type": "code",
   "execution_count": 1,
   "id": "31eaceb4-93d0-4636-9eaf-2f1db81a2cf8",
   "metadata": {},
   "outputs": [
    {
     "name": "stdout",
     "output_type": "stream",
     "text": [
      "1.22.3\n",
      "1.7.3\n"
     ]
    }
   ],
   "source": [
    "import numpy as np \n",
    "import scipy\n",
    "print(np.__version__)\n",
    "print(scipy.__version__)\n",
    "import tqdm\n",
    "import pandas as pd\n",
    "import random\n",
    "import exoplanet\n",
    "import astropy \n",
    "import pymc3\n",
    "import pymc3_ext\n",
    "import celerite2\n",
    "from numpy.linalg import inv, det, solve, cond\n",
    "from tqdm import tqdm\n",
    "\n",
    "import matplotlib.pyplot as plt\n",
    "import matplotlib\n",
    "\n",
    "import jax\n",
    "import jax.numpy as jnp\n",
    "from jax import grad, jit, vmap\n",
    "#from jax import random"
   ]
  },
  {
   "cell_type": "code",
   "execution_count": 2,
   "id": "ab742c2c-fab0-4e20-88b8-46bcaa886d2c",
   "metadata": {},
   "outputs": [],
   "source": [
    "import matplotlib.pylab as pylab\n",
    "params = {'legend.fontsize': 'large',\n",
    "         'axes.labelsize': 'x-large',\n",
    "         'axes.titlesize':'x-large',\n",
    "         'xtick.labelsize':'large',\n",
    "         'ytick.labelsize':'large'}\n",
    "pylab.rcParams.update(params)\n",
    "\n",
    "path = '/Users/chrislam/Desktop/scheduling/'"
   ]
  },
  {
   "cell_type": "code",
   "execution_count": 5,
   "id": "42101bf3-d777-4f59-8260-e5905ec3afbe",
   "metadata": {},
   "outputs": [
    {
     "name": "stdout",
     "output_type": "stream",
     "text": [
      "1.22.3\n",
      "1.7.3\n",
      "1.22.3\n",
      "1.7.3\n"
     ]
    }
   ],
   "source": [
    "from gaspery import calculate_fi, strategies, utils\n"
   ]
  },
  {
   "cell_type": "code",
   "execution_count": 7,
   "id": "16630e89-704a-4691-ba0c-ed9adc948fc6",
   "metadata": {},
   "outputs": [
    {
     "ename": "AttributeError",
     "evalue": "module 'gaspery.strategies' has no attribute 'gappy'",
     "output_type": "error",
     "traceback": [
      "\u001b[0;31m---------------------------------------------------------------------------\u001b[0m",
      "\u001b[0;31mAttributeError\u001b[0m                            Traceback (most recent call last)",
      "Cell \u001b[0;32mIn[7], line 7\u001b[0m\n\u001b[1;32m      2\u001b[0m c \u001b[38;5;241m=\u001b[39m \u001b[38;5;241m1\u001b[39m \u001b[38;5;66;03m# observing cadence of once per day\u001b[39;00m\n\u001b[1;32m      4\u001b[0m \u001b[38;5;28;01mfor\u001b[39;00m n_obs \u001b[38;5;129;01min\u001b[39;00m \u001b[38;5;28mrange\u001b[39m(\u001b[38;5;241m100\u001b[39m)[\u001b[38;5;241m4\u001b[39m:]:\n\u001b[1;32m      5\u001b[0m     \n\u001b[1;32m      6\u001b[0m     \u001b[38;5;66;03m# build strategy aka time series of observations\u001b[39;00m\n\u001b[0;32m----> 7\u001b[0m     strat \u001b[38;5;241m=\u001b[39m \u001b[43mstrategies\u001b[49m\u001b[38;5;241;43m.\u001b[39;49m\u001b[43mgappy\u001b[49m(n_obs, c, start, offs\u001b[38;5;241m=\u001b[39m[], dropout\u001b[38;5;241m=\u001b[39m\u001b[38;5;241m0.\u001b[39m)\n\u001b[1;32m      9\u001b[0m     \u001b[38;5;66;03m# build covariance matrix, characterized by a correlated noise model of the stellar signal\u001b[39;00m\n\u001b[1;32m     10\u001b[0m     sigma \u001b[38;5;241m=\u001b[39m np\u001b[38;5;241m.\u001b[39mdiag(sigma_wn_rv \u001b[38;5;241m*\u001b[39m np\u001b[38;5;241m.\u001b[39mones(\u001b[38;5;28mlen\u001b[39m(strat)))\n",
      "\u001b[0;31mAttributeError\u001b[0m: module 'gaspery.strategies' has no attribute 'gappy'"
     ]
    }
   ],
   "source": [
    "sigma_ks = []\n",
    "c = 1 # observing cadence of once per day\n",
    "\n",
    "for n_obs in range(100)[4:]:\n",
    "    \n",
    "    # instantiate Strategy class in order to build time series of observations\n",
    "    strategy = Strategy(n_obs, c, start, offs=[], dropout=0.)\n",
    "    \n",
    "    # build strategy aka time series of observations\n",
    "    strat = strategies.gappy(strategy)\n",
    "\n",
    "    # build covariance matrix, characterized by a correlated noise model of the stellar signal\n",
    "    sigma = np.diag(sigma_wn_rv * np.ones(len(strat)))\n",
    "\n",
    "    # populate arguments for Fisher Info calculator\n",
    "    args = np.array(strat), sigma**2, jnp.array(theta, dtype=float)\n",
    "    \n",
    "    # calculate FI\n",
    "    fim = calculate_fi.clam_jax_fim(*args).block_until_ready()\n",
    "    \n",
    "    # invert FI matrix\n",
    "    inv_fim = inv(fim)\n",
    "    \n",
    "    # top left element of matrix corresponds with RV semi-amplitude, K\n",
    "    sigma_k = np.sqrt(inv_fim)[0][0]\n",
    "    \n",
    "    sigma_ks.append(sigma_k)\n",
    "    "
   ]
  },
  {
   "cell_type": "code",
   "execution_count": 6,
   "id": "6186016c-76d2-42e0-ad63-f1f35233304e",
   "metadata": {},
   "outputs": [
    {
     "ename": "TypeError",
     "evalue": "model_jax() missing 4 required positional arguments: 't', 'K', 'P', and 'T0'",
     "output_type": "error",
     "traceback": [
      "\u001b[0;31m---------------------------------------------------------------------------\u001b[0m",
      "\u001b[0;31mTypeError\u001b[0m                                 Traceback (most recent call last)",
      "Cell \u001b[0;32mIn[6], line 1\u001b[0m\n\u001b[0;32m----> 1\u001b[0m \u001b[43mcalculate_fi\u001b[49m\u001b[38;5;241;43m.\u001b[39;49m\u001b[43mmodel_jax\u001b[49m\u001b[43m(\u001b[49m\u001b[43m)\u001b[49m\n",
      "\u001b[0;31mTypeError\u001b[0m: model_jax() missing 4 required positional arguments: 't', 'K', 'P', and 'T0'"
     ]
    }
   ],
   "source": [
    "calculate_fi.model_jax()"
   ]
  },
  {
   "cell_type": "code",
   "execution_count": null,
   "id": "53b26563-9bf3-4800-8bc9-0cfba5ee339e",
   "metadata": {},
   "outputs": [],
   "source": []
  }
 ],
 "metadata": {
  "kernelspec": {
   "display_name": "Python 3 (ipykernel)",
   "language": "python",
   "name": "python3"
  },
  "language_info": {
   "codemirror_mode": {
    "name": "ipython",
    "version": 3
   },
   "file_extension": ".py",
   "mimetype": "text/x-python",
   "name": "python",
   "nbconvert_exporter": "python",
   "pygments_lexer": "ipython3",
   "version": "3.10.8"
  }
 },
 "nbformat": 4,
 "nbformat_minor": 5
}
