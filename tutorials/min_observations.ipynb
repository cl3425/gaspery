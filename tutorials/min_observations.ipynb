{
 "cells": [
  {
   "cell_type": "markdown",
   "id": "0b8da65e-eb94-49b2-81c4-695cd86f62ec",
   "metadata": {},
   "source": [
    "### Tutorial: Minimum Observations"
   ]
  },
  {
   "cell_type": "markdown",
   "id": "9dd0a3be-fb65-4f4e-a572-2d15f85fdb7f",
   "metadata": {},
   "source": [
    "So you want to calculate the Fisher Information for a given set of observations of some target? That's great!\n",
    "\n",
    "But one consideration we need to make is that ...oh wait, I don't really need to show white noise in the tutorial. White noise is for the paper. Tutorials can dive straight into use cases."
   ]
  },
  {
   "cell_type": "code",
   "execution_count": 1,
   "id": "31eaceb4-93d0-4636-9eaf-2f1db81a2cf8",
   "metadata": {},
   "outputs": [
    {
     "name": "stdout",
     "output_type": "stream",
     "text": [
      "1.22.3\n",
      "1.7.3\n"
     ]
    }
   ],
   "source": [
    "import numpy as np \n",
    "import scipy\n",
    "print(np.__version__)\n",
    "print(scipy.__version__)\n",
    "import tqdm\n",
    "import pandas as pd\n",
    "import random\n",
    "import exoplanet\n",
    "import astropy \n",
    "import pymc3\n",
    "import pymc3_ext\n",
    "import celerite2\n",
    "from numpy.linalg import inv, det, solve, cond\n",
    "from tqdm import tqdm\n",
    "\n",
    "import matplotlib.pyplot as plt\n",
    "import matplotlib\n",
    "\n",
    "import jax\n",
    "import jax.numpy as jnp\n",
    "from jax import grad, jit, vmap\n",
    "#from jax import random"
   ]
  },
  {
   "cell_type": "code",
   "execution_count": 2,
   "id": "ab742c2c-fab0-4e20-88b8-46bcaa886d2c",
   "metadata": {},
   "outputs": [],
   "source": [
    "import matplotlib.pylab as pylab\n",
    "params = {'legend.fontsize': 'large',\n",
    "         'axes.labelsize': 'x-large',\n",
    "         'axes.titlesize':'x-large',\n",
    "         'xtick.labelsize':'large',\n",
    "         'ytick.labelsize':'large'}\n",
    "pylab.rcParams.update(params)\n",
    "\n",
    "path = '/Users/chrislam/Desktop/scheduling/'"
   ]
  },
  {
   "cell_type": "markdown",
   "id": "3c7a9ea5-0f12-47b7-b0fc-82b487b9959f",
   "metadata": {},
   "source": [
    "### Functions"
   ]
  },
  {
   "cell_type": "code",
   "execution_count": null,
   "id": "53b26563-9bf3-4800-8bc9-0cfba5ee339e",
   "metadata": {},
   "outputs": [],
   "source": []
  }
 ],
 "metadata": {
  "kernelspec": {
   "display_name": "Python 3 (ipykernel)",
   "language": "python",
   "name": "python3"
  },
  "language_info": {
   "codemirror_mode": {
    "name": "ipython",
    "version": 3
   },
   "file_extension": ".py",
   "mimetype": "text/x-python",
   "name": "python",
   "nbconvert_exporter": "python",
   "pygments_lexer": "ipython3",
   "version": "3.10.8"
  }
 },
 "nbformat": 4,
 "nbformat_minor": 5
}
