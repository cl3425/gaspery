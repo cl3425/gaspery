{
 "cells": [
  {
   "cell_type": "markdown",
   "id": "0b8da65e-eb94-49b2-81c4-695cd86f62ec",
   "metadata": {},
   "source": [
    "### Minimum Observations"
   ]
  },
  {
   "cell_type": "markdown",
   "id": "0c909381-8eff-49b3-9bc5-6875bf8a414a",
   "metadata": {},
   "source": [
    "In this simplest example, let's say you have a budget of 60 observations on a spectrograph, and you want to spend them on a single target. How do you best allocate your budget to maximize the Fisher Information on the radial velocity semi-amplitude, K? (In other words, how do you minimize the uncertainty on K?)"
   ]
  },
  {
   "cell_type": "markdown",
   "id": "c40b57af-ea55-4754-9fa0-b707d78827f8",
   "metadata": {},
   "source": [
    "In this simplest example, let's say you have a target consisting of planetary system around a single cool, active dwarf. For this example, we'll use AU Mic. Let's say that, given an observing strategy of once per night, we want to know how many observations we would need to achieve a threshold uncertainty on the radial velocity semi-amplitude, K, of 10%. For AU Mic, with a K of 580 cm/s (Klein+ 2021), that means we want the minimum observations needed to reach an uncertainty of 58 cm/s. \n",
    "\n",
    "We'll start with the single planet case and then generalize to include both AU Mic b and c. "
   ]
  },
  {
   "cell_type": "code",
   "execution_count": 1,
   "id": "31eaceb4-93d0-4636-9eaf-2f1db81a2cf8",
   "metadata": {},
   "outputs": [
    {
     "name": "stdout",
     "output_type": "stream",
     "text": [
      "1.22.3\n",
      "1.7.3\n"
     ]
    }
   ],
   "source": [
    "import numpy as np \n",
    "import scipy\n",
    "print(np.__version__)\n",
    "print(scipy.__version__)\n",
    "import pandas as pd\n",
    "import random\n",
    "import exoplanet\n",
    "import astropy \n",
    "import pymc3\n",
    "import pymc3_ext\n",
    "import celerite2\n",
    "from numpy.linalg import inv, det, solve, cond\n",
    "from tqdm import tqdm\n",
    "\n",
    "import matplotlib.pyplot as plt\n",
    "import matplotlib\n",
    "\n",
    "import jax\n",
    "import jax.numpy as jnp\n",
    "from jax import grad, jit, vmap\n",
    "#from jax import random"
   ]
  },
  {
   "cell_type": "code",
   "execution_count": 2,
   "id": "ab742c2c-fab0-4e20-88b8-46bcaa886d2c",
   "metadata": {},
   "outputs": [],
   "source": [
    "import matplotlib.pylab as pylab\n",
    "params = {'legend.fontsize': 'large',\n",
    "         'axes.labelsize': 'x-large',\n",
    "         'axes.titlesize':'x-large',\n",
    "         'xtick.labelsize':'large',\n",
    "         'ytick.labelsize':'large'}\n",
    "pylab.rcParams.update(params)\n",
    "\n",
    "path = '/Users/chrislam/Desktop/scheduling/'"
   ]
  },
  {
   "cell_type": "code",
   "execution_count": 3,
   "id": "42101bf3-d777-4f59-8260-e5905ec3afbe",
   "metadata": {},
   "outputs": [],
   "source": [
    "from gaspery import calculate_fi, strategies, utils\n"
   ]
  },
  {
   "cell_type": "code",
   "execution_count": 4,
   "id": "16630e89-704a-4691-ba0c-ed9adc948fc6",
   "metadata": {},
   "outputs": [
    {
     "name": "stderr",
     "output_type": "stream",
     "text": [
      "/var/folders/h2/sp_lfvz5515bhg_y92psw7f80000gn/T/ipykernel_21673/897598058.py:45: RuntimeWarning: invalid value encountered in sqrt\n",
      "  sigma_k = np.sqrt(inv_fim)[0][0]\n"
     ]
    }
   ],
   "source": [
    "### observing parameters\n",
    "sigma_ks = []\n",
    "c = 1 # observing cadence of once per day\n",
    "start = 2352\n",
    "\n",
    "### target parameters\n",
    "sigma_wn_rv = 500 # cm/s (from Klein+ 2020)\n",
    "p = 8.5 # orbital period, days\n",
    "Prot = 4.86 # rotation period, days\n",
    "K = 580 # cm/s\n",
    "T0 = 2360 # arbitrarily chosen fiducial central transit time, in BJD\n",
    "\n",
    "### correlated noise parameters, from Klein+ 2021 for AU Mic\n",
    "Tau = 100/np.sqrt(2) # active region lifetime; days\n",
    "eta = 0.4/np.sqrt(2) # 0.1, 0.3, 0.58, 0.9 # smoothing parameter\n",
    "sigma_qp_rv = 47 * 1e2 # modified Jeffreys prior +11, -8 [cm/s]\n",
    "sigma_wn_rv = 5 * 1e2 # [cm/s]\n",
    "\n",
    "params = [Tau, eta, Prot, sigma_qp_rv, sigma_wn_rv]\n",
    "theta = [K, p, T0]\n",
    "\n",
    "for n_obs in tqdm(range(100)[4:]):\n",
    "    \n",
    "    # instantiate Strategy class in order to build time series of observations\n",
    "    strategy = strategies.Strategy(n_obs, c, start, offs=[], dropout=0.)\n",
    "    \n",
    "    # build strategy aka time series of observations\n",
    "    strat = strategy.gappy()\n",
    "\n",
    "    # build covariance matrix, characterized by a correlated noise model of the stellar signal\n",
    "    #sigma = np.diag(sigma_wn_rv * np.ones(len(strat)))\n",
    "    sigma = calculate_fi.cov_matrix_jax(strat, params)\n",
    "    sigma += 1e-6 \n",
    "\n",
    "    # populate arguments for Fisher Info calculator\n",
    "    args = np.array(strat), sigma**2, jnp.array(theta, dtype=float)\n",
    "    \n",
    "    # calculate FI\n",
    "    fim = calculate_fi.clam_jax_fim(*args).block_until_ready()\n",
    "    \n",
    "    # invert FI matrix\n",
    "    inv_fim = inv(fim)\n",
    "    \n",
    "    # top left element of matrix corresponds with RV semi-amplitude, K\n",
    "    sigma_k = np.sqrt(inv_fim)[0][0]\n",
    "    \n",
    "    sigma_ks.append(sigma_k)\n",
    "    "
   ]
  },
  {
   "cell_type": "code",
   "execution_count": 5,
   "id": "97be1188-6d56-4971-899a-23cb0b7866f3",
   "metadata": {},
   "outputs": [
    {
     "data": {
      "image/png": "[encoded data removed]",
      "text/plain": [
       "<Figure size 640x480 with 1 Axes>"
      ]
     },
     "metadata": {},
     "output_type": "display_data"
    }
   ],
   "source": [
    "plt.plot(range(len(sigma_ks)), sigma_ks)\n",
    "#plt.plot(range(len(sigma_k_stable_test)), sigma_k_stable_test, label='not using inv')\n",
    "plt.xlabel('number of observations')\n",
    "plt.ylabel(r\"$\\sigma_k$[cm/s]\")\n",
    "plt.title(f\"cadence: {c} day(s); white noise\")\n",
    "#plt.savefig(path + f\"plots/au-mic/n_obs.png\", format=\"png\")\n",
    "plt.show()"
   ]
  },
  {
   "cell_type": "code",
   "execution_count": 6,
   "id": "6186016c-76d2-42e0-ad63-f1f35233304e",
   "metadata": {},
   "outputs": [
    {
     "data": {
      "text/plain": [
       "Array([-213.98785  , -521.316    , -556.5265   , -301.24005  ,\n",
       "        111.288284 ,  465.7262   ,  577.06323  ,  387.18362  ,\n",
       "         -4.7989707, -394.27658  , -577.94885  , -459.94214  ,\n",
       "       -101.853745 ,  309.4004   ,  559.1531   ,  517.0379   ,\n",
       "        205.03816  , -213.9878   , -521.3161   , -556.52655  ,\n",
       "       -301.24     ,  111.28808  ,  465.72617  ,  577.06323  ,\n",
       "        387.1837   ,   -4.7991133, -394.27646  , -577.94885  ,\n",
       "       -459.94226  , -101.85382  ,  309.40012  ,  559.153    ,\n",
       "        517.0378   ,  205.03772  , -213.98746  , -521.3159   ,\n",
       "       -556.5265   , -301.23984  ,  111.28881  ,  465.72595  ,\n",
       "        577.0633   ,  387.18353  ,   -4.7993164, -394.2762   ,\n",
       "       -577.9488   , -459.94214  , -101.85362  ,  309.40073  ,\n",
       "        559.15295  ,  517.03796  ,  205.03804  , -213.98817  ,\n",
       "       -521.31573  , -556.52625  , -301.2401   ,  111.287384 ,\n",
       "        465.7264   ,  577.0633   ,  387.18295  ,   -4.798966 ,\n",
       "       -394.27594  , -577.9489   , -459.94238  , -101.85287  ,\n",
       "        309.40045  ,  559.1529   ,  517.0376   ,  205.03838  ,\n",
       "       -213.98888  , -521.3161   , -556.5267   , -301.23947  ,\n",
       "        111.28813  ,  465.72552  ,  577.06323  ,  387.18405  ,\n",
       "         -4.7997217, -394.2765   , -577.9487   , -459.9419   ,\n",
       "       -101.8543   ,  309.40106  ,  559.1531   ,  517.03827  ,\n",
       "        205.03766  , -213.98752  , -521.3164   , -556.5265   ,\n",
       "       -301.24072  ,  111.28887  ,  465.72598  ,  577.0632   ,\n",
       "        387.1835   ,   -4.7982655, -394.27704  , -577.94904  ,\n",
       "       -459.94144  , -101.85356  ,  309.39987  ], dtype=float32)"
      ]
     },
     "execution_count": 6,
     "metadata": {},
     "output_type": "execute_result"
    }
   ],
   "source": [
    "import celerite2\n",
    "from celerite2 import terms\n",
    "\n",
    "# quasiperiodic term\n",
    "#kernel = terms.SHOTerm(sigma=1., rho=1., tau=10.) # S0=1.0, Q=2.5, w0=0.2\n",
    "kernel = terms.SHOTerm(sigma=sigma_qp_rv, rho=Prot, tau=Tau)\n",
    "\n",
    "# set up GP\n",
    "gp = celerite2.GaussianProcess(kernel, mean=0.)\n",
    "gp.compute(t, yerr=sigma_wn_rv)\n",
    "sample = gp.sample(size=50)\n",
    "mu, sigma = np.mean(sample, axis=0), np.std(sample, axis=0)\n",
    "\n",
    "for i in strat_phase_folded:\n",
    "    plt.axvline(i, min(y_phase_folded), max(y_phase_folded), linestyle='--', c='r')\n",
    "calculate_fi.model_jax(strat, K, p, T0)\n",
    "\n",
    "plt.plot(t, y, label='planet signal')\n",
    "plt.fill_between(t, mu - sigma, mu + sigma, alpha=0.2, label='stellar signal')\n",
    "plt.legend()\n",
    "plt.xlabel('BJD')\n",
    "plt.ylabel('RV semi-amplitude [cm/s]')\n",
    "plt.show()\n"
   ]
  },
  {
   "cell_type": "markdown",
   "id": "d424494a-12e5-4106-bd91-d5c2a01e3eb8",
   "metadata": {},
   "source": [
    "### Multi-planet case"
   ]
  },
  {
   "cell_type": "code",
   "execution_count": null,
   "id": "480131fd-9a69-4520-8245-860f49674222",
   "metadata": {},
   "outputs": [],
   "source": []
  }
 ],
 "metadata": {
  "kernelspec": {
   "display_name": "Python 3 (ipykernel)",
   "language": "python",
   "name": "python3"
  },
  "language_info": {
   "codemirror_mode": {
    "name": "ipython",
    "version": 3
   },
   "file_extension": ".py",
   "mimetype": "text/x-python",
   "name": "python",
   "nbconvert_exporter": "python",
   "pygments_lexer": "ipython3",
   "version": "3.10.8"
  }
 },
 "nbformat": 4,
 "nbformat_minor": 5
}
