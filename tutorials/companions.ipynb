{
 "cells": [
  {
   "cell_type": "markdown",
   "id": "6609cfde-140f-4f6c-8008-5fd30df4f349",
   "metadata": {},
   "source": [
    "### Tutorial: Companions"
   ]
  },
  {
   "cell_type": "markdown",
   "id": "5b4c4c76-5b8b-46a2-b9b9-708011d9f1e5",
   "metadata": {},
   "source": [
    "What happens when we have multiple planets in a system?\n",
    "\n",
    "Furthermore, does the Fisher Information picture look different when I pretend one planet isn't there, and can I use this to somehow infer unseen companions? "
   ]
  },
  {
   "cell_type": "markdown",
   "id": "e5a28bcd-d3db-4fb9-b29b-0cb897405c69",
   "metadata": {},
   "source": [
    "#### AU Mic b and c"
   ]
  },
  {
   "cell_type": "code",
   "execution_count": 1,
   "id": "4b5bf639-a803-4c56-b1be-56e05bdb6907",
   "metadata": {},
   "outputs": [
    {
     "name": "stdout",
     "output_type": "stream",
     "text": [
      "1.22.3\n",
      "1.7.3\n"
     ]
    }
   ],
   "source": [
    "import numpy as np \n",
    "import scipy\n",
    "print(np.__version__)\n",
    "print(scipy.__version__)\n",
    "import pandas as pd\n",
    "import random\n",
    "from itertools import chain\n",
    "import exoplanet\n",
    "import astropy \n",
    "import pymc3\n",
    "import pymc3_ext\n",
    "import tinygp\n",
    "from tinygp import kernels, GaussianProcess\n",
    "from numpy.linalg import inv, det, solve, cond\n",
    "from tqdm import tqdm\n",
    "from astropy.time import Time\n",
    "\n",
    "import matplotlib.pyplot as plt\n",
    "import matplotlib\n",
    "\n",
    "import jax\n",
    "import jax.numpy as jnp\n",
    "from jax import grad, jit, vmap\n",
    "#from jax import random\n",
    "\n",
    "from gaspery import calculate_fi, strategies, utils\n"
   ]
  },
  {
   "cell_type": "code",
   "execution_count": 2,
   "id": "b8eec016-5fe6-48be-867a-84347be9dc58",
   "metadata": {},
   "outputs": [],
   "source": [
    "import matplotlib.pylab as pylab\n",
    "params = {'legend.fontsize': 'large',\n",
    "         'axes.labelsize': 'x-large',\n",
    "         'axes.titlesize':'x-large',\n",
    "         'xtick.labelsize':'large',\n",
    "         'ytick.labelsize':'large'}\n",
    "pylab.rcParams.update(params)\n",
    "\n",
    "path = '/Users/chrislam/Desktop/gaspery/'"
   ]
  },
  {
   "cell_type": "code",
   "execution_count": 3,
   "id": "383f9fa1-7a51-440c-beb8-e1cc58b190e6",
   "metadata": {},
   "outputs": [],
   "source": [
    "def model_multi(t, thetas): \n",
    "    \"\"\"\n",
    "    Radial velocity model, given timestamps and planetary orbital parameters\n",
    "    \n",
    "    Inputs: \n",
    "    - t: time series of length N observations; np.array [day]\n",
    "    - sigma: RV measurement uncertainties associated with each observation; np.array of length N [cm/s]\n",
    "    - theta: planet orbital parameters; eg. [K, P, T0]; np.array\n",
    "    \n",
    "    theta breakdown:\n",
    "    - K: RV semi-amplitude [cm/s]\n",
    "    - P: planet period [days]\n",
    "    - T0: mean transit time [day]\n",
    "\n",
    "    \"\"\"\n",
    "    \n",
    "    rv_total = 0\n",
    "    for theta in thetas:\n",
    "        K, P, T0 = theta[0], theta[1], theta[2]\n",
    "        arg = (2*np.pi/P)*(t-T0)\n",
    "    \n",
    "        rv = -K * np.sin(arg)\n",
    "        rv_total += rv\n",
    "    \n",
    "    return rv_total\n",
    "\n"
   ]
  },
  {
   "cell_type": "code",
   "execution_count": 4,
   "id": "43fa671e-a6f3-445a-ae47-95fb3de7874d",
   "metadata": {},
   "outputs": [],
   "source": [
    "### choose start time as date of this writing\n",
    "start = '2023-03-01T10:00:00'\n",
    "start = Time(start, format='isot', scale='utc').jd\n",
    "\n",
    "### target parameters\n",
    "p = 8.46 # orbital period, days\n",
    "K = 580 # cm/s\n",
    "T0 = 2458651.993 # central transit time, in BJD, on 19 June 2019\n",
    "\n",
    "### correlated noise parameters\n",
    "Tau = 100/np.sqrt(2) # active region lifetime; days\n",
    "eta = 0.4/np.sqrt(2) # 0.1, 0.3, 0.58, 0.9 # smoothing parameter\n",
    "sigma_qp_rv = 47 * 1e2 # modified Jeffreys prior +11, -8 [cm/s]\n",
    "sigma_wn_rv = 5 * 1e2 # [cm/s]\n",
    "Prot = 4.86 # rotation period, days\n",
    "\n",
    "### strategy\n",
    "offs = []\n",
    "n_obs = 30\n",
    "strategy = strategies.Strategy(n_obs = n_obs, start = start, offs=offs, dropout=0.)\n",
    "\n",
    "cadence = 1\n",
    "strat = strategy.gappy(cadence = cadence)\n",
    "\n",
    "### Star object and covariance matrix\n",
    "star = calculate_fi.Star(sigma_wn_rv = sigma_wn_rv, Tau = Tau, eta = eta, \n",
    "                         Prot = Prot, sigma_qp_rv = sigma_qp_rv)\n",
    "\n",
    "# populate list of parameters to feed into cov_matrix_jax()\n",
    "params = star.param_list()\n",
    "\n",
    "# build covariance matrix, characterized by a correlated noise model of the stellar signal\n",
    "kernel = kernels.ExpSineSquared(scale=Prot, gamma=1/(2*eta**2)) # first term of exponential\n",
    "kernel *= kernels.ExpSquared(scale=Tau) # other term of exponential\n",
    "kernel *= sigma_qp_rv**2 # multiply by scalar\n",
    "\n",
    "sigma = star.cov_matrix_general(strat, kernel)\n",
    "\n"
   ]
  },
  {
   "cell_type": "code",
   "execution_count": 5,
   "id": "e85e4463-db16-4080-85aa-14ad8b9ab50d",
   "metadata": {},
   "outputs": [],
   "source": [
    "### create stellar noise\n",
    "gp = GaussianProcess(kernel, strat)\n",
    "sample = gp.sample(jax.random.PRNGKey(4), shape=(1,))\n",
    "\n",
    "### phase fold\n",
    "t_phase_folded = strat % p # phase fold support\n",
    "y_phase_folded = np.array(calculate_fi.model_jax(t_phase_folded, [K, p, T0]))"
   ]
  },
  {
   "cell_type": "code",
   "execution_count": 6,
   "id": "c46fd5f4-5f44-4f0b-95a1-db4a6d728cc4",
   "metadata": {},
   "outputs": [
    {
     "name": "stdout",
     "output_type": "stream",
     "text": [
      "[[ 6320.067    4326.384   -4741.8267  -4161.314    7620.4355  -2672.1914\n",
      "  10431.974    1907.5928  -5759.706    -312.99133  6603.0117  -1294.7356\n",
      "  11575.851     460.28882 -5830.6943   2875.5127   2369.1855   2273.6777\n",
      "   9066.702   -2309.361   -4871.73     4442.8535  -1952.0918   7103.978\n",
      "   5401.8833  -4423.8354  -2586.6926   5463.8965  -2966.4985  10966.501\n",
      "   3504.0034  -4760.5435    653.40796  4325.0444  -1241.2031  11688.596\n",
      "   1214.1543  -3929.175    2407.8933    398.1499   2418.065    9206.25\n",
      "  -2483.8657  -2512.0227   3269.2593  -2631.4902   7119.5537   6129.533\n",
      "  -4203.2056   -104.26721  4029.9321  -2897.2693  10532.837    4192.217\n",
      "  -3265.4946   2395.9946   2555.0273  -1284.0903  11159.516     749.96606]]\n"
     ]
    },
    {
     "data": {
      "image/png": "[encoded data removed]",
      "text/plain": [
       "<Figure size 640x480 with 1 Axes>"
      ]
     },
     "metadata": {},
     "output_type": "display_data"
    }
   ],
   "source": [
    "test_t = np.linspace(1300, 1300+50, 60) + np.random.normal(0, 1./24)\n",
    "test_P1 = 8.46\n",
    "test_P2 = 18.9\n",
    "K1 = 580\n",
    "K2 = 850\n",
    "T0_1 = 1330.39051\n",
    "T0_2 = 1342.2223\n",
    "\n",
    "### create stellar noise\n",
    "gp = GaussianProcess(kernel, test_t)\n",
    "sample = gp.sample(jax.random.PRNGKey(4), shape=(1,))\n",
    "print(sample)\n",
    "\n",
    "test_thetas = [[K1, test_P1, T0_1], [K2, test_P2, T0_2]]\n",
    "y = model_multi(test_t, test_thetas)\n",
    "plt.scatter(test_t, y, s=2, label='combined planets')\n",
    "plt.scatter(test_t, y + sample, s=2, label='total observed')\n",
    "\n",
    "plt.scatter(test_t, calculate_fi.model_jax(test_t, [K1, test_P1, T0_1]), s=5, alpha=0.2, label='P1')\n",
    "plt.scatter(test_t, calculate_fi.model_jax(test_t, [K2, test_P2, T0_2]), s=5, alpha=0.2, label='P2')\n",
    "\n",
    "plt.xlabel('BJD')\n",
    "plt.ylabel('RV semi-amplitude [cm/s]')\n",
    "plt.legend()\n",
    "plt.show()"
   ]
  },
  {
   "cell_type": "markdown",
   "id": "698e0ea3-75e6-479b-8855-91c543418025",
   "metadata": {},
   "source": [
    "Ok, this looks tough to do with, you know, the canonical noisy star. How about a known inactive star with multiple planets? Let's try with LHS 1140 (Lillo-Box+ 2020; Ment+ 2019): https://arxiv.org/pdf/2010.06928.pdf; https://iopscience.iop.org/article/10.3847/1538-3881/aaf1b1)"
   ]
  },
  {
   "cell_type": "markdown",
   "id": "9c8e3ae4-8a44-457b-a440-5d6a2896368c",
   "metadata": {},
   "source": [
    "#### LHS 1140 b and c"
   ]
  },
  {
   "cell_type": "code",
   "execution_count": 7,
   "id": "1d9cc498-b7d0-4646-8843-51b72d01f2b3",
   "metadata": {},
   "outputs": [
    {
     "name": "stdout",
     "output_type": "stream",
     "text": [
      "4.220764378120578 2.1767980955376456\n"
     ]
    }
   ],
   "source": [
    "# stellar parameters, used posteriors from Table B.3 in Lillo-Box+ 2020 \n",
    "Mstar = 0.191 # solar masses\n",
    "Prot = 131 # Dittmann+ 2017 (https://ui.adsabs.harvard.edu/abs/2017Natur.544..333D/abstract)\n",
    "sigma_wn_rv = 1.07 # m/s\n",
    "sigma_qp_rv = 1.16 # m/s\n",
    "Tau = 135 # days\n",
    "eta = -1.04\n",
    "\n",
    "# planet parameters: 1 is b; 2 is c; and so on\n",
    "P1 = 24.7\n",
    "P2 = 3.78\n",
    "P3 = 78.9 # planet candidate from their RV observations\n",
    "m1 = 6.38 # Earth masses\n",
    "m2 = 1.76\n",
    "m3 = 4.8\n",
    "T0_1 = 58399.9303\n",
    "T0_2 = 58389.29382\n",
    "T0_3 = 58375.0\n",
    "K1 = utils.calculate_rv(Mstar, m1, P1)\n",
    "K2 = utils.calculate_rv(Mstar, m2, P2)\n",
    "K3 = utils.calculate_rv(Mstar, m3, P3)\n",
    "print(K1, K2)"
   ]
  },
  {
   "cell_type": "code",
   "execution_count": 8,
   "id": "24028125-a11f-461e-97a7-fc94ed6e3c3e",
   "metadata": {},
   "outputs": [],
   "source": [
    "### choose start time as date of this writing\n",
    "start = '2023-03-07T10:00:00'\n",
    "start = Time(start, format='isot', scale='utc').jd\n",
    "\n",
    "### strategy\n",
    "offs = []\n",
    "n_obs = 30\n",
    "strategy = strategies.Strategy(n_obs = n_obs, start = start, offs=offs, dropout=0.)\n",
    "\n",
    "cadence = 2\n",
    "strat = strategy.gappy(cadence = cadence)"
   ]
  },
  {
   "cell_type": "code",
   "execution_count": 9,
   "id": "639e47be-471d-4ce5-8ce5-eb2102fc0118",
   "metadata": {},
   "outputs": [],
   "source": [
    "### Star object and covariance matrix\n",
    "star = calculate_fi.Star(sigma_wn_rv = sigma_wn_rv, Tau = Tau, eta = eta, \n",
    "                         Prot = Prot, sigma_qp_rv = sigma_qp_rv)\n",
    "\n",
    "# populate list of parameters to feed into cov_matrix_jax()\n",
    "params = star.param_list()\n",
    "\n",
    "# build covariance matrix, characterized by a correlated noise model of the stellar signal\n",
    "kernel = kernels.ExpSineSquared(scale=Prot, gamma=1/(2*eta**2)) # first term of exponential\n",
    "kernel *= kernels.ExpSquared(scale=Tau) # other term of exponential\n",
    "kernel *= sigma_qp_rv**2 # multiply by scalar\n",
    "\n",
    "sigma = star.cov_matrix_general(strat, kernel)"
   ]
  },
  {
   "cell_type": "code",
   "execution_count": 10,
   "id": "e3e58ea4-f189-4c14-86c3-934ca309733b",
   "metadata": {},
   "outputs": [],
   "source": [
    "### create stellar noise\n",
    "gp = GaussianProcess(kernel, strat)\n",
    "sample = gp.sample(jax.random.PRNGKey(4), shape=(1,))\n",
    "\n",
    "### phase fold\n",
    "t_phase_folded1 = (strat-T0_1) % P1 # phase fold support\n",
    "t_phase_folded2 = (strat-T0_2) % P1 # phase fold support\n",
    "#t_phase_folded3 = (strat-T0_3) % P3 # phase fold support\n",
    "\n",
    "y_phase_folded1 = np.array(calculate_fi.model_jax(t_phase_folded1, [K1, P1, T0_1]))\n",
    "y_phase_folded2 = np.array(calculate_fi.model_jax(t_phase_folded2, [K2, P2, T0_2]))\n",
    "#y_phase_folded3 = np.array(calculate_fi.model_jax(t_phase_folded3, K3, P3, T0_3))"
   ]
  },
  {
   "cell_type": "code",
   "execution_count": 11,
   "id": "7a64c1fe-99c1-43db-a8bc-2649461afe0e",
   "metadata": {},
   "outputs": [
    {
     "data": {
      "text/plain": [
       "\"\\nplt.plot(strat, np.array(calculate_fi.model_jax(strat, K1, P1, T0_1)), label='LHS 1140b')\\nplt.scatter(strat, np.array(calculate_fi.model_jax(strat, K2, P2, T0_2)), s=5, label='LHS 1140c')\\nplt.scatter(strat, np.array(calculate_fi.model_jax(strat, K1, P1, T0_1)) + np.array(calculate_fi.model_jax(strat, K2, P2, T0_2)), \\n            label='combined planet signal')\\n#plt.scatter(t_phase_folded2, sample + y_phase_folded1 + y_phase_folded2, label='observed signal')\\nplt.xlabel(r'BJD')\\nplt.ylabel('RV semi-amplitude [m/s]')\\nplt.legend()\\nplt.show()\\n\""
      ]
     },
     "execution_count": 11,
     "metadata": {},
     "output_type": "execute_result"
    }
   ],
   "source": [
    "\"\"\"\n",
    "plt.plot(strat, np.array(calculate_fi.model_jax(strat, K1, P1, T0_1)), label='LHS 1140b')\n",
    "plt.scatter(strat, np.array(calculate_fi.model_jax(strat, K2, P2, T0_2)), s=5, label='LHS 1140c')\n",
    "plt.scatter(strat, np.array(calculate_fi.model_jax(strat, K1, P1, T0_1)) + np.array(calculate_fi.model_jax(strat, K2, P2, T0_2)), \n",
    "            label='combined planet signal')\n",
    "#plt.scatter(t_phase_folded2, sample + y_phase_folded1 + y_phase_folded2, label='observed signal')\n",
    "plt.xlabel(r'BJD')\n",
    "plt.ylabel('RV semi-amplitude [m/s]')\n",
    "plt.legend()\n",
    "plt.show()\n",
    "\"\"\""
   ]
  },
  {
   "cell_type": "code",
   "execution_count": 12,
   "id": "3e23e726-56b0-46ce-b7fd-8e4715e0a7ef",
   "metadata": {},
   "outputs": [
    {
     "data": {
      "image/png": "[encoded data removed]",
      "text/plain": [
       "<Figure size 640x480 with 1 Axes>"
      ]
     },
     "metadata": {},
     "output_type": "display_data"
    }
   ],
   "source": [
    "plt.scatter(t_phase_folded1, y_phase_folded1, s=5, label='LHS 1140b')\n",
    "plt.scatter(t_phase_folded1, y_phase_folded2, s=5, label='LHS 1140c')\n",
    "#plt.scatter(t_phase_folded1, y_phase_folded1 + y_phase_folded2, label='combined planet signal')\n",
    "plt.scatter(t_phase_folded1, sample + y_phase_folded1 + y_phase_folded2, label='observed signal')\n",
    "plt.scatter(t_phase_folded1, sample, label='stellar noise')\n",
    "plt.xlabel(r'BJD, phase folded on $P_{orb, LHS 1140b}$')\n",
    "plt.ylabel('RV semi-amplitude [m/s]')\n",
    "plt.ylim([-8, 8])\n",
    "plt.legend()\n",
    "plt.show()\n"
   ]
  },
  {
   "cell_type": "markdown",
   "id": "5c013854-ad95-4651-bfba-690481e84748",
   "metadata": {},
   "source": [
    "Calculate Fisher Information"
   ]
  },
  {
   "cell_type": "code",
   "execution_count": 14,
   "id": "1f3c25e7-6e5d-4f60-ae81-6c1277f4f886",
   "metadata": {},
   "outputs": [],
   "source": [
    "flat_theta = [K1, P1, T0_1, K2, P2, T0_2]"
   ]
  },
  {
   "cell_type": "code",
   "execution_count": 15,
   "id": "34db8843-662e-410f-8b43-4067235e0715",
   "metadata": {},
   "outputs": [
    {
     "name": "stdout",
     "output_type": "stream",
     "text": [
      "[[ 1.25390296e+01 -1.53093235e+04 -1.57447432e-01 -1.99556558e-01\n",
      "   1.40352145e+06  2.20902112e+00]\n",
      " [-1.53093235e+04  1.36122839e+11  1.39997308e+06  2.39432920e+04\n",
      "  -1.18484292e+11 -1.86484285e+05]\n",
      " [-1.57447432e-01  1.39997308e+06  1.43982055e+01  2.46250883e-01\n",
      "  -1.21856584e+06 -1.91791989e+00]\n",
      " [-1.99556558e-01  2.39432920e+04  2.46250883e-01  1.43664592e+01\n",
      "   2.66719752e+06  4.19788290e+00]\n",
      " [ 1.40352145e+06 -1.18484292e+11 -1.21856584e+06  2.66719752e+06\n",
      "   6.22582436e+13  9.79892041e+07]\n",
      " [ 2.20902112e+00 -1.86484285e+05 -1.91791989e+00  4.19788290e+00\n",
      "   9.79892041e+07  1.54226711e+02]]\n",
      "0.2830194455053482 0.26996240102641295\n"
     ]
    },
    {
     "name": "stderr",
     "output_type": "stream",
     "text": [
      "/var/folders/h2/sp_lfvz5515bhg_y92psw7f80000gn/T/ipykernel_9206/1656531540.py:98: RuntimeWarning: invalid value encountered in sqrt\n",
      "  sigma_k1 = np.sqrt(inv_fim)[0][0]\n",
      "/var/folders/h2/sp_lfvz5515bhg_y92psw7f80000gn/T/ipykernel_9206/1656531540.py:99: RuntimeWarning: invalid value encountered in sqrt\n",
      "  sigma_k2 = np.sqrt(inv_fim)[3][3]\n"
     ]
    }
   ],
   "source": [
    "jax.config.update(\"jax_enable_x64\", True)\n",
    "\n",
    "def inner_multi(params):\n",
    "    #return model_jax_multi_manual(strat, params[0], params[1], params[2], params[3], params[4], params[5])\n",
    "    return model_jax_multi(strat, params)\n",
    "    \n",
    "def inner(params):\n",
    "    return model_jax(strat, params[0], params[1], params[2])\n",
    "    \n",
    "def model_jax_multi(t, flat_theta): \n",
    "\n",
    "    \"\"\"\n",
    "    JAX-enabled radial velocity model for multi-planet system\n",
    "\n",
    "    Inputs: \n",
    "    - t: time series of length N observations; np.array [day]\n",
    "    #- thetas: list of lists of [K, P, T0], where:\n",
    "    - flat_theta: flattened list of lists of [K, P, T0], where:\n",
    "        - K: RV semi-amplitude [cm/s]\n",
    "        - P: planet period [days]\n",
    "        - T0: mean transit time [day]\n",
    "\n",
    "    Returns: \n",
    "    - rv_total: np.array of RV semi-amplitudes\n",
    "\n",
    "    \"\"\"\n",
    "    \n",
    "    rv_total = np.zeros(len(t))\n",
    "    #flat_theta = list(chain.from_iterable(thetas))\n",
    "    \n",
    "    counter = 0\n",
    "    while counter < len(flat_theta):  \n",
    "        K, P, T0 = flat_theta[counter], flat_theta[counter+1], flat_theta[counter+2]\n",
    "        arg = (2*jnp.pi/P)*(t-T0)\n",
    "        rv = -K * jnp.sin(arg)\n",
    "        rv_total += rv\n",
    "        \n",
    "        counter += 3\n",
    "        \n",
    "    return rv_total\n",
    "\n",
    "def model_jax_multi_manual(t, K1, P1, T01, K2, P2, T02): \n",
    "\n",
    "    \"\"\"\n",
    "    JAX-enabled radial velocity model for multi-planet system\n",
    "\n",
    "    Inputs: \n",
    "    - t: time series of length N observations; np.array [day]\n",
    "    - thetas: list of lists of [K, P, T0], where:\n",
    "        - K: RV semi-amplitude [cm/s]\n",
    "        - P: planet period [days]\n",
    "        - T0: mean transit time [day]\n",
    "\n",
    "    Returns: \n",
    "    - rv_total: np.array of RV semi-amplitudes\n",
    "\n",
    "    \"\"\"\n",
    "    \n",
    "    arg1 = (2*jnp.pi/P1)*(t-T01)\n",
    "    rv1 = -K1 * jnp.sin(arg1)\n",
    "    \n",
    "    arg2 = (2*jnp.pi/P2)*(t-T02)\n",
    "    rv2 = -K2 * jnp.sin(arg2)\n",
    "    rv = rv1 + rv2\n",
    "    print(rv.shape)\n",
    "    \n",
    "    return rv\n",
    "\n",
    "def model_jax(t, K, P, T0): \n",
    "\n",
    "    \"\"\"\n",
    "    Radial velocity model, given timestamps and planetary orbital parameters, but JAXified\n",
    "    (basically, np --> jnp)\n",
    "\n",
    "    Inputs: \n",
    "    - t: time series of length N observations; np.array [day]\n",
    "    - K: RV semi-amplitude [cm/s]\n",
    "    - P: planet period [days]\n",
    "    - T0: mean transit time [day]\n",
    "\n",
    "    Returns: \n",
    "    - rv: np.array of RV semi-amplitudes\n",
    "\n",
    "    \"\"\"\n",
    "\n",
    "    arg = (2*jnp.pi/P)*(t-T0)\n",
    "    rv = -K * jnp.sin(arg)\n",
    "    #print(rv)\n",
    "    return rv\n",
    "\n",
    "factor = jnp.linalg.solve(sigma, jnp.identity(len(sigma))) \n",
    "J = np.array(jax.jacobian(inner_multi)(flat_theta))\n",
    "\n",
    "fim = J @ factor @ J.T\n",
    "print(fim)\n",
    "\n",
    "inv_fim = inv(fim)\n",
    "sigma_k1 = np.sqrt(inv_fim)[0][0]\n",
    "sigma_k2 = np.sqrt(inv_fim)[3][3]\n",
    "\n",
    "fi_k = fim[0][0]\n",
    "print(sigma_k1, sigma_k2)"
   ]
  },
  {
   "cell_type": "markdown",
   "id": "65615d4e-5100-4e83-9b3d-80f09284b52b",
   "metadata": {},
   "source": [
    "Put planet parameters into a single, flattened list to feed into Fisher Info calculator. "
   ]
  },
  {
   "cell_type": "code",
   "execution_count": 21,
   "id": "35b3b430-e597-4aa1-92a8-dd66294b989b",
   "metadata": {},
   "outputs": [
    {
     "name": "stdout",
     "output_type": "stream",
     "text": [
      "0.28301943685969094 0.26996246503213145\n"
     ]
    },
    {
     "name": "stderr",
     "output_type": "stream",
     "text": [
      "/var/folders/h2/sp_lfvz5515bhg_y92psw7f80000gn/T/ipykernel_9206/2579603381.py:8: RuntimeWarning: invalid value encountered in sqrt\n",
      "  sigma_k1 = np.sqrt(inv_fim)[0][0]\n",
      "/var/folders/h2/sp_lfvz5515bhg_y92psw7f80000gn/T/ipykernel_9206/2579603381.py:9: RuntimeWarning: invalid value encountered in sqrt\n",
      "  sigma_k2 = np.sqrt(inv_fim)[3][3]\n"
     ]
    }
   ],
   "source": [
    "theta1 = [K1, P1, T0_1]\n",
    "theta2 = [K2, P2, T0_2]\n",
    "thetas = [theta1, theta2]\n",
    "flat_theta = list(chain.from_iterable(thetas))\n",
    "args = np.array(strat), sigma, jnp.array(flat_theta, dtype=float)\n",
    "fim = calculate_fi.clam_jax_fim(*args).block_until_ready()\n",
    "inv_fim = inv(fim)\n",
    "sigma_k1 = np.sqrt(inv_fim)[0][0]\n",
    "sigma_k2 = np.sqrt(inv_fim)[3][3]\n",
    "\n",
    "fi_k = fim[0][0]\n",
    "print(sigma_k1, sigma_k2)"
   ]
  },
  {
   "cell_type": "markdown",
   "id": "ccf7a352-e85d-4b0f-8516-747ceced12c5",
   "metadata": {},
   "source": [
    "So, that was the sigma_K for both planets, if we assume both exist. "
   ]
  },
  {
   "cell_type": "code",
   "execution_count": 22,
   "id": "113dedf3-2cb6-4a91-9e15-c47913f1ccc7",
   "metadata": {},
   "outputs": [],
   "source": [
    "args = np.array(strat), sigma, jnp.array(theta1, dtype=float)\n",
    "fim = calculate_fi.clam_jax_fim(*args).block_until_ready()"
   ]
  },
  {
   "cell_type": "code",
   "execution_count": 23,
   "id": "e20852d0-0f2e-4719-b924-814d497801f0",
   "metadata": {},
   "outputs": [
    {
     "name": "stdout",
     "output_type": "stream",
     "text": [
      "0.28260099224054963\n"
     ]
    },
    {
     "name": "stderr",
     "output_type": "stream",
     "text": [
      "/var/folders/h2/sp_lfvz5515bhg_y92psw7f80000gn/T/ipykernel_9206/2209798962.py:2: RuntimeWarning: invalid value encountered in sqrt\n",
      "  sigma_k11 = np.sqrt(inv_fim)[0][0]\n"
     ]
    }
   ],
   "source": [
    "inv_fim = inv(fim)\n",
    "sigma_k11 = np.sqrt(inv_fim)[0][0]\n",
    "print(sigma_k11)"
   ]
  },
  {
   "cell_type": "markdown",
   "id": "ed812c7d-14a5-4197-a310-961020cec215",
   "metadata": {},
   "source": [
    "This is sigma_K on LHS 1140b if we assume c doesn't exist."
   ]
  },
  {
   "cell_type": "code",
   "execution_count": 24,
   "id": "efda9da3-1b90-4909-b677-721fb7d05715",
   "metadata": {},
   "outputs": [
    {
     "name": "stdout",
     "output_type": "stream",
     "text": [
      "0.26983570732677875\n"
     ]
    },
    {
     "name": "stderr",
     "output_type": "stream",
     "text": [
      "/var/folders/h2/sp_lfvz5515bhg_y92psw7f80000gn/T/ipykernel_9206/3405677529.py:4: RuntimeWarning: invalid value encountered in sqrt\n",
      "  sigma_k22 = np.sqrt(inv_fim)[0][0]\n"
     ]
    }
   ],
   "source": [
    "args = np.array(strat), sigma, jnp.array(theta2, dtype=float)\n",
    "fim = calculate_fi.clam_jax_fim(*args).block_until_ready()\n",
    "inv_fim = inv(fim)\n",
    "sigma_k22 = np.sqrt(inv_fim)[0][0]\n",
    "print(sigma_k22)"
   ]
  },
  {
   "cell_type": "markdown",
   "id": "c30ac147-972a-4c03-ae65-5f4cc8125d42",
   "metadata": {},
   "source": [
    "This is sigma_K on LHS 1140c if we assume b doesn't exist."
   ]
  },
  {
   "cell_type": "code",
   "execution_count": 26,
   "id": "32ad5b37-a8d5-4ae8-aced-4cc6512d02a1",
   "metadata": {},
   "outputs": [
    {
     "name": "stdout",
     "output_type": "stream",
     "text": [
      "-0.0004184446191413116\n",
      "-0.00012675770535269804\n"
     ]
    }
   ],
   "source": [
    "print(sigma_k11 - sigma_k1)\n",
    "print(sigma_k22 - sigma_k2)"
   ]
  },
  {
   "cell_type": "markdown",
   "id": "eea16f80-e4e3-4798-9c41-0798db5c2002",
   "metadata": {},
   "source": [
    "This means that we overestimate sigma_K when we assume there's no companion. Makes sense so far. It also means that we overestimate sigma_K by more when we assume b has no companion, than when we assume c has no companion. "
   ]
  },
  {
   "cell_type": "code",
   "execution_count": null,
   "id": "6ad7af8e-a97a-4891-af24-cffa8536fa24",
   "metadata": {},
   "outputs": [],
   "source": []
  }
 ],
 "metadata": {
  "kernelspec": {
   "display_name": "Python 3 (ipykernel)",
   "language": "python",
   "name": "python3"
  },
  "language_info": {
   "codemirror_mode": {
    "name": "ipython",
    "version": 3
   },
   "file_extension": ".py",
   "mimetype": "text/x-python",
   "name": "python",
   "nbconvert_exporter": "python",
   "pygments_lexer": "ipython3",
   "version": "3.10.8"
  }
 },
 "nbformat": 4,
 "nbformat_minor": 5
}
