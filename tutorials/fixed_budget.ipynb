{
 "cells": [
  {
   "cell_type": "markdown",
   "id": "d3ae4bb1-1c90-40e7-975b-4b524dd17085",
   "metadata": {},
   "source": [
    "### Tutorial: Optimal Strategy Given a Fixed Observing Budget"
   ]
  },
  {
   "cell_type": "markdown",
   "id": "99771f86-35e4-460d-af84-92604214ea0e",
   "metadata": {},
   "source": [
    "In this simplest example, let's say you have a budget of 30 observations on the NEID spectrograph on WIYN spectrograph on Kitt Peak in Arizona, and you want to spend them on a single target. Let's say you also have to plan around already-booked nights on the telescope. Finally, let's say your star is an exact copy of AU Mic. Given these constraints, how do you best allocate your budget to maximize the Fisher Information (or minimize the uncertainty) on the radial velocity semi-amplitude, K?\n"
   ]
  },
  {
   "cell_type": "code",
   "execution_count": 33,
   "id": "20cb2c45-9938-47b2-ab7c-7e5861a03dcb",
   "metadata": {},
   "outputs": [
    {
     "name": "stdout",
     "output_type": "stream",
     "text": [
      "1.22.3\n",
      "1.7.3\n"
     ]
    }
   ],
   "source": [
    "import numpy as np \n",
    "import scipy\n",
    "print(np.__version__)\n",
    "print(scipy.__version__)\n",
    "import pandas as pd\n",
    "import random\n",
    "import exoplanet\n",
    "import astropy \n",
    "import pymc3\n",
    "import pymc3_ext\n",
    "import celerite2\n",
    "from numpy.linalg import inv, det, solve, cond\n",
    "from tqdm import tqdm\n",
    "\n",
    "import matplotlib.pyplot as plt\n",
    "import matplotlib\n",
    "\n",
    "import jax\n",
    "import jax.numpy as jnp\n",
    "from jax import grad, jit, vmap\n",
    "#from jax import random\n",
    "\n",
    "from gaspery import calculate_fi, strategies, utils\n",
    "from tinygp import kernels\n"
   ]
  },
  {
   "cell_type": "code",
   "execution_count": 2,
   "id": "3f70f2c2-fecd-438a-89cd-89d21fb0da59",
   "metadata": {},
   "outputs": [],
   "source": [
    "import matplotlib.pylab as pylab\n",
    "params = {'legend.fontsize': 'large',\n",
    "         'axes.labelsize': 'x-large',\n",
    "         'axes.titlesize':'x-large',\n",
    "         'xtick.labelsize':'large',\n",
    "         'ytick.labelsize':'large'}\n",
    "pylab.rcParams.update(params)\n",
    "\n",
    "path = '/Users/chrislam/Desktop/gaspery/'"
   ]
  },
  {
   "cell_type": "code",
   "execution_count": 3,
   "id": "db04c5e3-96a8-497d-bde2-62d32ec108cd",
   "metadata": {},
   "outputs": [],
   "source": [
    "### Time to prep ### \n",
    "\n",
    "### observing parameters\n",
    "sigma_ks = []\n",
    "c = 1 # observing cadence of once per day\n",
    "start = 2352\n",
    "n_obs = 200\n",
    "\n",
    "### target parameters\n",
    "Mstar = 0.5 # Solar masses\n",
    "sigma_wn_rv = 500 # cm/s (from Klein+ 2020)\n",
    "p = 8.5 # orbital period, days\n",
    "Prot = 4.86 # rotation period, days\n",
    "K = 580 # cm/s\n",
    "T0 = 2360 # arbitrarily chosen fiducial central transit time, in BJD\n",
    "\n",
    "### correlated noise parameters, from Klein+ 2021 for AU Mic\n",
    "Tau = 100/np.sqrt(2) # active region lifetime; days\n",
    "eta = 0.4/np.sqrt(2) # 0.1, 0.3, 0.58, 0.9 # smoothing parameter\n",
    "sigma_qp_rv = 47 * 1e2 # modified Jeffreys prior +11, -8 [cm/s]\n",
    "sigma_wn_rv = 5 * 1e2 # [cm/s]\n",
    "\n",
    "params = [Tau, eta, Prot, sigma_qp_rv, sigma_wn_rv]\n",
    "theta = [K, p, T0]"
   ]
  },
  {
   "cell_type": "markdown",
   "id": "dd7ef340-3ebd-44c6-b19c-db82081481aa",
   "metadata": {},
   "source": [
    "As of this writing, it is currently 2/20/23, and the NOIRLab calendar for the 2023A semester (https://time-allocation.noirlab.edu/#/telescopes/classic-schedules/?telescopeId=3&semesterCode=2023A) says that the pre-booked nights on the telescope that we have to plan around are: 4/16-18, 4/20-21, the latter half of 4/22, 4/24-25, 5/13-15, 5/19-20, 6/18-19, the first half of 6/22, 6/24, the latter half of 6/25, 7/6-8, and 7/21. The calendar also says that the end of the observing semester is 7/23, which means any strategy must end by that day. \n",
    "\n",
    "Based on airmass.org or astroplan's determination of when in the year AU Mic is up at night, as well as the off nights prescribed above, let's start observing on 5/22/23. We will use 10am UTC as our default observation time (3am MST) because that's roughly when the star is highest at that time of year -- in reality, we would ask to be scheduled in the latter half of the night. If only the former half of a night has been blocked off, we still go ahead and observe that night because we assume our exposure is short enough. "
   ]
  },
  {
   "cell_type": "code",
   "execution_count": 23,
   "id": "bff789cf-486a-49b4-bc38-efdb38cfa75e",
   "metadata": {},
   "outputs": [
    {
     "name": "stdout",
     "output_type": "stream",
     "text": [
      "offs:  [[2460114.625      2460115.04166667]\n",
      " [2460115.625      2460116.04166667]\n",
      " [2460118.625      2460118.83333333]\n",
      " [2460120.625      2460121.04166667]\n",
      " [2460121.83333333 2460122.04166667]\n",
      " [2460132.625      2460133.04166667]\n",
      " [2460133.625      2460134.04166667]\n",
      " [2460134.625      2460135.04166667]\n",
      " [2460147.625      2460148.04166667]]\n"
     ]
    }
   ],
   "source": [
    "from astropy.time import Time\n",
    "\n",
    "# start time and date\n",
    "start = '2023-05-23T10:00:00'\n",
    "start = Time(start, format='isot', scale='utc').jd\n",
    "\n",
    "# construct off nights, bracketing a \"night\" as 8pm to 6am MST, or 3am to 1pm UTC the next day\n",
    "# night is divided into halves around 1am local. \n",
    "\n",
    "offs = [ ['2023-06-19T03:00:00', '2023-06-19T13:00:00'], \n",
    "        ['2023-06-20T03:00:00', '2023-06-20T13:00:00'],\n",
    "       ['2023-06-23T03:00:00', '2023-06-23T08:00:00'],\n",
    "       ['2023-06-25T03:00:00', '2023-06-25T13:00:00'],\n",
    "       ['2023-06-26T08:00:00', '2023-06-26T13:00:00'],\n",
    "       ['2023-07-07T03:00:00', '2023-07-07T13:00:00'],\n",
    "       ['2023-07-08T03:00:00', '2023-07-08T13:00:00'],\n",
    "       ['2023-07-09T03:00:00', '2023-07-09T13:00:00'],\n",
    "       ['2023-07-22T03:00:00', '2023-07-22T13:00:00']]\n",
    "\n",
    "t = Time(offs, format='isot', scale='utc')\n",
    "offs = t.jd\n",
    "print(\"offs: \", juliant)\n",
    "\n",
    "# stop observing because of end of season\n",
    "stop = ['2023-07-24T03:00:00']\n",
    "\n",
    "n_obs = 30"
   ]
  },
  {
   "cell_type": "code",
   "execution_count": 4,
   "id": "359308d2-39c4-409e-bc50-487be6d3ed5f",
   "metadata": {},
   "outputs": [],
   "source": [
    "# offs: 4/16-18, 4/20-21, 4/22 latter half, 4/24-25, 5/13-15, 5/19-20, 6/18-19, 6/22 first half, 6/24, 6/25 latter half, 7/6-8, 7/21\n",
    "# source: https://time-allocation.noirlab.edu/#/telescopes/classic-schedules/?year=2023&month=7&telescopeId=3&semesterCode=2023A\n",
    "# I use 3am UTC bc that's 8pm MST and 1300 UTC bc that's 6am MST.\n",
    "# remember we want 30-min exposures\n",
    "# I use this BJD converter: https://www.aavso.org/jd-calculator\n",
    "\n",
    "# this is assuming the conservative approach of skipping a day if we can't get the time\n",
    "# for example, if the latter half is blocked off, we can still observe that day bc we do it at the start\n",
    "# but if the first half is blocked off, while we can fit an observation at the end, we skip it still\n",
    "offs = [2460050.62500, 2460051.62500, 2460052.62500, 2460054.62500, 2460055.62500, 2460058.62500, 2460059.62500, \n",
    "       2460077.62500, 2460078.62500, 2460079.62500, 2460083.62500, 2460084.62500,\n",
    "       2460113.62500, 2460114.62500, 2460119.62500, 2460120.62500, \n",
    "       2460131.62500, 2460132.62500, 2460133.62500, 2460146.62500]\n",
    "\n",
    "#start = 2460004.6250 # 8pm MST to UTC is 3am the next day, 3/31/23 03:00:00 UTC\n",
    "start = 2460087.91667 # 3am MST to UTC is 10am the next day, 5/23/23 010:00:00 UTC\n",
    "\n",
    "n_obs = 30 "
   ]
  },
  {
   "cell_type": "markdown",
   "id": "746a4d8e-d415-44d4-954d-f512aa5d58a1",
   "metadata": {},
   "source": [
    "Now, let's start prepping the parameters that describe our target. We assume a 30-Earth-mass planet orbiting an AU Mic-like star, using Table 3 from Klein+ 2020 as our correlated noise model hyperparameters. We also assume a central transit time of 2458623.5895 BJD, or May 20, 2019 at 02:08:52 UTC."
   ]
  },
  {
   "cell_type": "code",
   "execution_count": 29,
   "id": "39704929-112d-4bc4-9d26-fffdc17215bd",
   "metadata": {},
   "outputs": [
    {
     "name": "stdout",
     "output_type": "stream",
     "text": [
      "hi\n"
     ]
    }
   ],
   "source": [
    "if ~((start > offs[0][0]) & (start < offs[0][1])):\n",
    "    print(\"hi\")"
   ]
  },
  {
   "cell_type": "code",
   "execution_count": 31,
   "id": "a92a350c-8e10-443a-a150-c48e630cfede",
   "metadata": {},
   "outputs": [],
   "source": [
    "m = 30 # Earth masses\n",
    "\n",
    "# calculate RV based on 30 Earth-mass planet\n",
    "K = utils.calculate_rv(Mstar, m, p) * 1e2 # cm/s\n",
    "\n",
    "# central transit time\n",
    "T0 = 2458342.22231 # BJD (latest from exoplanet.eu, Wittrock+ 2023)\n",
    "\n",
    "### AU Mic properties\n",
    "Tau = 100/np.sqrt(2) # 23.6 # days\n",
    "eta = 0.4/np.sqrt(2) # 0.58\n",
    "sigma_qp_rv = 4700 # modified Jeffreys prior +11, -8 [cm/s] # cm/s\n",
    "sigma_wn_rv = 500 # cm/s \n",
    "\n",
    "params = [sigma_wn_rv, Tau, eta, Prot, sigma_qp_rv]\n",
    "theta = [K, p, T0]"
   ]
  },
  {
   "cell_type": "markdown",
   "id": "c7a9af42-777c-44ed-b3a9-b70cf288b742",
   "metadata": {},
   "source": [
    "Use a quasi-periodic Gaussian Process kernel from tinygp to model the correlated noise of the star."
   ]
  },
  {
   "cell_type": "code",
   "execution_count": 34,
   "id": "421be1d8-0bc9-4586-904f-0105d7ab7b5d",
   "metadata": {},
   "outputs": [],
   "source": [
    "# build covariance matrix, characterized by a correlated noise model of the stellar signal\n",
    "kernel = kernels.ExpSineSquared(scale=Prot, gamma=1/(2*eta**2)) # first term of exponential\n",
    "kernel *= kernels.ExpSquared(scale=Tau) # other term of exponential\n",
    "kernel *= sigma_qp_rv**2 # multiply by scalar"
   ]
  },
  {
   "cell_type": "markdown",
   "id": "3edab469-b199-47f3-bbb7-7182b9374638",
   "metadata": {},
   "source": [
    "Time to cook"
   ]
  },
  {
   "cell_type": "code",
   "execution_count": 6,
   "id": "5490e8fb-5073-4902-b60b-b34a4b534212",
   "metadata": {},
   "outputs": [
    {
     "ename": "NameError",
     "evalue": "name 'kernels' is not defined",
     "output_type": "error",
     "traceback": [
      "\u001b[0;31m---------------------------------------------------------------------------\u001b[0m",
      "\u001b[0;31mNameError\u001b[0m                                 Traceback (most recent call last)",
      "Cell \u001b[0;32mIn[6], line 21\u001b[0m\n\u001b[1;32m     12\u001b[0m theta \u001b[38;5;241m=\u001b[39m planet\u001b[38;5;241m.\u001b[39mtheta_list()\n\u001b[1;32m     14\u001b[0m \u001b[38;5;66;03m# instantiate Strategy object in order to build time series of observations\u001b[39;00m\n\u001b[1;32m     15\u001b[0m \u001b[38;5;66;03m###strategy = strategies.Strategy(n_obs = n_obs, cadence = 1, start = start, offs=[], dropout=0.)\u001b[39;00m\n\u001b[1;32m     16\u001b[0m \n\u001b[0;32m   (...)\u001b[0m\n\u001b[1;32m     19\u001b[0m \n\u001b[1;32m     20\u001b[0m \u001b[38;5;66;03m# build covariance matrix, characterized by a correlated noise model of the stellar signal\u001b[39;00m\n\u001b[0;32m---> 21\u001b[0m kernel \u001b[38;5;241m=\u001b[39m \u001b[43mkernels\u001b[49m\u001b[38;5;241m.\u001b[39mExpSineSquared(scale\u001b[38;5;241m=\u001b[39mProt, gamma\u001b[38;5;241m=\u001b[39m\u001b[38;5;241m1\u001b[39m\u001b[38;5;241m/\u001b[39m(\u001b[38;5;241m2\u001b[39m\u001b[38;5;241m*\u001b[39meta\u001b[38;5;241m*\u001b[39m\u001b[38;5;241m*\u001b[39m\u001b[38;5;241m2\u001b[39m)) \u001b[38;5;66;03m# first term of exponential\u001b[39;00m\n\u001b[1;32m     22\u001b[0m kernel \u001b[38;5;241m*\u001b[39m\u001b[38;5;241m=\u001b[39m kernels\u001b[38;5;241m.\u001b[39mExpSquared(scale\u001b[38;5;241m=\u001b[39mTau) \u001b[38;5;66;03m# other term of exponential\u001b[39;00m\n\u001b[1;32m     23\u001b[0m kernel \u001b[38;5;241m*\u001b[39m\u001b[38;5;241m=\u001b[39m sigma_qp_rv\u001b[38;5;241m*\u001b[39m\u001b[38;5;241m*\u001b[39m\u001b[38;5;241m2\u001b[39m \u001b[38;5;66;03m# multiply by scalar\u001b[39;00m\n",
      "\u001b[0;31mNameError\u001b[0m: name 'kernels' is not defined"
     ]
    }
   ],
   "source": [
    "# instantiate Star object in order to feed covariance matrix with white/correlated noise\n",
    "star = calculate_fi.Star(sigma_wn_rv = sigma_wn_rv, Tau = Tau, eta = eta, \n",
    "                         Prot = Prot, sigma_qp_rv = sigma_qp_rv)\n",
    "\n",
    "# populate list of parameters to feed into cov_matrix_jax()\n",
    "params = star.param_list()\n",
    "\n",
    "# instantiate Planets object in order to feed Fisher Info calculation machinery\n",
    "planet = calculate_fi.Planets(K = K, p = p, T0 = T0)\n",
    "\n",
    "# populate list of parameters to feed into clam_jax_fim()\n",
    "theta = planet.theta_list()\n",
    "\n",
    "# instantiate Strategy object in order to build time series of observations\n",
    "###strategy = strategies.Strategy(n_obs = n_obs, cadence = 1, start = start, offs=[], dropout=0.)\n",
    "\n",
    "# build strategy aka time series of observations\n",
    "###strat = strategy.gappy()\n",
    "\n",
    "# build strategy time series  \n",
    "strategy = strategies.Strategy(n_obs = n_obs, cadence = 1, start = start, offs=offs, dropout=0.)\n",
    "strat = np.array(strategy.on_vs_off(on=on, off=off, twice_flag=True))\n",
    "\n",
    "# if strategy is longer than baseline tolerance, don't bother with it\n",
    "if strat[-1] - strat[0] > baseline_tol:\n",
    "    sigma_ks[enum_on][enum_off] = np.nan\n",
    "    fi_ks[enum_on][enum_off] = np.nan\n",
    "\n",
    "else:\n",
    "    # calculate covariance matrix\n",
    "    sigma = star.cov_matrix_general(strat, kernel)\n",
    "\n",
    "    # populate arguments for Fisher Info calculator\n",
    "    args = np.array(strat), sigma, jnp.array(theta, dtype=float)\n",
    "\n",
    "    # calculate FI\n",
    "    fim = calculate_fi.clam_jax_fim(*args).block_until_ready()\n",
    "    fi_ks[enum_on][enum_off] = fim[0][0]\n",
    "\n",
    "    # invert FI matrix\n",
    "    inv_fim = inv(fim)\n",
    "\n",
    "    # top left element of matrix corresponds with RV semi-amplitude, K\n",
    "    sigma_k = np.sqrt(inv_fim)[0][0]\n",
    "\n",
    "    #print(f\"sigma K for {m} Earth mass: \", sigma_k, \" cm/s\")\n",
    "    #print(f\"sigma K/K ratio for {m} Earth mass: \", sigma_k/K)\n",
    "\n",
    "    sigma_ks[enum_on][enum_off] = sigma_k\n"
   ]
  },
  {
   "cell_type": "code",
   "execution_count": null,
   "id": "be25eebb-3ca8-43c1-986b-d47db1ddd99d",
   "metadata": {},
   "outputs": [],
   "source": []
  },
  {
   "cell_type": "code",
   "execution_count": null,
   "id": "e09b8ef6-3ca2-4da1-a447-5cddffa720cc",
   "metadata": {},
   "outputs": [],
   "source": []
  }
 ],
 "metadata": {
  "kernelspec": {
   "display_name": "Python 3 (ipykernel)",
   "language": "python",
   "name": "python3"
  },
  "language_info": {
   "codemirror_mode": {
    "name": "ipython",
    "version": 3
   },
   "file_extension": ".py",
   "mimetype": "text/x-python",
   "name": "python",
   "nbconvert_exporter": "python",
   "pygments_lexer": "ipython3",
   "version": "3.10.8"
  }
 },
 "nbformat": 4,
 "nbformat_minor": 5
}
