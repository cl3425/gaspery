{
 "cells": [
  {
   "cell_type": "markdown",
   "id": "d3ae4bb1-1c90-40e7-975b-4b524dd17085",
   "metadata": {},
   "source": [
    "### Tutorial: Optimal Strategy Given a Fixed Observing Budget"
   ]
  },
  {
   "cell_type": "markdown",
   "id": "99771f86-35e4-460d-af84-92604214ea0e",
   "metadata": {},
   "source": [
    "In this simplest example, let's say you have a budget of 60 observations on a spectrograph, and you want to spend them on a single target. How do you best allocate your budget to maximize the Fisher Information (or minimize the uncertainty) on the radial velocity semi-amplitude, K?\n",
    "\n",
    "For this tutorial, we're going to anonymize the actual first usecase of gaspery, while remaining as faithful to the process as possible. "
   ]
  },
  {
   "cell_type": "code",
   "execution_count": 5,
   "id": "20cb2c45-9938-47b2-ab7c-7e5861a03dcb",
   "metadata": {},
   "outputs": [
    {
     "name": "stdout",
     "output_type": "stream",
     "text": [
      "1.22.3\n",
      "1.7.3\n"
     ]
    }
   ],
   "source": [
    "import numpy as np \n",
    "import scipy\n",
    "print(np.__version__)\n",
    "print(scipy.__version__)\n",
    "import pandas as pd\n",
    "import random\n",
    "import exoplanet\n",
    "import astropy \n",
    "import pymc3\n",
    "import pymc3_ext\n",
    "import celerite2\n",
    "from numpy.linalg import inv, det, solve, cond\n",
    "from tqdm import tqdm\n",
    "\n",
    "import matplotlib.pyplot as plt\n",
    "import matplotlib\n",
    "\n",
    "import jax\n",
    "import jax.numpy as jnp\n",
    "from jax import grad, jit, vmap\n",
    "#from jax import random\n",
    "\n",
    "from gaspery import calculate_fi, strategies, utils\n",
    "\n"
   ]
  },
  {
   "cell_type": "code",
   "execution_count": 6,
   "id": "3f70f2c2-fecd-438a-89cd-89d21fb0da59",
   "metadata": {},
   "outputs": [],
   "source": [
    "import matplotlib.pylab as pylab\n",
    "params = {'legend.fontsize': 'large',\n",
    "         'axes.labelsize': 'x-large',\n",
    "         'axes.titlesize':'x-large',\n",
    "         'xtick.labelsize':'large',\n",
    "         'ytick.labelsize':'large'}\n",
    "pylab.rcParams.update(params)\n",
    "\n",
    "path = '/Users/chrislam/Desktop/gaspery/'"
   ]
  },
  {
   "cell_type": "code",
   "execution_count": 7,
   "id": "db04c5e3-96a8-497d-bde2-62d32ec108cd",
   "metadata": {},
   "outputs": [],
   "source": [
    "### Time to prep ### \n",
    "\n",
    "### observing parameters\n",
    "sigma_ks = []\n",
    "c = 1 # observing cadence of once per day\n",
    "start = 2352\n",
    "n_obs = 200\n",
    "\n",
    "### target parameters\n",
    "sigma_wn_rv = 500 # cm/s (from Klein+ 2020)\n",
    "p = 8.5 # orbital period, days\n",
    "Prot = 4.86 # rotation period, days\n",
    "K = 580 # cm/s\n",
    "T0 = 2360 # arbitrarily chosen fiducial central transit time, in BJD\n",
    "\n",
    "### correlated noise parameters, from Klein+ 2021 for AU Mic\n",
    "Tau = 100/np.sqrt(2) # active region lifetime; days\n",
    "eta = 0.4/np.sqrt(2) # 0.1, 0.3, 0.58, 0.9 # smoothing parameter\n",
    "sigma_qp_rv = 47 * 1e2 # modified Jeffreys prior +11, -8 [cm/s]\n",
    "sigma_wn_rv = 5 * 1e2 # [cm/s]\n",
    "\n",
    "params = [Tau, eta, Prot, sigma_qp_rv, sigma_wn_rv]\n",
    "theta = [K, p, T0]"
   ]
  },
  {
   "cell_type": "code",
   "execution_count": 8,
   "id": "a92a350c-8e10-443a-a150-c48e630cfede",
   "metadata": {},
   "outputs": [],
   "source": [
    "### Time to start cooking ###\n"
   ]
  }
 ],
 "metadata": {
  "kernelspec": {
   "display_name": "Python 3 (ipykernel)",
   "language": "python",
   "name": "python3"
  },
  "language_info": {
   "codemirror_mode": {
    "name": "ipython",
    "version": 3
   },
   "file_extension": ".py",
   "mimetype": "text/x-python",
   "name": "python",
   "nbconvert_exporter": "python",
   "pygments_lexer": "ipython3",
   "version": "3.10.8"
  }
 },
 "nbformat": 4,
 "nbformat_minor": 5
}
