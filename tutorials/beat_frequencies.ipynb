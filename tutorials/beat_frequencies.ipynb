{
 "cells": [
  {
   "cell_type": "markdown",
   "id": "58e60372-2843-46ca-be51-72a3a4f41d0b",
   "metadata": {},
   "source": [
    "### Tutorial: Beat Frequencies"
   ]
  },
  {
   "cell_type": "markdown",
   "id": "de9822a7-46ed-41e9-af07-1876c2d429f8",
   "metadata": {},
   "source": [
    "The reason why we have to optimize our observing strategy is aliasing. Aliasing is when two signals overlap because one is at an integer ratio or multiple frequency of the other. When this happens, it's difficult to tease out whether an observed signal is due to one or the other. Beat frequencies are the frequencies that interact with each other to cause aliasing. "
   ]
  },
  {
   "cell_type": "code",
   "execution_count": 1,
   "id": "431061ed-a84b-4c78-97b4-33b910cf8ea2",
   "metadata": {},
   "outputs": [
    {
     "name": "stdout",
     "output_type": "stream",
     "text": [
      "1.22.3\n",
      "1.7.3\n"
     ]
    }
   ],
   "source": [
    "import numpy as np \n",
    "import scipy\n",
    "print(np.__version__)\n",
    "print(scipy.__version__)\n",
    "import pandas as pd\n",
    "import random\n",
    "import exoplanet\n",
    "import astropy \n",
    "import pymc3\n",
    "import pymc3_ext\n",
    "import tinygp\n",
    "from tinygp import kernels, GaussianProcess\n",
    "from numpy.linalg import inv, det, solve, cond\n",
    "from tqdm import tqdm\n",
    "from astropy.time import Time\n",
    "\n",
    "import matplotlib.pyplot as plt\n",
    "import matplotlib\n",
    "\n",
    "import jax\n",
    "import jax.numpy as jnp\n",
    "from jax import grad, jit, vmap\n",
    "#from jax import random\n",
    "\n",
    "from gaspery import calculate_fi, strategies, utils\n",
    "\n"
   ]
  },
  {
   "cell_type": "code",
   "execution_count": 2,
   "id": "8f1f6126-7bbe-484e-98bf-3d668fc055c2",
   "metadata": {},
   "outputs": [],
   "source": [
    "import matplotlib.pylab as pylab\n",
    "params = {'legend.fontsize': 'large',\n",
    "         'axes.labelsize': 'x-large',\n",
    "         'axes.titlesize':'x-large',\n",
    "         'xtick.labelsize':'large',\n",
    "         'ytick.labelsize':'large'}\n",
    "pylab.rcParams.update(params)\n",
    "\n",
    "path = '/Users/chrislam/Desktop/gaspery/'"
   ]
  },
  {
   "cell_type": "code",
   "execution_count": 3,
   "id": "39d83c94-9dfe-4917-8385-8799c3c318be",
   "metadata": {},
   "outputs": [],
   "source": [
    "### target parameters\n",
    "p = 8.46 # orbital period, days\n",
    "K = 5.80 # m/s\n",
    "T0 = 2458651.993 # central transit time, in BJD, on 19 June 2019\n",
    "\n",
    "### white/photon noise\n",
    "sigma_wn_rv = 5 # [m/s]\n",
    "sigma_qp_rv = 47 # m/s\n",
    "Tau = 100/np.sqrt(2) # active region lifetime; days\n",
    "eta = 0.4/np.sqrt(2) # 0.1, 0.3, 0.58, 0.9 # smoothing parameter\n",
    "Prot = 4.86\n",
    "\n",
    "### choose start time as date of this writing\n",
    "start = '2023-03-01T10:00:00'\n",
    "start = Time(start, format='isot', scale='utc').jd"
   ]
  },
  {
   "cell_type": "code",
   "execution_count": 4,
   "id": "e61047aa-437f-4fe0-a4ae-222d5c327e29",
   "metadata": {},
   "outputs": [],
   "source": [
    "offs = []\n",
    "n_obs = 30\n",
    "strategy = strategies.Strategy(n_obs = n_obs, start = start, offs=offs, dropout=0.)"
   ]
  },
  {
   "cell_type": "code",
   "execution_count": 5,
   "id": "ee215fbb-4d20-4171-a2b4-01c0c4843bde",
   "metadata": {},
   "outputs": [],
   "source": [
    "cadence = 1\n",
    "strat = strategy.gappy(cadence = cadence)"
   ]
  },
  {
   "cell_type": "code",
   "execution_count": 6,
   "id": "77237f03-c9b1-4f31-96b7-706335104688",
   "metadata": {},
   "outputs": [],
   "source": [
    "# instantiate Star object in order to feed covariance matrix with white/correlated noise\n",
    "star = calculate_fi.Star(sigma_wn_rv = sigma_wn_rv, Tau = Tau, eta = eta, \n",
    "                         Prot = Prot, sigma_qp_rv = sigma_qp_rv)\n",
    "\n",
    "# populate list of parameters to feed into cov_matrix_jax()\n",
    "params = star.param_list()\n",
    "\n",
    "# build covariance matrix, characterized by a correlated noise model of the stellar signal\n",
    "kernel = kernels.ExpSineSquared(scale=Prot, gamma=1/(2*eta**2)) # first term of exponential\n",
    "kernel *= kernels.ExpSquared(scale=Tau) # other term of exponential\n",
    "kernel *= sigma_qp_rv**2 # multiply by scalar\n",
    "\n",
    "sigma = star.cov_matrix_general(strat, kernel)"
   ]
  },
  {
   "cell_type": "markdown",
   "id": "ce305776-fdbb-4cd4-8d95-9792f56a3134",
   "metadata": {},
   "source": [
    "1) orbital period = 4.86 days. Change nothing else."
   ]
  },
  {
   "cell_type": "code",
   "execution_count": 7,
   "id": "290ee2ae-ddd3-439d-964d-2451d2a8eddf",
   "metadata": {},
   "outputs": [
    {
     "name": "stdout",
     "output_type": "stream",
     "text": [
      "29.047031\n"
     ]
    },
    {
     "name": "stderr",
     "output_type": "stream",
     "text": [
      "/var/folders/h2/sp_lfvz5515bhg_y92psw7f80000gn/T/ipykernel_9203/747181674.py:6: RuntimeWarning: invalid value encountered in sqrt\n",
      "  sigma_k = np.sqrt(inv_fim)[0][0]\n"
     ]
    }
   ],
   "source": [
    "p = 4.86 # instead of 8.46\n",
    "theta = [K, p, T0]\n",
    "args = np.array(strat), sigma, jnp.array(theta, dtype=float)\n",
    "fim = calculate_fi.clam_jax_fim(*args).block_until_ready()\n",
    "inv_fim = inv(fim)\n",
    "sigma_k = np.sqrt(inv_fim)[0][0]\n",
    "\n",
    "fi_k = fim[0][0]\n",
    "print(sigma_k)"
   ]
  },
  {
   "cell_type": "code",
   "execution_count": 8,
   "id": "c6e1abac-e0d3-4dde-ae06-dc63e75ffcf7",
   "metadata": {},
   "outputs": [],
   "source": [
    "gp = GaussianProcess(kernel, strat)\n",
    "sample = gp.sample(jax.random.PRNGKey(4), shape=(1,))\n"
   ]
  },
  {
   "cell_type": "code",
   "execution_count": 9,
   "id": "c8959e2f-b93a-4beb-8e0e-e8e0eafb9f88",
   "metadata": {},
   "outputs": [
    {
     "ename": "TypeError",
     "evalue": "model_jax() takes 2 positional arguments but 4 were given",
     "output_type": "error",
     "traceback": [
      "\u001b[0;31m---------------------------------------------------------------------------\u001b[0m",
      "\u001b[0;31mTypeError\u001b[0m                                 Traceback (most recent call last)",
      "Cell \u001b[0;32mIn[9], line 3\u001b[0m\n\u001b[1;32m      1\u001b[0m \u001b[38;5;66;03m#strat = strat - T0 # re-index at T0 for ease of comparison\u001b[39;00m\n\u001b[1;32m      2\u001b[0m t_phase_folded \u001b[38;5;241m=\u001b[39m strat \u001b[38;5;241m%\u001b[39m p \u001b[38;5;66;03m# phase fold support\u001b[39;00m\n\u001b[0;32m----> 3\u001b[0m y_phase_folded \u001b[38;5;241m=\u001b[39m np\u001b[38;5;241m.\u001b[39marray(\u001b[43mcalculate_fi\u001b[49m\u001b[38;5;241;43m.\u001b[39;49m\u001b[43mmodel_jax\u001b[49m\u001b[43m(\u001b[49m\u001b[43mt_phase_folded\u001b[49m\u001b[43m,\u001b[49m\u001b[43m \u001b[49m\u001b[43mK\u001b[49m\u001b[43m,\u001b[49m\u001b[43m \u001b[49m\u001b[43mp\u001b[49m\u001b[43m,\u001b[49m\u001b[43m \u001b[49m\u001b[43mT0\u001b[49m\u001b[43m)\u001b[49m)\n",
      "\u001b[0;31mTypeError\u001b[0m: model_jax() takes 2 positional arguments but 4 were given"
     ]
    }
   ],
   "source": [
    "#strat = strat - T0 # re-index at T0 for ease of comparison\n",
    "t_phase_folded = strat % p # phase fold support\n",
    "y_phase_folded = np.array(calculate_fi.model_jax(t_phase_folded, K, p, T0))"
   ]
  },
  {
   "cell_type": "code",
   "execution_count": null,
   "id": "d0967dc5-a7b4-4020-99c5-693e040fe8d9",
   "metadata": {},
   "outputs": [],
   "source": [
    "# reset figsize to default\n",
    "#plt.rcParams[\"figure.figsize\"] = plt.rcParamsDefault[\"figure.figsize\"]\n"
   ]
  },
  {
   "cell_type": "code",
   "execution_count": null,
   "id": "6cabf292-fb73-481b-b8cd-8acbd752fa2b",
   "metadata": {},
   "outputs": [],
   "source": [
    "plt.rcParams[\"figure.figsize\"] = (10,5)\n",
    "#plt.rcParams[\"figure.figsize\"] = plt.rcParamsDefault[\"figure.figsize\"]\n",
    "\n",
    "from scipy.stats import binned_statistic\n",
    "\n",
    "# first, create fiducial model of the planet signal\n",
    "y = calculate_fi.model_jax(strat, theta[0], theta[1], theta[2])\n",
    "\n",
    "# bin the observed signal of planet + stellar signal, phase-folded by orbital period\n",
    "bins = 10\n",
    "mean_stat_observed = binned_statistic((strat-T0) % p, sample + y, \n",
    "                             statistic='mean', \n",
    "                             bins=bins, range=(0, p))\n",
    "\n",
    "# bin the observed signal of just the planet signal, phase-folded by orbital period\n",
    "bins = 10\n",
    "mean_stat_planet = binned_statistic((strat-T0) % p, y, \n",
    "                             statistic='mean', \n",
    "                             bins=bins, range=(0, p))\n",
    "\n",
    "plt.scatter((strat-T0) % p, sample + y_phase_folded, label='observed signal', c='red', s=10)\n",
    "plt.scatter(mean_stat_observed.bin_edges[:-1], mean_stat_observed.statistic, label='binned observed signal', s=60, \n",
    "            facecolors='none', edgecolors='r')\n",
    "plt.scatter((strat-T0) % p, y_phase_folded, label='putative planet signal', c='blue', s=10)\n",
    "#plt.scatter(mean_stat_planet.bin_edges[:-1], mean_stat_planet.statistic, label='binned planet signal', s=60, \n",
    "#            facecolors='none', edgecolors='blue')\n",
    "\n",
    "plt.xlabel('phase-folded BJD')\n",
    "plt.ylabel('RV signal [m/s]')\n",
    "plt.title(r'$P_{orb}$ = $P_{rot}$; strategy: 1 night on, 1 night off; $\\sigma_K$ = 29 m/s')\n",
    "plt.ylim([-120, 120])\n",
    "plt.legend(bbox_to_anchor=(1.0, 0.25))\n",
    "plt.savefig(path + 'plots/au-mic/beat-freq1.pdf', format='pdf', bbox_inches='tight')\n",
    "plt.show()"
   ]
  },
  {
   "cell_type": "markdown",
   "id": "4f26f91d-3a59-4834-a638-9a53a0fea8f0",
   "metadata": {},
   "source": [
    "2) Beat frequency between orbital and rotation periods: one such frequency (printing \"t1s_plus[10], periods[10]\" from au-mic.ipynb) is cadence of 3.3 days and orbital period of 10.2 days."
   ]
  },
  {
   "cell_type": "code",
   "execution_count": null,
   "id": "e31a50d7-fded-4777-8b61-9cb49b629aa8",
   "metadata": {},
   "outputs": [],
   "source": [
    "p = 10.2\n",
    "cadence = 3.3 #4.3\n",
    "\n",
    "strat = strategy.gappy(cadence = cadence)\n",
    "\n",
    "sigma = star.cov_matrix_general(strat, kernel)\n",
    "\n",
    "theta = [K, p, T0]\n",
    "args = np.array(strat), sigma, jnp.array(theta, dtype=float)\n",
    "fim = calculate_fi.clam_jax_fim(*args).block_until_ready()\n",
    "inv_fim = inv(fim)\n",
    "sigma_k = np.sqrt(inv_fim)[0][0]\n",
    "\n",
    "fi_k = fim[0][0]\n",
    "print(sigma_k)"
   ]
  },
  {
   "cell_type": "code",
   "execution_count": null,
   "id": "fabc4315-8de9-4152-a423-88cfadbe60f3",
   "metadata": {},
   "outputs": [],
   "source": [
    "plt.rcParams[\"figure.figsize\"] = (10,5)\n",
    "\n",
    "gp = GaussianProcess(kernel, strat)\n",
    "sample = gp.sample(jax.random.PRNGKey(4), shape=(1,))\n",
    "\n",
    "t_phase_folded = strat % p # phase fold support\n",
    "y_phase_folded = np.array(calculate_fi.model_jax(t_phase_folded, K, p, T0))\n",
    "\n",
    "# first, create fiducial model of the planet signal\n",
    "y = calculate_fi.model_jax(strat, theta[0], theta[1], theta[2])\n",
    "\n",
    "# bin the observed signal of planet + stellar signal, phase-folded by orbital period\n",
    "bins = 10\n",
    "mean_stat_observed = binned_statistic((strat-T0) % p, sample + y, \n",
    "                             statistic='mean', \n",
    "                             bins=bins, range=(0, p))\n",
    "\n",
    "# bin the observed signal of just the planet signal, phase-folded by orbital period\n",
    "bins = 10\n",
    "mean_stat_planet = binned_statistic((strat-T0) % p, y, \n",
    "                             statistic='mean', \n",
    "                             bins=bins, range=(0, p))\n",
    "\n",
    "plt.scatter((strat-T0) % p, sample + y_phase_folded, label='observed signal', s=10, c='red')\n",
    "plt.scatter(mean_stat_observed.bin_edges[:-1], mean_stat_observed.statistic, label='binned observed signal', s=60, \n",
    "            facecolors='none', edgecolors='r')\n",
    "plt.scatter((strat-T0) % p, y_phase_folded, label='putative planet signal', s=10, c='blue')\n",
    "#plt.scatter(mean_stat_planet.bin_edges[:-1], mean_stat_planet.statistic, label='binned planet signal', s=60, \n",
    "#            facecolors='none', edgecolors='blue')\n",
    "\n",
    "plt.xlabel('phase-folded BJD')\n",
    "plt.ylabel('RV signal [m/s]')\n",
    "plt.ylim([-120, 120])\n",
    "plt.title(r'$P_{orb}$ on beat frequency; strategy: 1x per 3.3 nights; $\\sigma_K$ = 26 m/s')\n",
    "plt.legend(bbox_to_anchor=(1.0, 0.25))\n",
    "plt.savefig(path + 'plots/au-mic/beat-freq2.pdf', format='pdf', bbox_inches='tight')\n",
    "plt.show()"
   ]
  },
  {
   "cell_type": "markdown",
   "id": "6e1020a4-b321-4c86-bb58-dbae13df1ffc",
   "metadata": {},
   "source": [
    "Wait, at some point, wouldn't a non-integer cadence lead to wrapping around toward observing during the day?"
   ]
  },
  {
   "cell_type": "markdown",
   "id": "51e24f89-3511-404b-8463-6cdefaa45f4a",
   "metadata": {},
   "source": [
    "3) Good strategy: cadence of exactly equal to Prot; orbital period of 6 days"
   ]
  },
  {
   "cell_type": "code",
   "execution_count": null,
   "id": "ef2e06d4-d4fe-4e76-b370-4444f295eeff",
   "metadata": {},
   "outputs": [],
   "source": [
    "p = 11\n",
    "cadence = 4.86\n",
    "\n",
    "strat = strategy.gappy(cadence = cadence)\n",
    "\n",
    "sigma = star.cov_matrix_general(strat, kernel)\n",
    "\n",
    "theta = [K, p, T0]\n",
    "args = np.array(strat), sigma, jnp.array(theta, dtype=float)\n",
    "fim = calculate_fi.clam_jax_fim(*args).block_until_ready()\n",
    "inv_fim = inv(fim)\n",
    "sigma_k = np.sqrt(inv_fim)[0][0]\n",
    "\n",
    "fi_k = fim[0][0]\n",
    "print(sigma_k)"
   ]
  },
  {
   "cell_type": "code",
   "execution_count": null,
   "id": "d38ec5cf-16f7-46de-9e33-36c1041ac50f",
   "metadata": {},
   "outputs": [],
   "source": [
    "\"\"\"\n",
    "gp1 = GaussianProcess(kernel, strat[:10])\n",
    "sample1 = gp1.sample(jax.random.PRNGKey(4), shape=(1,))\n",
    "\n",
    "gp2 = GaussianProcess(kernel, strat[10:15])\n",
    "sample2 = gp2.sample(jax.random.PRNGKey(4), shape=(1,))\n",
    "\n",
    "gp3 = GaussianProcess(kernel, strat[15:20])\n",
    "sample3 = gp3.sample(jax.random.PRNGKey(4), shape=(1,))\n",
    "\n",
    "gp4 = GaussianProcess(kernel, strat[20:25])\n",
    "sample4 = gp4.sample(jax.random.PRNGKey(4), shape=(1,))\n",
    "\n",
    "gp5 = GaussianProcess(kernel, strat[25:])\n",
    "sample5 = gp5.sample(jax.random.PRNGKey(4), shape=(1,))\n",
    "\n",
    "sample = np.concatenate((sample1, sample2, sample3, sample4, sample5), axis=1)[0]\n",
    "print(sample)\n",
    "\"\"\""
   ]
  },
  {
   "cell_type": "markdown",
   "id": "1968df4f-ad01-4a51-8672-085427c2715d",
   "metadata": {},
   "source": [
    "The GaussianProcess class of tinygp is failing for some parts of this strategy. Splitting it and sampling piecewise, and then putting it back together leads to overestimated errors. Turns out there's a troubleshooting section in the tinygp docs addressing this exact problem: https://tinygp.readthedocs.io/en/latest/troubleshooting.html"
   ]
  },
  {
   "cell_type": "code",
   "execution_count": null,
   "id": "89ee763c-86f3-471c-9efb-53d10a717066",
   "metadata": {},
   "outputs": [],
   "source": [
    "# needed to turn on double precision, per Troubleshooting section in docs\n",
    "# otherwise, I just get nans\n",
    "jax.config.update(\"jax_enable_x64\", True)\n",
    "\n",
    "gp = GaussianProcess(kernel, strat)\n",
    "sample = gp.sample(jax.random.PRNGKey(4), shape=(1,))\n",
    "print(sample)"
   ]
  },
  {
   "cell_type": "code",
   "execution_count": null,
   "id": "15b5d637-388a-4924-9364-319835516b14",
   "metadata": {},
   "outputs": [],
   "source": [
    "plt.rcParams[\"figure.figsize\"] = (10,5)\n",
    "\n",
    "strat = strat - T0\n",
    "\n",
    "t_phase_folded = strat % p # phase fold support\n",
    "y_phase_folded = np.array(calculate_fi.model_jax(t_phase_folded, K, p, T0))\n",
    "\n",
    "# first, create fiducial model of the planet signal\n",
    "y = calculate_fi.model_jax(strat, theta[0], theta[1], theta[2])\n",
    "\n",
    "# bin the observed signal of planet + stellar signal, phase-folded by orbital period\n",
    "bins = 10\n",
    "mean_stat_observed = binned_statistic(strat % p, sample + y, \n",
    "                             statistic='mean', \n",
    "                             bins=bins, range=(0, p))\n",
    "\n",
    "# bin the observed signal of just the planet signal, phase-folded by orbital period\n",
    "bins = 10\n",
    "mean_stat_planet = binned_statistic(strat % p, y, \n",
    "                             statistic='mean', \n",
    "                             bins=bins, range=(0, p))\n",
    "\n",
    "plt.scatter(strat % p, sample + y_phase_folded, label='observed signal', s=10, c='red')\n",
    "plt.scatter(mean_stat_observed.bin_edges[:-1], mean_stat_observed.statistic, label='binned observed signal', s=60, \n",
    "            facecolors='none', edgecolors='r')\n",
    "plt.scatter(strat % p, y_phase_folded, label='putative planet signal', s=10, c='blue')\n",
    "#plt.scatter(mean_stat_planet.bin_edges[:-1], mean_stat_planet.statistic, label='binned planet signal', s=60, \n",
    "#            facecolors='none', edgecolors='blue')\n",
    "\n",
    "plt.xlabel('phase-folded BJD')\n",
    "plt.ylabel('RV signal [m/s]')\n",
    "plt.ylim([-120, 120])\n",
    "plt.title(r'$P_{orb}$ = 11 days; strategy: 1x per 4.86 nights; $\\sigma_K$ = 1.8 m/s')\n",
    "plt.legend(bbox_to_anchor=(1.0, 0.25))\n",
    "plt.savefig(path + 'plots/au-mic/beat-freq3.pdf', format='pdf', bbox_inches='tight')\n",
    "plt.show()"
   ]
  },
  {
   "cell_type": "code",
   "execution_count": null,
   "id": "cc684fb6-8792-467c-bc16-119cb236a70f",
   "metadata": {},
   "outputs": [],
   "source": []
  }
 ],
 "metadata": {
  "kernelspec": {
   "display_name": "Python 3 (ipykernel)",
   "language": "python",
   "name": "python3"
  },
  "language_info": {
   "codemirror_mode": {
    "name": "ipython",
    "version": 3
   },
   "file_extension": ".py",
   "mimetype": "text/x-python",
   "name": "python",
   "nbconvert_exporter": "python",
   "pygments_lexer": "ipython3",
   "version": "3.10.8"
  }
 },
 "nbformat": 4,
 "nbformat_minor": 5
}
