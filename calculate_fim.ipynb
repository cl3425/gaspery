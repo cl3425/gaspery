{
 "cells": [
  {
   "cell_type": "markdown",
   "id": "28ad8c9b-557f-4ec5-aec5-0276dff5e422",
   "metadata": {},
   "source": [
    "### Take time series, associated RV measurement uncertainties, and planet orbital parameters and calculate the generalized (aka expected) Fisher Information Matrix (FIM)"
   ]
  },
  {
   "cell_type": "markdown",
   "id": "17fc72fd-5cca-42fd-b20a-35823d878e0c",
   "metadata": {},
   "source": [
    "Let's start with the most trivial case of circular orbit and white noise"
   ]
  },
  {
   "cell_type": "code",
   "execution_count": 1,
   "id": "5cd695a0-5907-48e5-a16c-f9a489fc1cf6",
   "metadata": {},
   "outputs": [
    {
     "name": "stdout",
     "output_type": "stream",
     "text": [
      "1.21.0\n",
      "1.7.3\n"
     ]
    }
   ],
   "source": [
    "import numpy as np \n",
    "import scipy\n",
    "print(np.__version__)\n",
    "print(scipy.__version__)\n",
    "\n",
    "import pandas as pd\n",
    "import exoplanet\n",
    "import astropy \n",
    "import pymc3\n",
    "import pymc3_ext\n",
    "import celerite2"
   ]
  },
  {
   "cell_type": "code",
   "execution_count": 27,
   "id": "efac4c67-a8b9-4bb1-a18c-277ec80d751c",
   "metadata": {},
   "outputs": [],
   "source": [
    "param_list = ['K','P','T0']\n",
    "\n",
    "def partial_mu_partial_K(t, P, T0):\n",
    "    \"\"\"\n",
    "    Calculate the partial derivative of the model w.r.t. semi-amplitude, K\n",
    "    \n",
    "    Inputs: \n",
    "    - t: time series of length N observations; np.array [day]\n",
    "    - P: planet period [days]\n",
    "    - T0: mean transit time [day]\n",
    "    \n",
    "    Output: \n",
    "    - array of partial derivatives of length N, where N is number of observations (ie. length of the model vector)\n",
    "    \"\"\"\n",
    "    \n",
    "    normalized_t = t-T0\n",
    "    #print(normalized_t)\n",
    "    arg = (2*np.pi/P) * normalized_t\n",
    "    #print(arg)\n",
    "    return -np.sin(arg)\n",
    "\n",
    "def partial_mu_partial_P(t, K, P, T0):\n",
    "    \"\"\"\n",
    "    Calculate the partial derivative of the model w.r.t. period, P\n",
    "    \n",
    "    Inputs: \n",
    "    - t: time series of length N observations; np.array [day]\n",
    "    - K: RV semi-amplitude [cm/s]\n",
    "    - P: planet period [days]\n",
    "    - T0: mean transit time [day]\n",
    "    \n",
    "    Output: \n",
    "    - array of partial derivatives of length N, where N is number of observations (ie. length of the model vector)\n",
    "    \"\"\"\n",
    "    \n",
    "    normalized_t = t-T0\n",
    "    #print(normalized_t)\n",
    "    arg = (2*np.pi/P) * normalized_t\n",
    "    #print(arg)\n",
    "    return -K * np.cos(arg) * arg/P\n",
    "\n",
    "def partial_mu_partial_T0(t, K, P, T0):\n",
    "    \"\"\"\n",
    "    Calculate the partial derivative of the model w.r.t. mean transit time, T0\n",
    "    \n",
    "    Inputs: \n",
    "    - t: time series of length N observations; np.array [day]\n",
    "    - K: RV semi-amplitude [cm/s]\n",
    "    - P: planet period [days]\n",
    "    - T0: mean transit time [day]\n",
    "    \n",
    "    Output: \n",
    "    - array of partial derivatives of length N, where N is number of observations (ie. length of the model vector)\n",
    "    \"\"\"\n",
    "    \n",
    "    normalized_t = t-T0\n",
    "    #print(normalized_t)\n",
    "    arg = (2*np.pi/P) * normalized_t\n",
    "    #print(arg)\n",
    "    return (2*np.pi*K/P) * np.cos(arg)\n",
    "\n",
    "def partial_mu(t, theta, wrt):\n",
    "    \"\"\"\n",
    "    Unpack parameters and calculate all partial derivatives of the model w.r.t. those parameters\n",
    "    \n",
    "    Inputs: \n",
    "    - t: time series of length N observations; np.array [day]\n",
    "    - theta: planet orbital parameters; eg. [K, P, T0]; np.array\n",
    "    - wrt: parameter with respect to which the model's partial derivative is taken\n",
    "    \n",
    "    theta breakdown:\n",
    "    - K: RV semi-amplitude [cm/s]\n",
    "    - P: planet period [days]\n",
    "    - T0: mean transit time [day]\n",
    "    \n",
    "    Output:\n",
    "    - derivative vector of length N\n",
    "    \"\"\"\n",
    "\n",
    "    # unpack parameters\n",
    "    K, P, T0 = theta[0], theta[1], theta[2]\n",
    "    \n",
    "    # calculate partial derivative depending on 'wrt'\n",
    "    normalized_t = t-T0\n",
    "    arg = (2*np.pi/P) * normalized_t\n",
    "    \n",
    "    if wrt=='K':\n",
    "        return -K * np.cos(arg) * arg/P\n",
    "    elif wrt=='P':\n",
    "        return -K * np.cos(arg) * arg/P\n",
    "    elif wrt=='T0':\n",
    "        return (2*np.pi*K/P) * np.cos(arg)\n",
    "    \n",
    "    print(\"parameter not recognized\")\n",
    "    \n",
    "    return                                                                                                                                                                                                                                                                                                                                                                                                                                                                                                                                                                                  \n",
    "\n",
    "def calculate_fim(t, sigma, theta):\n",
    "    \"\"\"\n",
    "    Calculate the generalized Fisher Information Matrix according to I_m,n in \n",
    "    https://en.wikipedia.org/wiki/Fisher_information#Multivariate_normal_distribution\n",
    "    \n",
    "    Inputs: \n",
    "    - t: time series of length N observations; np.array [day]\n",
    "    - sigma: RV measurement uncertainties associated with each observation; np.array of length N [cm/s]\n",
    "    - theta: planet orbital parameters; eg. [K, P, T0]; np.array\n",
    "    \n",
    "    theta breakdown:\n",
    "    - K: RV semi-amplitude [cm/s]\n",
    "    - P: planet period [days]\n",
    "    - T0: mean transit time [day]\n",
    "    \n",
    "    Output:\n",
    "    - Fisher Information Matrix: len(theta)xlen(theta) matrix; np.array\n",
    "    \n",
    "    \"\"\"\n",
    "\n",
    "    #print(\"partial mu, partial K: \", partial_mu(t, theta, 'K'))\n",
    "    #print(\"partial mu, partial P: \", partial_mu(t, theta, 'P'))\n",
    "    #print(\"partial mu, partial T0: \", partial_mu(t, theta, 'T0'))\n",
    "    \n",
    "    fim = np.zeros((len(theta),len(theta)))\n",
    "    for i in range(len(theta)):\n",
    "        for j in range(len(theta)):\n",
    "            #param_i = theta[i]\n",
    "            #param_j = theta[j]\n",
    "            wrt_i = param_list[i]\n",
    "            wrt_j = param_list[j]\n",
    "            \n",
    "            factor1 = partial_mu(t, theta, wrt_i).reshape((1,4)) # partial derivative of the model wrt row parameter, transposed\n",
    "            #print(factor1)\n",
    "            factor2 = 1/sigma**2 # inverse of covariance matrix (or just the RV variance if held constant)\n",
    "            factor2[factor2 == np.inf] = 0 # turn infs into zeros (shouldn't it be nans?)\n",
    "            #print(factor2)\n",
    "            factor3 = partial_mu(t, theta, wrt_j).reshape((4,1)) # partial derivative of the model wrt column parameter\n",
    "            #print(factor3)\n",
    "            #print(\"shapes: \", factor1.shape, factor2.shape, factor3.shape)\n",
    "            #print(np.dot(np.dot(factor1, factor2), factor3))\n",
    "            fim[i][j] = np.dot(np.dot(factor1, factor2), factor3)\n",
    "    \n",
    "    return fim"
   ]
  },
  {
   "cell_type": "code",
   "execution_count": 28,
   "id": "0c41dab6-a08a-43fb-9573-019118626e45",
   "metadata": {},
   "outputs": [
    {
     "name": "stdout",
     "output_type": "stream",
     "text": [
      "(4,) (4, 4)\n"
     ]
    }
   ],
   "source": [
    "test_t = np.array([2340, 2350, 2380, 2400]) # in Barycentric Julian Dates\n",
    "test_T0 = 2360 # BJD\n",
    "test_K = 500 # 5 m/s to cm/s\n",
    "test_P = 10 # days\n",
    "test_sigma = np.diag(np.ones(len(test_t))*30) # cm/s\n",
    "print(test_t.shape, test_sigma.shape)"
   ]
  },
  {
   "cell_type": "code",
   "execution_count": 29,
   "id": "caf706ef-381d-477e-95f4-df0a7e99fea2",
   "metadata": {},
   "outputs": [
    {
     "name": "stderr",
     "output_type": "stream",
     "text": [
      "/tmp/ipykernel_2039244/3248522076.py:132: RuntimeWarning: divide by zero encountered in true_divide\n",
      "  factor2 = 1/sigma**2 # inverse of covariance matrix (or just the RV variance if held constant)\n"
     ]
    },
    {
     "data": {
      "text/plain": [
       "array([[2741.55677808, 2741.55677808, -328.98681337],\n",
       "       [2741.55677808, 2741.55677808, -328.98681337],\n",
       "       [-328.98681337, -328.98681337,  438.64908449]])"
      ]
     },
     "execution_count": 29,
     "metadata": {},
     "output_type": "execute_result"
    }
   ],
   "source": [
    "test_theta = [test_K, test_P, test_T0]\n",
    "calculate_fim(test_t, test_sigma, test_theta)"
   ]
  },
  {
   "cell_type": "code",
   "execution_count": null,
   "id": "f58ccdf8-bcba-4b5b-a8ab-b2ab5f6f99b5",
   "metadata": {},
   "outputs": [],
   "source": []
  }
 ],
 "metadata": {
  "kernelspec": {
   "display_name": "scheduling",
   "language": "python",
   "name": "scheduling"
  },
  "language_info": {
   "codemirror_mode": {
    "name": "ipython",
    "version": 3
   },
   "file_extension": ".py",
   "mimetype": "text/x-python",
   "name": "python",
   "nbconvert_exporter": "python",
   "pygments_lexer": "ipython3",
   "version": "3.8.12"
  }
 },
 "nbformat": 4,
 "nbformat_minor": 5
}
