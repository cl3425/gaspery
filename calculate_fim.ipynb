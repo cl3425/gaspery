{
 "cells": [
  {
   "cell_type": "markdown",
   "id": "28ad8c9b-557f-4ec5-aec5-0276dff5e422",
   "metadata": {},
   "source": [
    "### Take time series, associated RV measurement uncertainties, and planet orbital parameters and calculate the generalized (aka expected) Fisher Information Matrix (FIM)"
   ]
  },
  {
   "cell_type": "markdown",
   "id": "17fc72fd-5cca-42fd-b20a-35823d878e0c",
   "metadata": {},
   "source": [
    "Let's start with the most trivial case of circular orbit and white noise"
   ]
  },
  {
   "cell_type": "code",
   "execution_count": 1,
   "id": "5cd695a0-5907-48e5-a16c-f9a489fc1cf6",
   "metadata": {},
   "outputs": [
    {
     "name": "stdout",
     "output_type": "stream",
     "text": [
      "1.21.0\n",
      "1.7.3\n"
     ]
    }
   ],
   "source": [
    "import numpy as np \n",
    "import scipy\n",
    "print(np.__version__)\n",
    "print(scipy.__version__)\n",
    "\n",
    "import pandas as pd\n",
    "import exoplanet\n",
    "import astropy \n",
    "import pymc3\n",
    "import pymc3_ext\n",
    "import celerite2\n",
    "from numpy.linalg import inv, det\n",
    "\n",
    "import matplotlib.pyplot as plt"
   ]
  },
  {
   "cell_type": "code",
   "execution_count": 28,
   "id": "d7881a1b-c48f-4ba4-87f4-2ecdc5ad942d",
   "metadata": {},
   "outputs": [
    {
     "name": "stdout",
     "output_type": "stream",
     "text": [
      "2.220446049250313e-16\n",
      "15\n",
      "15\n",
      "18\n"
     ]
    }
   ],
   "source": [
    "print(np.finfo(float).eps) # machine epsilon for float\n",
    "print(np.finfo(float).precision) \n",
    "print(np.finfo(np.double).precision) \n",
    "print(np.finfo(np.longdouble).precision) "
   ]
  },
  {
   "cell_type": "code",
   "execution_count": 3,
   "id": "efac4c67-a8b9-4bb1-a18c-277ec80d751c",
   "metadata": {},
   "outputs": [],
   "source": [
    "def partial_mu(t, theta, wrt):\n",
    "    \"\"\"\n",
    "    Unpack parameters and calculate all partial derivatives of the model w.r.t. those parameters\n",
    "    \n",
    "    Inputs: \n",
    "    - t: time series of length N observations; np.array [day]\n",
    "    - theta: planet orbital parameters; eg. [K, P, T0]; np.array\n",
    "    - wrt: parameter with respect to which the model's partial derivative is taken\n",
    "    \n",
    "    theta breakdown:\n",
    "    - K: RV semi-amplitude [cm/s]\n",
    "    - P: planet period [days]\n",
    "    - T0: mean transit time [day]\n",
    "    \n",
    "    Output:\n",
    "    - derivative vector of length N\n",
    "    \"\"\"\n",
    "\n",
    "    # unpack parameters\n",
    "    K, P, T0 = theta[0], theta[1], theta[2]\n",
    "    \n",
    "    # calculate partial derivative depending on 'wrt'\n",
    "    normalized_t = t-T0\n",
    "    arg = (2*np.pi/P) * normalized_t\n",
    "    \n",
    "    if wrt=='K':\n",
    "        return -np.sin(arg)\n",
    "    elif wrt=='P':\n",
    "        return -K * np.cos(arg) * arg/P\n",
    "    elif wrt=='T0':\n",
    "        return (2*np.pi*K/P) * np.cos(arg)\n",
    "    \n",
    "    print(\"parameter not recognized\")\n",
    "    \n",
    "    return                                                                                                                                                                                                                                                                                                                                                                                                                                                                                                                                                                                  \n",
    "\n",
    "def calculate_fim(t, sigma, theta):\n",
    "    \"\"\"\n",
    "    Calculate the generalized Fisher Information Matrix according to I_m,n in \n",
    "    https://en.wikipedia.org/wiki/Fisher_information#Multivariate_normal_distribution\n",
    "    \n",
    "    Inputs: \n",
    "    - t: time series of length N observations; np.array [day]\n",
    "    - sigma: RV measurement uncertainties associated with each observation; np.array of length N [cm/s]\n",
    "    - theta: planet orbital parameters; eg. [K, P, T0]; np.array\n",
    "    \n",
    "    theta breakdown:\n",
    "    - K: RV semi-amplitude [cm/s]\n",
    "    - P: planet period [days]\n",
    "    - T0: mean transit time [day]\n",
    "    \n",
    "    Output:\n",
    "    - Fisher Information Matrix: len(theta)xlen(theta) matrix; np.array\n",
    "    \n",
    "    \"\"\"\n",
    "\n",
    "    #print(\"partial mu, partial K: \", partial_mu(t, theta, 'K'))\n",
    "    #print(\"partial mu, partial P: \", partial_mu(t, theta, 'P'))\n",
    "    #print(\"partial mu, partial T0: \", partial_mu(t, theta, 'T0'))\n",
    "    factor2 = 1/sigma**2\n",
    "    factor2[factor2 == np.inf] = 0 \n",
    "    \n",
    "    fim = np.zeros((len(theta),len(theta)))\n",
    "    for i in range(len(theta)):\n",
    "        for j in range(len(theta)):\n",
    "            #param_i = theta[i]\n",
    "            #param_j = theta[j]\n",
    "            wrt_i = param_list[i]\n",
    "            wrt_j = param_list[j]\n",
    "            \n",
    "            factor1 = partial_mu(t, theta, wrt_i)#.reshape((1,4)) # partial derivative of the model wrt row parameter, transposed\n",
    "            #print(factor1)\n",
    "            ###factor2 = 1/sigma**2 # inverse of covariance matrix (or just the RV variance if held constant)\n",
    "            ###factor2[factor2 == np.inf] = 0 # turn infs into zeros (shouldn't it be nans?)\n",
    "            #print(factor2)\n",
    "            factor3 = partial_mu(t, theta, wrt_j)#.reshape((4,1)) # partial derivative of the model wrt column parameter\n",
    "            #print(factor3)\n",
    "            #print(\"shapes: \", factor1.shape, factor2.shape, factor3.shape)\n",
    "            #print(np.dot(np.dot(factor1, factor2), factor3))\n",
    "            \n",
    "            fim[i][j] = np.dot(np.dot(factor1, factor2), factor3)\n",
    "    \n",
    "    return fim"
   ]
  },
  {
   "cell_type": "markdown",
   "id": "37e77b3f-2644-44b1-97ca-c5d1087e3743",
   "metadata": {},
   "source": [
    "Let's try some test observations and planetary orbital parameters."
   ]
  },
  {
   "cell_type": "code",
   "execution_count": 4,
   "id": "0c41dab6-a08a-43fb-9573-019118626e45",
   "metadata": {},
   "outputs": [
    {
     "name": "stdout",
     "output_type": "stream",
     "text": [
      "(4,) (4, 4)\n"
     ]
    }
   ],
   "source": [
    "param_list = ['K','P','T0']\n",
    "\n",
    "test_t = np.array([2340, 2350, 2380, 2400]) # in Barycentric Julian Dates\n",
    "#test_t = np.array([2340, 2350, 2360, 2380]) # in Barycentric Julian Dates\n",
    "#test_t = np.linspace(2340, 2380, 41) # in Barycentric Julian Dates\n",
    "\n",
    "test_T0 = 2360 # BJD\n",
    "test_K = 500 # 5 m/s to cm/s\n",
    "test_P = 10 # days\n",
    "test_sigma = np.diag(np.ones(len(test_t))*30) # cm/s\n",
    "print(test_t.shape, test_sigma.shape)\n"
   ]
  },
  {
   "cell_type": "code",
   "execution_count": 5,
   "id": "caf706ef-381d-477e-95f4-df0a7e99fea2",
   "metadata": {},
   "outputs": [
    {
     "name": "stderr",
     "output_type": "stream",
     "text": [
      "/tmp/ipykernel_2956365/564434563.py:60: RuntimeWarning: divide by zero encountered in true_divide\n",
      "  factor2 = 1/sigma**2\n"
     ]
    },
    {
     "data": {
      "text/plain": [
       "array([[ 1.66639976e-33, -2.13741188e-15,  2.56489426e-16],\n",
       "       [-2.13741188e-15,  2.74155678e+03, -3.28986813e+02],\n",
       "       [ 2.56489426e-16, -3.28986813e+02,  4.38649084e+02]])"
      ]
     },
     "execution_count": 5,
     "metadata": {},
     "output_type": "execute_result"
    }
   ],
   "source": [
    "test_theta = [test_K, test_P, test_T0]\n",
    "calculate_fim(test_t, test_sigma, test_theta)"
   ]
  },
  {
   "cell_type": "code",
   "execution_count": 6,
   "id": "643be50b-7939-4add-9c22-77cb59838272",
   "metadata": {},
   "outputs": [
    {
     "name": "stderr",
     "output_type": "stream",
     "text": [
      "/tmp/ipykernel_2956365/564434563.py:60: RuntimeWarning: divide by zero encountered in true_divide\n",
      "  factor2 = 1/sigma**2\n"
     ]
    },
    {
     "data": {
      "text/plain": [
       "1.666399758513175e-33"
      ]
     },
     "execution_count": 6,
     "metadata": {},
     "output_type": "execute_result"
    }
   ],
   "source": [
    "calculate_fim(test_t, test_sigma, test_theta)[0][0]"
   ]
  },
  {
   "cell_type": "code",
   "execution_count": 7,
   "id": "e4ced312-ef6c-42d3-8022-8238138bd4fa",
   "metadata": {},
   "outputs": [
    {
     "name": "stderr",
     "output_type": "stream",
     "text": [
      "/tmp/ipykernel_2956365/564434563.py:60: RuntimeWarning: divide by zero encountered in true_divide\n",
      "  factor2 = 1/sigma**2\n"
     ]
    },
    {
     "data": {
      "text/plain": [
       "-3.3652495654758422e-43"
      ]
     },
     "execution_count": 7,
     "metadata": {},
     "output_type": "execute_result"
    }
   ],
   "source": [
    "det(calculate_fim(test_t, test_sigma, test_theta))"
   ]
  },
  {
   "cell_type": "code",
   "execution_count": 8,
   "id": "75618d6f-2324-4443-9673-0a409287de16",
   "metadata": {},
   "outputs": [
    {
     "name": "stderr",
     "output_type": "stream",
     "text": [
      "/tmp/ipykernel_2956365/564434563.py:60: RuntimeWarning: divide by zero encountered in true_divide\n",
      "  factor2 = 1/sigma**2\n"
     ]
    },
    {
     "data": {
      "text/plain": [
       "array([[-3.25191052e+48, -2.53530120e+30,  1.60664679e+13],\n",
       "       [-2.53530120e+30, -1.97660795e+12,  3.13149263e-04],\n",
       "       [ 0.00000000e+00,  3.00623292e-04,  2.50519410e-03]])"
      ]
     },
     "execution_count": 8,
     "metadata": {},
     "output_type": "execute_result"
    }
   ],
   "source": [
    "inv(calculate_fim(test_t, test_sigma, test_theta))"
   ]
  },
  {
   "cell_type": "markdown",
   "id": "9e9d7660-0c96-4c76-90e7-199b032295d6",
   "metadata": {},
   "source": [
    "### What happens to the expected uncertainty on K when you incrementally add observations? \n",
    "\n",
    "${{\\sigma}_k}^2$ is the top-leftmost cell of the inverse of the FIM. The second diagonal term is ${{\\sigma}_P}^2$, and so forth. The off-diagonals contain information about the uncertainties on our uncertainties for each parameter pair, but we will ignore those for now(/forever) because our priors on P and T0 from TESS will be quite strong. "
   ]
  },
  {
   "cell_type": "markdown",
   "id": "c549f8b6-adf4-4428-b84e-1954bb40c93b",
   "metadata": {},
   "source": [
    "For reference:\n",
    "\n",
    "K = 10 cm/s is gold standard. As an upper bound for K, try up to 100 m/s if I only have 10 observations. \n",
    "\n",
    "As for N_obs, there are standard stars with 1000s of observations. But 100 would be our upper limit for TESS stars. "
   ]
  },
  {
   "cell_type": "code",
   "execution_count": 9,
   "id": "a0d690bd-ea8a-416b-9537-501f7d96f5e9",
   "metadata": {},
   "outputs": [
    {
     "name": "stdout",
     "output_type": "stream",
     "text": [
      "[nan, 77.43352187572097, 21.097996079939175, 20.896806627714273, 19.743065550785943, 17.97178294634297, 15.84346385787988, 14.013067243073351, 13.786245293433511, 13.634147492972621, 13.026678393732409, 12.09388466597271, 11.253661535695938, 11.090923117356386, 11.04875227883207, 10.732819784413193, 10.182043476508868, 9.673206479472846, 9.5537102589733, 9.537212637459858, 9.339101807400002, 8.965686242512453, 8.61529766981624, 8.52367030477876, 8.515799124256144, 8.377736790895744, 8.103366480659835, 7.843204361014961, 7.77033964037522, 7.7660664179557095, 7.663141762150121, 7.450629235229334, 7.247599572200858, 7.187965110425009, 7.185424772406647, 7.105035232006432, 6.934181932437809, 6.7700254726556395, 6.720094813968561, 6.718479537545975, 6.653516632632693, 6.512288582810893, 6.375995695472347, 6.333416859126473, 6.332335108760056, 6.278459928166207, 6.159184717273299, 6.043669513793351, 6.006811482669014, 6.0060565607673615, 5.960457146182527, 5.857982550656342, 5.758450236692388, 5.726144040690653, 5.725599241652472, 5.68636545899073, 5.597086585702028, 5.510161176369995, 5.481545269839747, 5.481141022088873, 5.446925223483217, 5.368234333928446, 5.291460753258064, 5.265884855800837, 5.265577785006654, 5.235399060047183, 5.165356954275908, 5.096901306681086, 5.073864431913983, 5.0736264597030925, 5.046751957178534, 4.983882675248628, 4.922343738213679, 4.9014529900632855, 4.901265348080832, 4.877135276510233, 4.820292924851108, 4.7645791590257565, 4.74552157650682, 4.745371368110677, 4.723549904954864, 4.671829462140311, 4.6210762213334355, 4.603599070623673, 4.603477218084802, 4.58361939450549, 4.536295305371125, 4.489807586028812, 4.473704268100734, 4.473604245169771, 4.455433015920425, 4.411915891667497, 4.369127803742204, 4.354227584298706, 4.354144610305376, 4.3374346085974524, 4.297240044925782, 4.257685522440516, 4.243845919109202, 4.243776433026167]\n",
      "[-1.7309960787562878e+16, 5995.950310077758, 445.12543858912875, 436.6765272360832, 389.7886373426307, 322.98498227046395, 251.01534701594602, 196.36605355889537, 190.06055929071763, 185.8899778601316, 169.69434997373477, 146.26204631384988, 126.64489796000227, 123.00857559511032, 122.0749269189969, 115.19342052469126, 103.6740093575168, 93.57092359451543, 91.27337971241167, 90.95842489212401, 87.21882256898198, 80.38352979917705, 74.22335393954114, 72.65295546456723, 72.51883472468171, 70.18647373752813, 65.66454831988136, 61.51585464864411, 60.3781781267865, 60.31178760809942, 58.72374166680927, 55.511876000854045, 52.52769955896606, 51.666842428687204, 51.63032915991512, 50.48152564805269, 48.08287907214695, 45.833244900406214, 45.15967430872714, 45.13796729642398, 44.269283580719886, 42.40990258580911, 40.6533211086819, 40.11216911146744, 40.09846792963523, 39.41905906958881, 37.93555638149297, 36.52594119195517, 36.08178418832432, 36.07271541113667, 35.52704939147836, 34.31595956379417, 33.15974912846262, 32.788725574737086, 32.78248667601136, 32.33475213320286, 31.32737824784559, 30.36187618957517, 30.047338545302498, 30.042906904025457, 29.66899439021769, 28.81793986396819, 27.999556903270392, 27.7295433145526, 27.726309409955576, 27.409403317942928, 26.68091246508649, 25.978402930047363, 25.744100273441806, 25.741685452599338, 25.469705317285364, 24.839086520643423, 24.229467877131416, 24.024241413800326, 24.022402012297924, 23.78644850538055, 23.23522388136965, 22.70121456262258, 22.519975033091775, 22.518549421284593, 22.31192370459911, 21.825990523322222, 21.354345443373305, 21.193124403047147, 21.192002497425783, 21.009566753686876, 20.577975097532107, 20.15837215956187, 20.01402987842273, 20.013134942400992, 19.850883359353773, 19.465001835148204, 19.089277765433177, 18.959297855867746, 18.958575287451357, 18.813338983858937, 18.466272003713737, 18.127886007999567, 18.010228185139834, 18.0096384135083]\n"
     ]
    },
    {
     "name": "stderr",
     "output_type": "stream",
     "text": [
      "/tmp/ipykernel_2956365/564434563.py:60: RuntimeWarning: divide by zero encountered in true_divide\n",
      "  factor2 = 1/sigma**2\n",
      "/tmp/ipykernel_2956365/4146620610.py:29: RuntimeWarning: invalid value encountered in sqrt\n",
      "  sigma_k = np.sqrt(inv_fim)[0][0]\n"
     ]
    }
   ],
   "source": [
    "test_T0 = 2360 # BJD\n",
    "test_K = 500 # 5 m/s to 500 cm/s; it worked for 10000 cm/s\n",
    "test_P = 10 # days\n",
    "\n",
    "test_theta = [test_K, test_P, test_T0]\n",
    "\n",
    "test_t = np.linspace(2340, 2440, 101)\n",
    "buffer = 2 # anything less and either sigma_k blows up, or I get det(fim)=0\n",
    "sigma_ks = []\n",
    "sigma_ks_squared = []\n",
    "for i in range(len(test_t)-(buffer-1)):\n",
    "    # create time series and appropriately sized covariance matrix\n",
    "    test_t_temp = test_t[:i+buffer]\n",
    "    test_sigma = np.diag(np.ones(len(test_t_temp))*30) # cm/s\n",
    "    \n",
    "    # calculate FIM\n",
    "    fim = calculate_fim(test_t_temp, test_sigma, test_theta)\n",
    "    #print(test_t_temp)\n",
    "    #print(fim)\n",
    "    #print(det(fim))\n",
    "    \n",
    "    # invert the FIM\n",
    "    try:\n",
    "        inv_fim = inv(fim)\n",
    "    except:\n",
    "        print(\"determinant of singular matrix is: \", det(fim), \" for \", fim)\n",
    "    \n",
    "    # calculate sigma_k\n",
    "    sigma_k = np.sqrt(inv_fim)[0][0]\n",
    "    sigma_k_squared = inv_fim[0][0]\n",
    "    sigma_ks.append(sigma_k)\n",
    "    sigma_ks_squared.append(sigma_k_squared)\n",
    "    #print(\"sigma: \", sigma_k)\n",
    "\n",
    "print(sigma_ks)\n",
    "print(sigma_ks_squared)"
   ]
  },
  {
   "cell_type": "code",
   "execution_count": 10,
   "id": "a2fa1cda-ff81-4d20-bb94-fe347e9b0d31",
   "metadata": {},
   "outputs": [
    {
     "data": {
      "text/plain": [
       "[]"
      ]
     },
     "execution_count": 10,
     "metadata": {},
     "output_type": "execute_result"
    },
    {
     "data": {
      "image/png": "[encoded data removed]",
      "text/plain": [
       "<Figure size 640x480 with 1 Axes>"
      ]
     },
     "metadata": {},
     "output_type": "display_data"
    }
   ],
   "source": [
    "plt.scatter(range(len(sigma_ks)), sigma_ks, s=5)\n",
    "plt.xlabel('number of observations')\n",
    "plt.ylabel(r\"$\\sigma_k$[cm/s]\")\n",
    "#plt.savefig('obs-vs-sigma_k.pdf', format='pdf')\n",
    "plt.plot()"
   ]
  },
  {
   "cell_type": "markdown",
   "id": "873169d9-ef27-4fcf-bb34-3cb9285dbf36",
   "metadata": {
    "tags": []
   },
   "source": [
    "#### Side worry: sometimes, my FIMs are singular and can't be inverted. \n",
    "\n",
    "Upon inspection, it looks like the determinants are sometimes (rarely, but sometimes) zero, especially when there are very (too?) few observations. Upon further inspection, it looks like the matrix terms that go into calculating the determinants are often really small - like, smaller than machine epsilon small. What to do about it? Just ignore it? Uniformly add a scalar value to all matrix terms? "
   ]
  },
  {
   "cell_type": "markdown",
   "id": "54e752b8-7448-4c01-b823-fbc673c6cb54",
   "metadata": {},
   "source": [
    "I'm going to try a few things. \n",
    "\n",
    "First, let's just make a fiducial FIM and run det(fim). Then, let's run symbolic det on it. Then, let's manually compute det(fim). "
   ]
  },
  {
   "cell_type": "code",
   "execution_count": 11,
   "id": "c84291e7-94b9-406c-be80-35298f195438",
   "metadata": {},
   "outputs": [
    {
     "name": "stdout",
     "output_type": "stream",
     "text": [
      "[2340.         2340.54545455]\n",
      "[[ 1.25476883e-04 -2.14936766e-01 -1.10481515e-01]\n",
      " [-2.14936766e-01  8.06826970e+02  4.08574857e+02]\n",
      " [-1.10481515e-01  4.08574857e+02  2.06940470e+02]]\n",
      "0.0\n"
     ]
    },
    {
     "name": "stderr",
     "output_type": "stream",
     "text": [
      "/tmp/ipykernel_2956365/564434563.py:60: RuntimeWarning: divide by zero encountered in true_divide\n",
      "  factor2 = 1/sigma**2\n"
     ]
    },
    {
     "ename": "LinAlgError",
     "evalue": "Singular matrix",
     "output_type": "error",
     "traceback": [
      "\u001b[0;31m---------------------------------------------------------------------------\u001b[0m",
      "\u001b[0;31mLinAlgError\u001b[0m                               Traceback (most recent call last)",
      "Input \u001b[0;32mIn [11]\u001b[0m, in \u001b[0;36m<cell line: 15>\u001b[0;34m()\u001b[0m\n\u001b[1;32m     13\u001b[0m \u001b[38;5;28mprint\u001b[39m(fim) \n\u001b[1;32m     14\u001b[0m \u001b[38;5;28mprint\u001b[39m(det(fim))\n\u001b[0;32m---> 15\u001b[0m \u001b[38;5;28mprint\u001b[39m(\u001b[43minv\u001b[49m\u001b[43m(\u001b[49m\u001b[43mfim\u001b[49m\u001b[43m)\u001b[49m)\n\u001b[1;32m     17\u001b[0m \u001b[38;5;124;03m\"\"\"\u001b[39;00m\n\u001b[1;32m     18\u001b[0m \u001b[38;5;124;03mfor i in range(len(test_t)-3):\u001b[39;00m\n\u001b[1;32m     19\u001b[0m \u001b[38;5;124;03m    # create time series and appropriately sized covariance matrix\u001b[39;00m\n\u001b[0;32m   (...)\u001b[0m\n\u001b[1;32m     25\u001b[0m \u001b[38;5;124;03m    dfadfdsf\u001b[39;00m\n\u001b[1;32m     26\u001b[0m \u001b[38;5;124;03m\"\"\"\u001b[39;00m\n",
      "File \u001b[0;32m<__array_function__ internals>:5\u001b[0m, in \u001b[0;36minv\u001b[0;34m(*args, **kwargs)\u001b[0m\n",
      "File \u001b[0;32m~/scheduling/lib/python3.8/site-packages/numpy/linalg/linalg.py:545\u001b[0m, in \u001b[0;36minv\u001b[0;34m(a)\u001b[0m\n\u001b[1;32m    543\u001b[0m signature \u001b[38;5;241m=\u001b[39m \u001b[38;5;124m'\u001b[39m\u001b[38;5;124mD->D\u001b[39m\u001b[38;5;124m'\u001b[39m \u001b[38;5;28;01mif\u001b[39;00m isComplexType(t) \u001b[38;5;28;01melse\u001b[39;00m \u001b[38;5;124m'\u001b[39m\u001b[38;5;124md->d\u001b[39m\u001b[38;5;124m'\u001b[39m\n\u001b[1;32m    544\u001b[0m extobj \u001b[38;5;241m=\u001b[39m get_linalg_error_extobj(_raise_linalgerror_singular)\n\u001b[0;32m--> 545\u001b[0m ainv \u001b[38;5;241m=\u001b[39m \u001b[43m_umath_linalg\u001b[49m\u001b[38;5;241;43m.\u001b[39;49m\u001b[43minv\u001b[49m\u001b[43m(\u001b[49m\u001b[43ma\u001b[49m\u001b[43m,\u001b[49m\u001b[43m \u001b[49m\u001b[43msignature\u001b[49m\u001b[38;5;241;43m=\u001b[39;49m\u001b[43msignature\u001b[49m\u001b[43m,\u001b[49m\u001b[43m \u001b[49m\u001b[43mextobj\u001b[49m\u001b[38;5;241;43m=\u001b[39;49m\u001b[43mextobj\u001b[49m\u001b[43m)\u001b[49m\n\u001b[1;32m    546\u001b[0m \u001b[38;5;28;01mreturn\u001b[39;00m wrap(ainv\u001b[38;5;241m.\u001b[39mastype(result_t, copy\u001b[38;5;241m=\u001b[39m\u001b[38;5;28;01mFalse\u001b[39;00m))\n",
      "File \u001b[0;32m~/scheduling/lib/python3.8/site-packages/numpy/linalg/linalg.py:88\u001b[0m, in \u001b[0;36m_raise_linalgerror_singular\u001b[0;34m(err, flag)\u001b[0m\n\u001b[1;32m     87\u001b[0m \u001b[38;5;28;01mdef\u001b[39;00m \u001b[38;5;21m_raise_linalgerror_singular\u001b[39m(err, flag):\n\u001b[0;32m---> 88\u001b[0m     \u001b[38;5;28;01mraise\u001b[39;00m LinAlgError(\u001b[38;5;124m\"\u001b[39m\u001b[38;5;124mSingular matrix\u001b[39m\u001b[38;5;124m\"\u001b[39m)\n",
      "\u001b[0;31mLinAlgError\u001b[0m: Singular matrix"
     ]
    }
   ],
   "source": [
    "test_t = np.linspace(2340, 2400, 111) # 2340 to 2450, vs 2340 to 2400, for 111 obs\n",
    "dets = []\n",
    "sigma_ks_squared = []\n",
    "\n",
    "# create time series and appropriately sized covariance matrix\n",
    "test_t_temp = test_t[:2]\n",
    "print(test_t_temp)\n",
    "test_sigma = np.diag(np.ones(len(test_t_temp))*30) # cm/s\n",
    "\n",
    "# calculate FIM\n",
    "fim = calculate_fim(test_t_temp, test_sigma, test_theta)\n",
    "\n",
    "print(fim) \n",
    "print(det(fim))\n",
    "print(inv(fim))\n",
    "\n",
    "\"\"\"\n",
    "for i in range(len(test_t)-3):\n",
    "    # create time series and appropriately sized covariance matrix\n",
    "    test_t_temp = test_t[:i+4]\n",
    "    test_sigma = np.diag(np.ones(len(test_t_temp))*30) # cm/s\n",
    "    \n",
    "    # calculate FIM\n",
    "    fim = calculate_fim(test_t_temp, test_sigma, test_theta)\n",
    "    dfadfdsf\n",
    "\"\"\""
   ]
  },
  {
   "cell_type": "markdown",
   "id": "17454424-488e-4276-8b98-0864bfa0a97f",
   "metadata": {},
   "source": [
    "^This is how I first noitced this problem. det(fim) is 0, and so inv(fim) errors out. \n",
    "\n",
    "EDIT: Upon even further inspection, it looks like sometimes just changing the time bound (while holding n_obs constant) will change an FIM from invertible to degenerate. For example, going from 2340-2450, to 2340-2400 BJD for 111 observations makes the FIM singular. Similarly, changing the number of observations for the same time support can make or break the matrix. Holding t at 2340-2400, going from 61 to 60 observations corrects the degeneracy of the matrix. (see below)\n",
    "\n",
    "What if I manually calculated the determinant?"
   ]
  },
  {
   "cell_type": "code",
   "execution_count": null,
   "id": "b3fc4b19-e740-4821-bf20-a03ee397d55a",
   "metadata": {},
   "outputs": [],
   "source": [
    "1.25476883e-04*(8.06826970e+02*2.06940470e+02 - 4.08574857e+02*4.08574857e+02)"
   ]
  },
  {
   "cell_type": "code",
   "execution_count": 12,
   "id": "2d68d3d3-c0f3-41bd-a1cf-1267a0586790",
   "metadata": {},
   "outputs": [
    {
     "data": {
      "text/plain": [
       "-0.14204178199869455"
      ]
     },
     "execution_count": 12,
     "metadata": {},
     "output_type": "execute_result"
    }
   ],
   "source": [
    " -2.14936766e-01 * (-2.14936766e-01 *2.06940470e+02 - -1.10481515e-01*4.08574857e+02)"
   ]
  },
  {
   "cell_type": "code",
   "execution_count": 13,
   "id": "2c88f3dd-0a98-41a9-8893-518ee692a927",
   "metadata": {},
   "outputs": [
    {
     "data": {
      "text/plain": [
       "-0.14602425317019033"
      ]
     },
     "execution_count": 13,
     "metadata": {},
     "output_type": "execute_result"
    }
   ],
   "source": [
    "-1.10481515e-01*(-2.14936766e-01*4.08574857e+02 - 8.06826970e+02*-1.10481515e-01)"
   ]
  },
  {
   "cell_type": "code",
   "execution_count": 14,
   "id": "55e27380-9681-4b90-a8ee-fea3e0497207",
   "metadata": {},
   "outputs": [
    {
     "data": {
      "text/plain": [
       "-9.58076365464855e-09"
      ]
     },
     "execution_count": 14,
     "metadata": {},
     "output_type": "execute_result"
    }
   ],
   "source": [
    "0.00398246159073211 - -0.14204178199869455 + -0.14602425317019033"
   ]
  },
  {
   "cell_type": "code",
   "execution_count": 15,
   "id": "10b905db-76fc-4891-b4d2-1671cfdaa00d",
   "metadata": {},
   "outputs": [
    {
     "data": {
      "text/plain": [
       "0.0"
      ]
     },
     "execution_count": 15,
     "metadata": {},
     "output_type": "execute_result"
    }
   ],
   "source": [
    "det(fim)"
   ]
  },
  {
   "cell_type": "code",
   "execution_count": 17,
   "id": "8e7cfffa-c6e4-4e4b-838c-0375a3e771fe",
   "metadata": {},
   "outputs": [],
   "source": [
    "import sympy as sp\n",
    "from sympy import *\n",
    "from sympy.matrices import Matrix"
   ]
  },
  {
   "cell_type": "code",
   "execution_count": 18,
   "id": "7a2b4bb2-8494-4ad4-80ec-7ecf379ee9de",
   "metadata": {},
   "outputs": [],
   "source": [
    "M = sp.Matrix(fim)"
   ]
  },
  {
   "cell_type": "code",
   "execution_count": 19,
   "id": "64ab7699-9226-40fc-a273-86decc6d487e",
   "metadata": {},
   "outputs": [
    {
     "data": {
      "text/latex": [
       "$\\displaystyle 1.77635683940025 \\cdot 10^{-15}$"
      ],
      "text/plain": [
       "1.77635683940025e-15"
      ]
     },
     "execution_count": 19,
     "metadata": {},
     "output_type": "execute_result"
    }
   ],
   "source": [
    "M.det()"
   ]
  },
  {
   "cell_type": "markdown",
   "id": "7a26ee5f-bf92-48c3-81c1-59934a2d1061",
   "metadata": {},
   "source": [
    "Why do these three methods mismatch??\n",
    "\n",
    "Scarier scenario: even for the well-behaved FIMs, do manual, linalg, and sympy all disagree as well? Only one way to find out."
   ]
  },
  {
   "cell_type": "code",
   "execution_count": 16,
   "id": "886e0506-9f49-458f-ad59-bed7a2194a4a",
   "metadata": {},
   "outputs": [
    {
     "name": "stdout",
     "output_type": "stream",
     "text": [
      "[2340. 2341.]\n",
      "[[ 3.83879448e-04 -3.15382284e-01 -1.65990676e-01]\n",
      " [-3.15382284e-01  6.97756431e+02  3.55696830e+02]\n",
      " [-1.65990676e-01  3.55696830e+02  1.81437159e+02]]\n",
      "-4.547091327363591e-15\n",
      "[[-1.73099608e+16  4.00319967e+14 -8.00639934e+14]\n",
      " [ 4.00319967e+14 -9.25802651e+12  1.85160530e+13]\n",
      " [-8.00639934e+14  1.85160530e+13 -3.70321060e+13]]\n"
     ]
    },
    {
     "name": "stderr",
     "output_type": "stream",
     "text": [
      "/tmp/ipykernel_2956365/564434563.py:60: RuntimeWarning: divide by zero encountered in true_divide\n",
      "  factor2 = 1/sigma**2\n"
     ]
    }
   ],
   "source": [
    "from numpy.linalg import inv, det\n",
    "\n",
    "test_t = np.linspace(2340, 2400, 61) # 2340 to 2450, vs 2340 to 2400, for 111 obs\n",
    "dets = []\n",
    "sigma_ks_squared = []\n",
    "\n",
    "# create time series and appropriately sized covariance matrix\n",
    "test_t_temp = test_t[:2]\n",
    "print(test_t_temp)\n",
    "test_sigma = np.diag(np.ones(len(test_t_temp))*30) # cm/s\n",
    "\n",
    "# calculate FIM\n",
    "fim = calculate_fim(test_t_temp, test_sigma, test_theta)\n",
    "\n",
    "print(fim) \n",
    "print(det(fim))\n",
    "print(inv(fim))"
   ]
  },
  {
   "cell_type": "code",
   "execution_count": 21,
   "id": "da76894a-a6c2-40a7-b4d5-10748282756b",
   "metadata": {},
   "outputs": [
    {
     "data": {
      "text/plain": [
       "1.820291654865919"
      ]
     },
     "execution_count": 21,
     "metadata": {},
     "output_type": "execute_result"
    }
   ],
   "source": [
    "-3.15382284e-01*1.81437159e+02 - -1.65990676e-01*3.55696830e+02"
   ]
  },
  {
   "cell_type": "code",
   "execution_count": 22,
   "id": "ff0f07f9-25dd-4060-91ae-02f9c7b5a7bb",
   "metadata": {},
   "outputs": [
    {
     "data": {
      "text/plain": [
       "-57.22206560789116"
      ]
     },
     "execution_count": 22,
     "metadata": {},
     "output_type": "execute_result"
    }
   ],
   "source": [
    "-3.15382284e-01*1.81437159e+02"
   ]
  },
  {
   "cell_type": "code",
   "execution_count": 23,
   "id": "0fd5a029-ce73-4928-a200-98d87dc0d412",
   "metadata": {},
   "outputs": [
    {
     "data": {
      "text/plain": [
       "-59.04235726275708"
      ]
     },
     "execution_count": 23,
     "metadata": {},
     "output_type": "execute_result"
    }
   ],
   "source": [
    "-1.65990676e-01*3.55696830e+02"
   ]
  },
  {
   "cell_type": "code",
   "execution_count": null,
   "id": "511fc138-c9d2-482e-953a-dea1edf7e392",
   "metadata": {},
   "outputs": [],
   "source": []
  },
  {
   "cell_type": "code",
   "execution_count": 24,
   "id": "d4480c18-fc91-4f06-95fd-6595ee3c54b9",
   "metadata": {},
   "outputs": [
    {
     "data": {
      "text/plain": [
       "0.030215014142300333"
      ]
     },
     "execution_count": 24,
     "metadata": {},
     "output_type": "execute_result"
    }
   ],
   "source": [
    "3.83879448e-04*(6.97756431e+02*1.81437159e+02 - 3.55696830e+02*3.55696830e+02)"
   ]
  },
  {
   "cell_type": "code",
   "execution_count": 25,
   "id": "26fbc7d0-be24-4590-95d6-8153acff3b64",
   "metadata": {},
   "outputs": [
    {
     "data": {
      "text/plain": [
       "-0.5740877396577533"
      ]
     },
     "execution_count": 25,
     "metadata": {},
     "output_type": "execute_result"
    }
   ],
   "source": [
    "-3.15382284e-01*(-3.15382284e-01*1.81437159e+02 - -1.65990676e-01*3.55696830e+02)"
   ]
  },
  {
   "cell_type": "code",
   "execution_count": 26,
   "id": "ec425ba6-e014-4603-8b58-c8c329b7d6fd",
   "metadata": {},
   "outputs": [
    {
     "data": {
      "text/plain": [
       "-0.6043028345449212"
      ]
     },
     "execution_count": 26,
     "metadata": {},
     "output_type": "execute_result"
    }
   ],
   "source": [
    "-1.65990676e-01*(-3.15382284e-01*3.55696830e+02 - 6.97756431e+02 * -1.65990676e-01)"
   ]
  },
  {
   "cell_type": "code",
   "execution_count": 27,
   "id": "dda1c92a-773e-4ea4-9a61-f0dd064c5b7e",
   "metadata": {},
   "outputs": [
    {
     "data": {
      "text/plain": [
       "-8.074486756992627e-08"
      ]
     },
     "execution_count": 27,
     "metadata": {},
     "output_type": "execute_result"
    }
   ],
   "source": [
    "0.030215014142300333 - -0.5740877396577533 + -0.6043028345449212"
   ]
  },
  {
   "cell_type": "code",
   "execution_count": 28,
   "id": "ab275fc6-0bbc-4f34-804f-40d260d4cfed",
   "metadata": {},
   "outputs": [
    {
     "data": {
      "text/latex": [
       "$\\displaystyle -3.5527136788005 \\cdot 10^{-15}$"
      ],
      "text/plain": [
       "-3.55271367880050e-15"
      ]
     },
     "execution_count": 28,
     "metadata": {},
     "output_type": "execute_result"
    }
   ],
   "source": [
    "M = sp.Matrix(fim)\n",
    "M.det()"
   ]
  },
  {
   "cell_type": "markdown",
   "id": "b64b2ce0-dbe1-4bc9-a9e7-3b392fdf3744",
   "metadata": {},
   "source": [
    "Aaaand, wolfram says -8e-8 (https://www.wolframalpha.com/input?i2d=true&i=%7B%7B3.83879448e-04%2C-3.15382284e-01%2C-1.65990676e-01%7D%2C%7B-3.15382284e-01%2C6.97756431e%2B02%2C3.55696830e%2B02%7D%2C%7B-1.65990676e-01%2C3.55696830e%2B02%2C1.81437159e%2B02%7D%7D). So sympy and linalg agree-ish (at least they're same order of magnitude), but they heavily disagree with manual and wolfram, which agree with each other.\n",
    "\n",
    "I don't like this at all..."
   ]
  },
  {
   "cell_type": "code",
   "execution_count": 50,
   "id": "7ce725e5-91ad-4730-8143-72a7d6e5dfa4",
   "metadata": {},
   "outputs": [
    {
     "data": {
      "text/plain": [
       "-4.547091327363593e-15"
      ]
     },
     "execution_count": 50,
     "metadata": {},
     "output_type": "execute_result"
    }
   ],
   "source": [
    "import scipy\n",
    "scipy.linalg.det(fim)"
   ]
  },
  {
   "cell_type": "markdown",
   "id": "b81a3e1e-db4e-4015-9602-fc4f3ca2172e",
   "metadata": {},
   "source": [
    "At least scipy and numpy agree (I needed a small win). "
   ]
  },
  {
   "cell_type": "markdown",
   "id": "05a00228-3cfd-48b7-9c05-0691a461d064",
   "metadata": {},
   "source": [
    "#### Let's try bumping all elements up by a scalar factor to get everyone comfortably larger than machine epsilon.\n",
    "\n",
    "inv(kA) = inv(A)/k, so it should be safe to do this...?"
   ]
  },
  {
   "cell_type": "code",
   "execution_count": 17,
   "id": "572eea0d-64e6-4995-9a84-a7e331dc7b7d",
   "metadata": {},
   "outputs": [
    {
     "data": {
      "text/plain": [
       "array([[ 3.83879448e+00, -3.15382284e+03, -1.65990676e+03],\n",
       "       [-3.15382284e+03,  6.97756431e+06,  3.55696830e+06],\n",
       "       [-1.65990676e+03,  3.55696830e+06,  1.81437159e+06]])"
      ]
     },
     "execution_count": 17,
     "metadata": {},
     "output_type": "execute_result"
    }
   ],
   "source": [
    "fim*1e4"
   ]
  },
  {
   "cell_type": "code",
   "execution_count": 61,
   "id": "464ea321-261e-429c-9d07-9198f1bc43df",
   "metadata": {},
   "outputs": [
    {
     "data": {
      "text/plain": [
       "-0.0002483318143584188"
      ]
     },
     "execution_count": 61,
     "metadata": {},
     "output_type": "execute_result"
    }
   ],
   "source": [
    "from numpy.linalg import inv, det\n",
    "\n",
    "det(fim*1e4)"
   ]
  },
  {
   "cell_type": "code",
   "execution_count": 25,
   "id": "d892c714-2c1e-42d1-a846-ba7f9745a49a",
   "metadata": {},
   "outputs": [
    {
     "data": {
      "text/plain": [
       "-4.5470913273635905e-11"
      ]
     },
     "execution_count": 25,
     "metadata": {},
     "output_type": "execute_result"
    }
   ],
   "source": [
    "det(fim)*1e4"
   ]
  },
  {
   "cell_type": "markdown",
   "id": "bc81b733-655d-4677-a4f7-8cb22dd0505e",
   "metadata": {},
   "source": [
    "Wew. That's not supposed to happen, right?"
   ]
  },
  {
   "cell_type": "code",
   "execution_count": 22,
   "id": "f362de6e-9f72-4348-9b5c-9e27b4451835",
   "metadata": {},
   "outputs": [
    {
     "data": {
      "text/plain": [
       "30215014142.29632"
      ]
     },
     "execution_count": 22,
     "metadata": {},
     "output_type": "execute_result"
    }
   ],
   "source": [
    "3.83879448e+00*(6.97756431e+06*1.81437159e+06 - 3.55696830e+06*3.55696830e+06)"
   ]
  },
  {
   "cell_type": "code",
   "execution_count": 23,
   "id": "ebb6137f-138a-430a-9426-d5e5368cacd2",
   "metadata": {},
   "outputs": [
    {
     "data": {
      "text/plain": [
       "-574087739657.7544"
      ]
     },
     "execution_count": 23,
     "metadata": {},
     "output_type": "execute_result"
    }
   ],
   "source": [
    "-3.15382284e+03*(-3.15382284e+03*1.81437159e+06 - -1.65990676e+03*3.55696830e+06)"
   ]
  },
  {
   "cell_type": "code",
   "execution_count": 24,
   "id": "a18e150b-ecb5-4727-b437-57dfac64e360",
   "metadata": {},
   "outputs": [
    {
     "data": {
      "text/plain": [
       "-604302834544.921"
      ]
     },
     "execution_count": 24,
     "metadata": {},
     "output_type": "execute_result"
    }
   ],
   "source": [
    "-1.65990676e+03*(-3.15382284e+03*3.55696830e+06 - -1.65990676e+03*6.97756431e+06)"
   ]
  },
  {
   "cell_type": "code",
   "execution_count": 26,
   "id": "83cd0c24-3ded-4ad2-926f-71b3debf5d06",
   "metadata": {},
   "outputs": [
    {
     "data": {
      "text/plain": [
       "-80744.87036132812"
      ]
     },
     "execution_count": 26,
     "metadata": {},
     "output_type": "execute_result"
    }
   ],
   "source": [
    "30215014142.29632 - -574087739657.7544 + -604302834544.921"
   ]
  },
  {
   "cell_type": "code",
   "execution_count": 49,
   "id": "3a34a206-1930-4f5b-a8e5-4090c152328d",
   "metadata": {},
   "outputs": [
    {
     "name": "stdout",
     "output_type": "stream",
     "text": [
      "0.0117187500000000\n",
      "1.17187500000000e-6\n"
     ]
    }
   ],
   "source": [
    "import sympy as sp\n",
    "\n",
    "print(sp.Matrix(fim*1e4).det())\n",
    "print(sp.Matrix(fim*1e4).det()/1e4)"
   ]
  },
  {
   "cell_type": "code",
   "execution_count": 63,
   "id": "9d402f2d-788d-4af8-bad1-66de2ef6f759",
   "metadata": {},
   "outputs": [
    {
     "name": "stdout",
     "output_type": "stream",
     "text": [
      "-12.317257992177334\n",
      "-4.5470913273635904e-10\n"
     ]
    }
   ],
   "source": [
    "print(det(fim*1e5))\n",
    "print(det(fim)*1e5)"
   ]
  },
  {
   "cell_type": "code",
   "execution_count": null,
   "id": "da1d8132-2b03-4302-8401-6b15b6b78e08",
   "metadata": {},
   "outputs": [],
   "source": []
  },
  {
   "cell_type": "markdown",
   "id": "2cb87afa-01fe-41af-bb04-7c9be465ca89",
   "metadata": {},
   "source": [
    "Once again, Wolfram Alpha corroborates my manual determinant calculation and is much different from the np.linalg.det result: https://www.wolframalpha.com/input?i2d=true&i=%7B%7B3.83879448e-04%2C-3.15382284e-01%2C-1.65990676e-01%7D%2C%7B-3.15382284e-01%2C6.97756431e%2B02%2C3.55696830e%2B02%7D%2C%7B-1.65990676e-01%2C3.55696830e%2B02%2C1.81437159e%2B02%7D%7D\n",
    "\n",
    "Furthermore, the manual/Wolfram determinant for the FIM scaled up by 1e4 has a determinant that's exactly 1e12 times bigger (from log -8 to log 4). When I scale the FIM up by 1e5, its determinant is then 8e7. So, with every scale by an order of magnitude, my determinant scales by three orders of magnitude (probably because it's a 3x3 matrix). \n",
    "\n",
    "And this time, np.linalg.det and sympy.Matrix(fim).det() disagree. \n",
    "\n"
   ]
  },
  {
   "cell_type": "markdown",
   "id": "6eafea1e-4343-404c-bd6a-2f52fd74ceb8",
   "metadata": {},
   "source": [
    "Here's something from the Internet that can help: https://github.com/numpy/numpy/issues/6890"
   ]
  },
  {
   "cell_type": "code",
   "execution_count": 59,
   "id": "4f08467a-0995-4222-a9f2-d5e48bf273ba",
   "metadata": {},
   "outputs": [
    {
     "data": {
      "text/plain": [
       "-6.336521960140912e-17"
      ]
     },
     "execution_count": 59,
     "metadata": {},
     "output_type": "execute_result"
    }
   ],
   "source": [
    "det(fim/np.amax(fim, axis=0, keepdims=True))"
   ]
  },
  {
   "cell_type": "markdown",
   "id": "9de78a05-3df8-4210-b256-73b25cacb421",
   "metadata": {},
   "source": [
    "...\n",
    "\n",
    "I need to reorient myself. Here's a base case."
   ]
  },
  {
   "cell_type": "code",
   "execution_count": 53,
   "id": "f5e13e7d-3d20-4bb4-8ba1-6849857f487a",
   "metadata": {},
   "outputs": [
    {
     "name": "stdout",
     "output_type": "stream",
     "text": [
      "-2.0000000000000004\n",
      "-2\n"
     ]
    }
   ],
   "source": [
    "import sympy as sp\n",
    "\n",
    "a = np.array([[1, 2], [3,4]])\n",
    "print(det(a))\n",
    "print(sp.Matrix(a).det())\n"
   ]
  },
  {
   "cell_type": "markdown",
   "id": "44f0280a-ebd7-46f5-b35d-8263d64b062b",
   "metadata": {},
   "source": [
    "#### Other manual determinant calculations and scratch work for which I put too much time copy-pasting, so sunk-cost fallacy is making me not delete them...\"yet\""
   ]
  },
  {
   "cell_type": "code",
   "execution_count": 20,
   "id": "71a60dbc-e729-430d-a88e-85ed0adaad85",
   "metadata": {},
   "outputs": [
    {
     "data": {
      "text/plain": [
       "9.619110263099567e-29"
      ]
     },
     "execution_count": 20,
     "metadata": {},
     "output_type": "execute_result"
    }
   ],
   "source": [
    "3.99935942e-34*( 6.57973627e+02 * 4.38649084e+02 - 2.19324542e+02 * 2.19324542e+02) "
   ]
  },
  {
   "cell_type": "code",
   "execution_count": 21,
   "id": "81f14e11-d7a0-4e41-9f07-1d952bd31103",
   "metadata": {},
   "outputs": [
    {
     "data": {
      "text/plain": [
       "9.619110266435248e-29"
      ]
     },
     "execution_count": 21,
     "metadata": {},
     "output_type": "execute_result"
    }
   ],
   "source": [
    "-5.12978852e-16 * (-5.12978852e-16 *  4.38649084e+02 - -1.70992951e-16 * 2.19324542e+02)"
   ]
  },
  {
   "cell_type": "code",
   "execution_count": 22,
   "id": "10d5b0f6-4006-49f5-a1bc-58deffbaeb01",
   "metadata": {},
   "outputs": [
    {
     "data": {
      "text/plain": [
       "-6.674154045664273e-38"
      ]
     },
     "execution_count": 22,
     "metadata": {},
     "output_type": "execute_result"
    }
   ],
   "source": [
    "-1.70992951e-16 * (-5.12978852e-16 * 2.19324542e+02 - -1.70992951e-16*6.57973627e+02) "
   ]
  },
  {
   "cell_type": "code",
   "execution_count": 23,
   "id": "0392c4cb-fc54-4321-9d8d-c65a6c726eaf",
   "metadata": {},
   "outputs": [
    {
     "data": {
      "text/plain": [
       "-1.0009835178189898e-37"
      ]
     },
     "execution_count": 23,
     "metadata": {},
     "output_type": "execute_result"
    }
   ],
   "source": [
    "9.619110263099567e-29 - 9.619110266435248e-29 + -6.674154045664273e-38"
   ]
  },
  {
   "cell_type": "code",
   "execution_count": 15,
   "id": "6c57697e-7a94-4132-a47d-6e748a47b772",
   "metadata": {},
   "outputs": [
    {
     "data": {
      "text/plain": [
       "6493939.374514345"
      ]
     },
     "execution_count": 15,
     "metadata": {},
     "output_type": "execute_result"
    }
   ],
   "source": [
    "1.05275780e+04*9.86960440e+02 - 1.97392088e+03*1.97392088e+03"
   ]
  },
  {
   "cell_type": "code",
   "execution_count": 14,
   "id": "b088f08b-b2de-4b28-af75-0dd1e6254298",
   "metadata": {},
   "outputs": [
    {
     "data": {
      "text/plain": [
       "3896363.640499974"
      ]
     },
     "execution_count": 14,
     "metadata": {},
     "output_type": "execute_result"
    }
   ],
   "source": [
    "1.97392088e+03*1.97392088e+03"
   ]
  },
  {
   "cell_type": "code",
   "execution_count": 13,
   "id": "869c8942-7d1c-4cdb-baab-085f8c00693b",
   "metadata": {},
   "outputs": [
    {
     "data": {
      "text/plain": [
       "10390303.015014319"
      ]
     },
     "execution_count": 13,
     "metadata": {},
     "output_type": "execute_result"
    }
   ],
   "source": [
    "1.05275780e+04*9.86960440e+02"
   ]
  },
  {
   "cell_type": "code",
   "execution_count": 9,
   "id": "c4bc61d6-3fb5-40ec-9348-45a009f18fae",
   "metadata": {},
   "outputs": [
    {
     "data": {
      "text/plain": [
       "4.155455616360869e-26"
      ]
     },
     "execution_count": 9,
     "metadata": {},
     "output_type": "execute_result"
    }
   ],
   "source": [
    "6.39897507e-33 * (1.05275780e+04*9.86960440e+02 - 1.97392088e+03*1.97392088e+03)"
   ]
  },
  {
   "cell_type": "code",
   "execution_count": 10,
   "id": "b062ba63-4608-454b-b3aa-4f745261c93c",
   "metadata": {},
   "outputs": [
    {
     "data": {
      "text/plain": [
       "4.155455648018569e-26"
      ]
     },
     "execution_count": 10,
     "metadata": {},
     "output_type": "execute_result"
    }
   ],
   "source": [
    "-8.20766163e-15 * (-8.20766163e-15*9.86960440e+02 - 1.53893655e-15*(-1.97392088e+03))"
   ]
  },
  {
   "cell_type": "code",
   "execution_count": 11,
   "id": "fd7bce19-d341-4f5f-b378-e6d0b1020680",
   "metadata": {},
   "outputs": [
    {
     "data": {
      "text/plain": [
       "1.5428752258607994e-34"
      ]
     },
     "execution_count": 11,
     "metadata": {},
     "output_type": "execute_result"
    }
   ],
   "source": [
    "1.53893655e-15 * (-8.20766163e-15*-1.97392088e+03 - 1.05275780e+04*1.53893655e-15)"
   ]
  },
  {
   "cell_type": "code",
   "execution_count": 12,
   "id": "063173a5-3454-4cba-b74f-0709922777f9",
   "metadata": {},
   "outputs": [
    {
     "data": {
      "text/plain": [
       "-1.6228947576755225e-34"
      ]
     },
     "execution_count": 12,
     "metadata": {},
     "output_type": "execute_result"
    }
   ],
   "source": [
    "4.155455616360869e-26 - 4.155455648018569e-26 + 1.5428752258607994e-34"
   ]
  },
  {
   "cell_type": "code",
   "execution_count": null,
   "id": "9c9cda49-eb2d-42a1-8034-c907efd414a5",
   "metadata": {},
   "outputs": [],
   "source": []
  }
 ],
 "metadata": {
  "kernelspec": {
   "display_name": "scheduling",
   "language": "python",
   "name": "scheduling"
  },
  "language_info": {
   "codemirror_mode": {
    "name": "ipython",
    "version": 3
   },
   "file_extension": ".py",
   "mimetype": "text/x-python",
   "name": "python",
   "nbconvert_exporter": "python",
   "pygments_lexer": "ipython3",
   "version": "3.8.12"
  }
 },
 "nbformat": 4,
 "nbformat_minor": 5
}
